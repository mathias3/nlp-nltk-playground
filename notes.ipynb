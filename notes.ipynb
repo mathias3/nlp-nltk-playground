{
 "cells": [
  {
   "cell_type": "code",
   "execution_count": 459,
   "metadata": {
    "collapsed": true,
    "slideshow": {
     "slide_type": "skip"
    }
   },
   "outputs": [],
   "source": [
    "import pygal\n",
    "import pickle\n",
    "import csv\n",
    "from IPython.display import Image\n",
    "from IPython.core.display import HTML"
   ]
  },
  {
   "cell_type": "markdown",
   "metadata": {
    "slideshow": {
     "slide_type": "slide"
    }
   },
   "source": [
    "# Introduction to Natural Language Processing with Python"
   ]
  },
  {
   "cell_type": "markdown",
   "metadata": {
    "slideshow": {
     "slide_type": "slide"
    }
   },
   "source": [
    "## Contents\n",
    "- Introduction to Me\n",
    "- Introduction to Natural Language Processing\n",
    "- Why Python?\n",
    "- Introduction to Python\n",
    "- Gathering and Cleaning Data\n",
    "- Exploring and Analysing Data\n",
    "- A Little Project\n",
    "- Beyond NLTK\n",
    "- Links"
   ]
  },
  {
   "cell_type": "markdown",
   "metadata": {
    "collapsed": true,
    "slideshow": {
     "slide_type": "slide"
    }
   },
   "source": [
    "# Intro to Me\n",
    "\n",
    "[@jessicambowden](https://twitter.com/jessicambowden)"
   ]
  },
  {
   "cell_type": "markdown",
   "metadata": {
    "slideshow": {
     "slide_type": "notes"
    }
   },
   "source": [
    "- developer on data science team at Brandwatch\n",
    "- been at Brandwatch for 2 years\n",
    "- computer science @ sussex uni (graduated last year)\n",
    "- twitter @jessicambowden"
   ]
  },
  {
   "cell_type": "markdown",
   "metadata": {
    "slideshow": {
     "slide_type": "slide"
    }
   },
   "source": [
    "# Introduction to Natural Language Processing"
   ]
  },
  {
   "cell_type": "markdown",
   "metadata": {
    "collapsed": true,
    "slideshow": {
     "slide_type": "notes"
    }
   },
   "source": [
    "broad domain\n",
    "its a field which deals with analyzing and understanding human text\n",
    "understanding the ambiguity and meaning behind texts\n",
    "\n",
    "some languages are harder to process than others\n",
    "some languages naturally express more emotion than others\n",
    "\n",
    "it hasn't got as much of a big name as some other similar fields but it's everywhere:\n",
    "machine translation; summarizing blocks of text; spam detection; sentiment analysis\n",
    "\n",
    "this talk will be looking at getting you started with processing your data; \n",
    "tokenizing, stemming and then a bit on sentiment\n",
    "\n",
    "but first, an intro to python"
   ]
  },
  {
   "cell_type": "markdown",
   "metadata": {
    "slideshow": {
     "slide_type": "slide"
    }
   },
   "source": [
    "# Why Python?\n",
    "<img src=\"https://imgs.xkcd.com/comics/python.png\"/>"
   ]
  },
  {
   "cell_type": "markdown",
   "metadata": {
    "slideshow": {
     "slide_type": "subslide"
    }
   },
   "source": [
    "well it's really a preference\n",
    "\n",
    "Python Advantages:\n",
    "- Readable\n",
    "- Fast for prototypes\n",
    "- Rich text & list support\n",
    "\n",
    "- Lots of great NLP-related libraries\n",
    "    - NLTK; TextBlob; spaCy; scipy bundle; pandas...\n",
    "- Great parsing libraries\n",
    "    - BeautifulSoup; Scrapy\n",
    "\n",
    "<br/>\n",
    "<br/>\n",
    "Recommended Tools:\n",
    "- [Pyenv](\"https://github.com/yyuu/pyenv\") (& [pyenv-virtualenv](\"https://github.com/yyuu/pyenv-virtualenv\")) - for version & package management\n",
    "- [Jupyter Notebook](\"http://jupyter-notebook-beginner-guide.readthedocs.io/en/latest/what_is_jupyter.html\") - a nice way to use Python interactively"
   ]
  },
  {
   "cell_type": "markdown",
   "metadata": {
    "slideshow": {
     "slide_type": "slide"
    }
   },
   "source": [
    "# Python ~~Introduction~~ Crashcourse"
   ]
  },
  {
   "cell_type": "markdown",
   "metadata": {
    "slideshow": {
     "slide_type": "notes"
    }
   },
   "source": [
    "This talk uses Python 3 - it's not too different from Python 2.7"
   ]
  },
  {
   "cell_type": "markdown",
   "metadata": {
    "collapsed": true,
    "slideshow": {
     "slide_type": "subslide"
    }
   },
   "source": [
    "### Whitespace & No Brackets"
   ]
  },
  {
   "cell_type": "code",
   "execution_count": 460,
   "metadata": {
    "collapsed": false
   },
   "outputs": [
    {
     "name": "stdout",
     "output_type": "stream",
     "text": [
      "my_var is True!\n"
     ]
    }
   ],
   "source": [
    "my_var = True\n",
    "\n",
    "if my_var is True:\n",
    "    print('my_var is True!')"
   ]
  },
  {
   "cell_type": "markdown",
   "metadata": {
    "slideshow": {
     "slide_type": "subslide"
    }
   },
   "source": [
    "### No Semicolons (Generally)\n",
    "\n",
    "This would still run:"
   ]
  },
  {
   "cell_type": "code",
   "execution_count": 461,
   "metadata": {
    "collapsed": false
   },
   "outputs": [
    {
     "name": "stdout",
     "output_type": "stream",
     "text": [
      "my_var is True\n"
     ]
    }
   ],
   "source": [
    "if my_var is True:\n",
    "    print('my_var is True');"
   ]
  },
  {
   "cell_type": "markdown",
   "metadata": {},
   "source": [
    "This is because semicolons in Python separate multiple statements on the same line\n",
    "So they're actually used like this:"
   ]
  },
  {
   "cell_type": "code",
   "execution_count": 462,
   "metadata": {
    "collapsed": false
   },
   "outputs": [
    {
     "name": "stdout",
     "output_type": "stream",
     "text": [
      "Hello\n",
      "World\n"
     ]
    }
   ],
   "source": [
    "print('Hello'); print('World')"
   ]
  },
  {
   "cell_type": "markdown",
   "metadata": {
    "slideshow": {
     "slide_type": "subslide"
    }
   },
   "source": [
    "### Strings"
   ]
  },
  {
   "cell_type": "code",
   "execution_count": 463,
   "metadata": {
    "collapsed": true
   },
   "outputs": [],
   "source": [
    "my_str = 'Hello World'"
   ]
  },
  {
   "cell_type": "markdown",
   "metadata": {
    "slideshow": {
     "slide_type": "subslide"
    }
   },
   "source": [
    "### Formatting Strings"
   ]
  },
  {
   "cell_type": "code",
   "execution_count": 464,
   "metadata": {
    "collapsed": true
   },
   "outputs": [],
   "source": [
    "formatted_str = 'H{0}llo W{1}rld'.format('e', 'o')"
   ]
  },
  {
   "cell_type": "markdown",
   "metadata": {
    "slideshow": {
     "slide_type": "subslide"
    }
   },
   "source": [
    "### Data Structures"
   ]
  },
  {
   "cell_type": "markdown",
   "metadata": {},
   "source": [
    "#### Lists (arrays)"
   ]
  },
  {
   "cell_type": "code",
   "execution_count": 465,
   "metadata": {
    "collapsed": false,
    "scrolled": true
   },
   "outputs": [
    {
     "name": "stdout",
     "output_type": "stream",
     "text": [
      "1\n",
      "2\n",
      "3\n"
     ]
    }
   ],
   "source": [
    "my_list = [1, 2, 3]\n",
    "\n",
    "for element in my_list:\n",
    "    print(element)"
   ]
  },
  {
   "cell_type": "markdown",
   "metadata": {
    "slideshow": {
     "slide_type": "subslide"
    }
   },
   "source": [
    "Strings in Python work a bit like lists!"
   ]
  },
  {
   "cell_type": "code",
   "execution_count": 466,
   "metadata": {
    "collapsed": false
   },
   "outputs": [
    {
     "data": {
      "text/plain": [
       "'Hel'"
      ]
     },
     "execution_count": 466,
     "metadata": {},
     "output_type": "execute_result"
    }
   ],
   "source": [
    "my_str[:3]"
   ]
  },
  {
   "cell_type": "code",
   "execution_count": 467,
   "metadata": {
    "collapsed": false
   },
   "outputs": [
    {
     "name": "stdout",
     "output_type": "stream",
     "text": [
      "H\n",
      "e\n",
      "l\n",
      "l\n",
      "o\n",
      " \n",
      "W\n",
      "o\n",
      "r\n",
      "l\n",
      "d\n"
     ]
    }
   ],
   "source": [
    "for token in my_str:\n",
    "    print(token)"
   ]
  },
  {
   "cell_type": "markdown",
   "metadata": {
    "collapsed": true,
    "slideshow": {
     "slide_type": "subslide"
    }
   },
   "source": [
    "##### List Comprehensions"
   ]
  },
  {
   "cell_type": "code",
   "execution_count": 468,
   "metadata": {
    "collapsed": false
   },
   "outputs": [
    {
     "name": "stdout",
     "output_type": "stream",
     "text": [
      "[0, 2, 4, 6, 8]\n"
     ]
    }
   ],
   "source": [
    "divisible = [i for i in range(10) if i % 2 == 0]\n",
    "print(divisible)"
   ]
  },
  {
   "cell_type": "code",
   "execution_count": 469,
   "metadata": {
    "collapsed": false
   },
   "outputs": [
    {
     "name": "stdout",
     "output_type": "stream",
     "text": [
      "[0, 2, 4, 6, 8]\n"
     ]
    }
   ],
   "source": [
    "divisible = []\n",
    "for i in range(10):\n",
    "    if i % 2 == 0:\n",
    "        divisible.append(i)\n",
    "print(divisible)"
   ]
  },
  {
   "cell_type": "markdown",
   "metadata": {
    "slideshow": {
     "slide_type": "subslide"
    }
   },
   "source": [
    "#### Dictionaries"
   ]
  },
  {
   "cell_type": "markdown",
   "metadata": {},
   "source": [
    "Key-value storage"
   ]
  },
  {
   "cell_type": "code",
   "execution_count": 470,
   "metadata": {
    "collapsed": true
   },
   "outputs": [],
   "source": [
    "d = {'bob': '1234', 'jill': '5678', 'julia': '9999'}"
   ]
  },
  {
   "cell_type": "code",
   "execution_count": 471,
   "metadata": {
    "collapsed": false
   },
   "outputs": [
    {
     "data": {
      "text/plain": [
       "'1234'"
      ]
     },
     "execution_count": 471,
     "metadata": {},
     "output_type": "execute_result"
    }
   ],
   "source": [
    "d['bob']"
   ]
  },
  {
   "cell_type": "markdown",
   "metadata": {
    "collapsed": true,
    "slideshow": {
     "slide_type": "notes"
    }
   },
   "source": [
    "This is known as unpacking variables\n",
    "d.items() is returning two variables"
   ]
  },
  {
   "cell_type": "code",
   "execution_count": 472,
   "metadata": {
    "collapsed": false
   },
   "outputs": [
    {
     "name": "stdout",
     "output_type": "stream",
     "text": [
      "bob 1234\n",
      "julia 9999\n",
      "jill 5678\n"
     ]
    }
   ],
   "source": [
    "for k, v in d.items():\n",
    "    print(k, v)"
   ]
  },
  {
   "cell_type": "markdown",
   "metadata": {
    "slideshow": {
     "slide_type": "subslide"
    }
   },
   "source": [
    "##### Dictionary Comprehension"
   ]
  },
  {
   "cell_type": "code",
   "execution_count": 473,
   "metadata": {
    "collapsed": false
   },
   "outputs": [
    {
     "name": "stdout",
     "output_type": "stream",
     "text": [
      "{'jill': '5678', 'julia': '9999'}\n"
     ]
    }
   ],
   "source": [
    "new_numbers = {k:v for k, v in d.items() if k[0] == 'j'}\n",
    "print(new_numbers)"
   ]
  },
  {
   "cell_type": "markdown",
   "metadata": {
    "slideshow": {
     "slide_type": "subslide"
    }
   },
   "source": [
    "#### Sets"
   ]
  },
  {
   "cell_type": "markdown",
   "metadata": {},
   "source": [
    "Unordered collections with no duplicates"
   ]
  },
  {
   "cell_type": "code",
   "execution_count": 474,
   "metadata": {
    "collapsed": false
   },
   "outputs": [
    {
     "data": {
      "text/plain": [
       "{1, 2, 3, 4}"
      ]
     },
     "execution_count": 474,
     "metadata": {},
     "output_type": "execute_result"
    }
   ],
   "source": [
    "l = [1, 1, 2, 3, 4]\n",
    "set(l)"
   ]
  },
  {
   "cell_type": "code",
   "execution_count": 475,
   "metadata": {
    "collapsed": false
   },
   "outputs": [
    {
     "data": {
      "text/plain": [
       "[1, 5, 6, 7]"
      ]
     },
     "execution_count": 475,
     "metadata": {},
     "output_type": "execute_result"
    }
   ],
   "source": [
    "l = [5, 6, 7, 1]\n",
    "sorted(l)"
   ]
  },
  {
   "cell_type": "markdown",
   "metadata": {
    "slideshow": {
     "slide_type": "subslide"
    }
   },
   "source": [
    "#### Equality"
   ]
  },
  {
   "cell_type": "markdown",
   "metadata": {},
   "source": [
    "Comparing Values"
   ]
  },
  {
   "cell_type": "code",
   "execution_count": 476,
   "metadata": {
    "collapsed": false
   },
   "outputs": [
    {
     "data": {
      "text/plain": [
       "True"
      ]
     },
     "execution_count": 476,
     "metadata": {},
     "output_type": "execute_result"
    }
   ],
   "source": [
    "x = [1, 2, 3, 4]\n",
    "y = [1, 2, 3, 4]\n",
    "x == y"
   ]
  },
  {
   "cell_type": "markdown",
   "metadata": {},
   "source": [
    "Comparing Objects"
   ]
  },
  {
   "cell_type": "code",
   "execution_count": 477,
   "metadata": {
    "collapsed": false
   },
   "outputs": [
    {
     "data": {
      "text/plain": [
       "False"
      ]
     },
     "execution_count": 477,
     "metadata": {},
     "output_type": "execute_result"
    }
   ],
   "source": [
    "x is y"
   ]
  },
  {
   "cell_type": "markdown",
   "metadata": {},
   "source": [
    "null : None"
   ]
  },
  {
   "cell_type": "code",
   "execution_count": 478,
   "metadata": {
    "collapsed": false
   },
   "outputs": [
    {
     "data": {
      "text/plain": [
       "False"
      ]
     },
     "execution_count": 478,
     "metadata": {},
     "output_type": "execute_result"
    }
   ],
   "source": [
    "x is None"
   ]
  },
  {
   "cell_type": "markdown",
   "metadata": {
    "slideshow": {
     "slide_type": "subslide"
    }
   },
   "source": [
    "#### Coding Style"
   ]
  },
  {
   "cell_type": "markdown",
   "metadata": {},
   "source": [
    "http://docs.python-guide.org/en/latest/writing/style/\n",
    "\n",
    "https://www.python.org/dev/peps/pep-0008/ \n",
    "- can be a bit contentious\n",
    "- e.g. the 79 characters per line recommendation"
   ]
  },
  {
   "cell_type": "markdown",
   "metadata": {
    "slideshow": {
     "slide_type": "slide"
    }
   },
   "source": [
    "# Getting Started with NLP in Python"
   ]
  },
  {
   "cell_type": "markdown",
   "metadata": {
    "collapsed": true,
    "slideshow": {
     "slide_type": "notes"
    }
   },
   "source": [
    "Will be using NLTK for the following slides. NLTK is a group of Python libraries which is intended to support research & learning in NLP.\n",
    "It provides demos, books and sample dataset.\n",
    "It has a great set of NLP tools, and is great for creating fast prototypes."
   ]
  },
  {
   "cell_type": "markdown",
   "metadata": {
    "slideshow": {
     "slide_type": "subslide"
    }
   },
   "source": [
    "## Gathering and Cleaning Data"
   ]
  },
  {
   "cell_type": "markdown",
   "metadata": {},
   "source": [
    "### Accessing Data"
   ]
  },
  {
   "cell_type": "code",
   "execution_count": 479,
   "metadata": {
    "collapsed": true
   },
   "outputs": [],
   "source": [
    "# with open('wind_in_the_willows.txt', 'r') as f:\n",
    "#     f.readlines()"
   ]
  },
  {
   "cell_type": "code",
   "execution_count": 480,
   "metadata": {
    "collapsed": true
   },
   "outputs": [],
   "source": [
    "# pip install requests\n",
    "import requests\n",
    "\n",
    "alice_online = 'http://www.umich.edu/~umfandsf/other/ebooks/alice30.txt'\n",
    "alice_raw_text = requests.get(alice_online).text"
   ]
  },
  {
   "cell_type": "markdown",
   "metadata": {
    "collapsed": true,
    "slideshow": {
     "slide_type": "notes"
    }
   },
   "source": [
    "Will be using NLTK demo examples for now"
   ]
  },
  {
   "cell_type": "markdown",
   "metadata": {
    "slideshow": {
     "slide_type": "subslide"
    }
   },
   "source": [
    "### NLTK"
   ]
  },
  {
   "cell_type": "code",
   "execution_count": 481,
   "metadata": {
    "collapsed": false,
    "slideshow": {
     "slide_type": "skip"
    }
   },
   "outputs": [],
   "source": [
    "# pip install nltk\n",
    "\n",
    "import nltk"
   ]
  },
  {
   "cell_type": "markdown",
   "metadata": {
    "slideshow": {
     "slide_type": "subslide"
    }
   },
   "source": [
    "### Tokenizing"
   ]
  },
  {
   "cell_type": "markdown",
   "metadata": {
    "slideshow": {
     "slide_type": "notes"
    }
   },
   "source": [
    "Tokenizing is the process of breaking your text up into words, phrases, symbols etc. These parts extracted are then called our tokens."
   ]
  },
  {
   "cell_type": "markdown",
   "metadata": {
    "slideshow": {
     "slide_type": "notes"
    }
   },
   "source": [
    "Built-in NLTK tokenizer"
   ]
  },
  {
   "cell_type": "code",
   "execution_count": 482,
   "metadata": {
    "collapsed": false
   },
   "outputs": [
    {
     "name": "stdout",
     "output_type": "stream",
     "text": [
      "['ALICE', \"'S\", 'ADVENTURES', 'IN', 'WONDERLAND', 'Lewis', 'Carroll', 'THE', 'MILLENNIUM', 'FULCRUM']\n"
     ]
    }
   ],
   "source": [
    "from nltk import word_tokenize\n",
    "\n",
    "tokens = word_tokenize(alice_raw_text)[:10]\n",
    "print(tokens)"
   ]
  },
  {
   "cell_type": "markdown",
   "metadata": {
    "slideshow": {
     "slide_type": "subslide"
    }
   },
   "source": [
    "### Stemmers and Lemmatizers"
   ]
  },
  {
   "cell_type": "markdown",
   "metadata": {
    "collapsed": true,
    "slideshow": {
     "slide_type": "notes"
    }
   },
   "source": [
    "The following shows stemming and lemmatizing\n",
    "It's easier to show the difference with a demo\n",
    "But essentially they are there to \"normalise\" words to their base form\n",
    "E.g. removing inflections\n",
    "\n",
    "am --> be\n",
    "\n",
    "cars --> car\n",
    "\n",
    "Stemmers are faster, and generally more naive than lemmatizers. \n",
    "Lemmatizers perform analysis to get more accurate results."
   ]
  },
  {
   "cell_type": "code",
   "execution_count": 483,
   "metadata": {
    "collapsed": false,
    "scrolled": true
   },
   "outputs": [
    {
     "name": "stdout",
     "output_type": "stream",
     "text": [
      "['ALIC', \"'S\", 'ADVENTUR', 'IN', 'WONDERLAND', 'Lewi', 'Carrol', 'THE', 'MILLENNIUM', 'FULCRUM']\n"
     ]
    }
   ],
   "source": [
    "from nltk.stem.porter import PorterStemmer\n",
    "\n",
    "porter_stemmer = PorterStemmer()\n",
    "\n",
    "stemmed_tokens = [porter_stemmer.stem(token) for token in tokens]\n",
    "print(stemmed_tokens)"
   ]
  },
  {
   "cell_type": "markdown",
   "metadata": {
    "slideshow": {
     "slide_type": "notes"
    }
   },
   "source": [
    "you can see that it's just chopped off ALICE to ALIC and LEWIS to LEWI\n",
    "\n",
    "stemmers are faster\n",
    "if you're just trying to chuck related base words together, you'd use a stemmer\n",
    "e.g. you don't care about it being readable, you just want to process and cluster these words together"
   ]
  },
  {
   "cell_type": "code",
   "execution_count": 484,
   "metadata": {
    "collapsed": false
   },
   "outputs": [
    {
     "name": "stdout",
     "output_type": "stream",
     "text": [
      "['ALICE', \"'S\", 'ADVENTURES', 'IN', 'WONDERLAND', 'Lewis', 'Carroll', 'THE', 'MILLENNIUM', 'FULCRUM']\n"
     ]
    }
   ],
   "source": [
    "from nltk.stem import WordNetLemmatizer\n",
    "\n",
    "wordnet_lemmatizer = WordNetLemmatizer()\n",
    "\n",
    "lemmatized_tokens = [wordnet_lemmatizer.lemmatize(token) for token in tokens]\n",
    "print(lemmatized_tokens)"
   ]
  },
  {
   "cell_type": "markdown",
   "metadata": {
    "slideshow": {
     "slide_type": "slide"
    }
   },
   "source": [
    "## Exploring and Analysing Data"
   ]
  },
  {
   "cell_type": "code",
   "execution_count": 485,
   "metadata": {
    "collapsed": false,
    "slideshow": {
     "slide_type": "-"
    }
   },
   "outputs": [],
   "source": [
    "alice = nltk.corpus.gutenberg.words('carroll-alice.txt')"
   ]
  },
  {
   "cell_type": "markdown",
   "metadata": {},
   "source": [
    "<img src=\"alice_output.png\">"
   ]
  },
  {
   "cell_type": "markdown",
   "metadata": {},
   "source": [
    "masked wordcloud at https://amueller.github.io/word_cloud/auto_examples/masked.html"
   ]
  },
  {
   "cell_type": "markdown",
   "metadata": {
    "slideshow": {
     "slide_type": "subslide"
    }
   },
   "source": [
    "### Exploring Informative Tokens: Frequency Distributions"
   ]
  },
  {
   "cell_type": "markdown",
   "metadata": {
    "slideshow": {
     "slide_type": "notes"
    }
   },
   "source": [
    "Discovering the most informative words in our text: we can use Frequency Distributions"
   ]
  },
  {
   "cell_type": "code",
   "execution_count": 486,
   "metadata": {
    "collapsed": false
   },
   "outputs": [],
   "source": [
    "from nltk import FreqDist\n",
    "\n",
    "freq_dist_alice = FreqDist(alice)\n",
    "top_25 = freq_dist_alice.most_common(25)"
   ]
  },
  {
   "cell_type": "code",
   "execution_count": 487,
   "metadata": {
    "collapsed": false
   },
   "outputs": [],
   "source": [
    "line_chart = pygal.Bar()\n",
    "for token, count in top_25:\n",
    "    line_chart.add(token, count)"
   ]
  },
  {
   "cell_type": "code",
   "execution_count": 488,
   "metadata": {
    "collapsed": false,
    "slideshow": {
     "slide_type": "subslide"
    }
   },
   "outputs": [
    {
     "data": {
      "image/png": "[encoded data removed]",
      "image/svg+xml": [
       "<svg xmlns:xlink=\"http://www.w3.org/1999/xlink\" xmlns=\"http://www.w3.org/2000/svg\" id=\"chart-7f4f4ca4-bafb-49d3-9453-5ebb5ed48ff9\" class=\"pygal-chart\" viewBox=\"0 0 800 600\"><!--Generated with pygal 2.2.2 (lxml) ©Kozea 2012-2016 on 2016-05-26--><!--http://pygal.org--><!--http://github.com/Kozea/pygal--><defs><style type=\"text/css\">#chart-7f4f4ca4-bafb-49d3-9453-5ebb5ed48ff9{-webkit-user-select:none;-webkit-font-smoothing:antialiased;font-family:Consolas,\"Liberation Mono\",Menlo,Courier,monospace}#chart-7f4f4ca4-bafb-49d3-9453-5ebb5ed48ff9 .title{font-family:Consolas,\"Liberation Mono\",Menlo,Courier,monospace;font-size:16px}#chart-7f4f4ca4-bafb-49d3-9453-5ebb5ed48ff9 .legends .legend text{font-family:Consolas,\"Liberation Mono\",Menlo,Courier,monospace;font-size:14px}#chart-7f4f4ca4-bafb-49d3-9453-5ebb5ed48ff9 .axis text{font-family:Consolas,\"Liberation Mono\",Menlo,Courier,monospace;font-size:10px}#chart-7f4f4ca4-bafb-49d3-9453-5ebb5ed48ff9 .axis text.major{font-family:Consolas,\"Liberation Mono\",Menlo,Courier,monospace;font-size:10px}#chart-7f4f4ca4-bafb-49d3-9453-5ebb5ed48ff9 .text-overlay text.value{font-family:Consolas,\"Liberation Mono\",Menlo,Courier,monospace;font-size:16px}#chart-7f4f4ca4-bafb-49d3-9453-5ebb5ed48ff9 .text-overlay text.label{font-family:Consolas,\"Liberation Mono\",Menlo,Courier,monospace;font-size:10px}#chart-7f4f4ca4-bafb-49d3-9453-5ebb5ed48ff9 .tooltip{font-family:Consolas,\"Liberation Mono\",Menlo,Courier,monospace;font-size:14px}#chart-7f4f4ca4-bafb-49d3-9453-5ebb5ed48ff9 text.no_data{font-family:Consolas,\"Liberation Mono\",Menlo,Courier,monospace;font-size:64px}\n",
       "#chart-7f4f4ca4-bafb-49d3-9453-5ebb5ed48ff9{background-color:rgba(249,249,249,1)}#chart-7f4f4ca4-bafb-49d3-9453-5ebb5ed48ff9 path,#chart-7f4f4ca4-bafb-49d3-9453-5ebb5ed48ff9 line,#chart-7f4f4ca4-bafb-49d3-9453-5ebb5ed48ff9 rect,#chart-7f4f4ca4-bafb-49d3-9453-5ebb5ed48ff9 circle{-webkit-transition:150ms;-moz-transition:150ms;transition:150ms}#chart-7f4f4ca4-bafb-49d3-9453-5ebb5ed48ff9 .graph &gt; .background{fill:rgba(249,249,249,1)}#chart-7f4f4ca4-bafb-49d3-9453-5ebb5ed48ff9 .plot &gt; .background{fill:rgba(255,255,255,1)}#chart-7f4f4ca4-bafb-49d3-9453-5ebb5ed48ff9 .graph{fill:rgba(0,0,0,.87)}#chart-7f4f4ca4-bafb-49d3-9453-5ebb5ed48ff9 text.no_data{fill:rgba(0,0,0,1)}#chart-7f4f4ca4-bafb-49d3-9453-5ebb5ed48ff9 .title{fill:rgba(0,0,0,1)}#chart-7f4f4ca4-bafb-49d3-9453-5ebb5ed48ff9 .legends .legend text{fill:rgba(0,0,0,.87)}#chart-7f4f4ca4-bafb-49d3-9453-5ebb5ed48ff9 .legends .legend:hover text{fill:rgba(0,0,0,1)}#chart-7f4f4ca4-bafb-49d3-9453-5ebb5ed48ff9 .axis .line{stroke:rgba(0,0,0,1)}#chart-7f4f4ca4-bafb-49d3-9453-5ebb5ed48ff9 .axis .guide.line{stroke:rgba(0,0,0,.54)}#chart-7f4f4ca4-bafb-49d3-9453-5ebb5ed48ff9 .axis .major.line{stroke:rgba(0,0,0,.87)}#chart-7f4f4ca4-bafb-49d3-9453-5ebb5ed48ff9 .axis text.major{fill:rgba(0,0,0,1)}#chart-7f4f4ca4-bafb-49d3-9453-5ebb5ed48ff9 .axis.y .guides:hover .guide.line,#chart-7f4f4ca4-bafb-49d3-9453-5ebb5ed48ff9 .line-graph .axis.x .guides:hover .guide.line,#chart-7f4f4ca4-bafb-49d3-9453-5ebb5ed48ff9 .stackedline-graph .axis.x .guides:hover .guide.line,#chart-7f4f4ca4-bafb-49d3-9453-5ebb5ed48ff9 .xy-graph .axis.x .guides:hover .guide.line{stroke:rgba(0,0,0,1)}#chart-7f4f4ca4-bafb-49d3-9453-5ebb5ed48ff9 .axis .guides:hover text{fill:rgba(0,0,0,1)}#chart-7f4f4ca4-bafb-49d3-9453-5ebb5ed48ff9 .reactive{fill-opacity:.7}#chart-7f4f4ca4-bafb-49d3-9453-5ebb5ed48ff9 .ci{stroke:rgba(0,0,0,.87)}#chart-7f4f4ca4-bafb-49d3-9453-5ebb5ed48ff9 .reactive.active,#chart-7f4f4ca4-bafb-49d3-9453-5ebb5ed48ff9 .active .reactive{fill-opacity:.8;stroke-width:4}#chart-7f4f4ca4-bafb-49d3-9453-5ebb5ed48ff9 .ci .reactive.active{stroke-width:1.5}#chart-7f4f4ca4-bafb-49d3-9453-5ebb5ed48ff9 .series text{fill:rgba(0,0,0,1)}#chart-7f4f4ca4-bafb-49d3-9453-5ebb5ed48ff9 .tooltip rect{fill:rgba(255,255,255,1);stroke:rgba(0,0,0,1);-webkit-transition:opacity 150ms;-moz-transition:opacity 150ms;transition:opacity 150ms}#chart-7f4f4ca4-bafb-49d3-9453-5ebb5ed48ff9 .tooltip .label{fill:rgba(0,0,0,.87)}#chart-7f4f4ca4-bafb-49d3-9453-5ebb5ed48ff9 .tooltip .label{fill:rgba(0,0,0,.87)}#chart-7f4f4ca4-bafb-49d3-9453-5ebb5ed48ff9 .tooltip .legend{font-size:.8em;fill:rgba(0,0,0,.54)}#chart-7f4f4ca4-bafb-49d3-9453-5ebb5ed48ff9 .tooltip .x_label{font-size:.6em;fill:rgba(0,0,0,1)}#chart-7f4f4ca4-bafb-49d3-9453-5ebb5ed48ff9 .tooltip .xlink{font-size:.5em;text-decoration:underline}#chart-7f4f4ca4-bafb-49d3-9453-5ebb5ed48ff9 .tooltip .value{font-size:1.5em}#chart-7f4f4ca4-bafb-49d3-9453-5ebb5ed48ff9 .bound{font-size:.5em}#chart-7f4f4ca4-bafb-49d3-9453-5ebb5ed48ff9 .max-value{font-size:.75em;fill:rgba(0,0,0,.54)}#chart-7f4f4ca4-bafb-49d3-9453-5ebb5ed48ff9 .map-element{fill:rgba(255,255,255,1);stroke:rgba(0,0,0,.54) !important}#chart-7f4f4ca4-bafb-49d3-9453-5ebb5ed48ff9 .map-element .reactive{fill-opacity:inherit}#chart-7f4f4ca4-bafb-49d3-9453-5ebb5ed48ff9 .color-0,#chart-7f4f4ca4-bafb-49d3-9453-5ebb5ed48ff9 .color-0 a:visited{stroke:#f44336;fill:#f44336}#chart-7f4f4ca4-bafb-49d3-9453-5ebb5ed48ff9 .color-1,#chart-7f4f4ca4-bafb-49d3-9453-5ebb5ed48ff9 .color-1 a:visited{stroke:#3f51b5;fill:#3f51b5}#chart-7f4f4ca4-bafb-49d3-9453-5ebb5ed48ff9 .color-2,#chart-7f4f4ca4-bafb-49d3-9453-5ebb5ed48ff9 .color-2 a:visited{stroke:#009688;fill:#009688}#chart-7f4f4ca4-bafb-49d3-9453-5ebb5ed48ff9 .color-3,#chart-7f4f4ca4-bafb-49d3-9453-5ebb5ed48ff9 .color-3 a:visited{stroke:#ffc107;fill:#ffc107}#chart-7f4f4ca4-bafb-49d3-9453-5ebb5ed48ff9 .color-4,#chart-7f4f4ca4-bafb-49d3-9453-5ebb5ed48ff9 .color-4 a:visited{stroke:#ff5722;fill:#ff5722}#chart-7f4f4ca4-bafb-49d3-9453-5ebb5ed48ff9 .color-5,#chart-7f4f4ca4-bafb-49d3-9453-5ebb5ed48ff9 .color-5 a:visited{stroke:#9c27b0;fill:#9c27b0}#chart-7f4f4ca4-bafb-49d3-9453-5ebb5ed48ff9 .color-6,#chart-7f4f4ca4-bafb-49d3-9453-5ebb5ed48ff9 .color-6 a:visited{stroke:#03a9f4;fill:#03a9f4}#chart-7f4f4ca4-bafb-49d3-9453-5ebb5ed48ff9 .color-7,#chart-7f4f4ca4-bafb-49d3-9453-5ebb5ed48ff9 .color-7 a:visited{stroke:#8bc34a;fill:#8bc34a}#chart-7f4f4ca4-bafb-49d3-9453-5ebb5ed48ff9 .color-8,#chart-7f4f4ca4-bafb-49d3-9453-5ebb5ed48ff9 .color-8 a:visited{stroke:#ff9800;fill:#ff9800}#chart-7f4f4ca4-bafb-49d3-9453-5ebb5ed48ff9 .color-9,#chart-7f4f4ca4-bafb-49d3-9453-5ebb5ed48ff9 .color-9 a:visited{stroke:#e91e63;fill:#e91e63}#chart-7f4f4ca4-bafb-49d3-9453-5ebb5ed48ff9 .color-10,#chart-7f4f4ca4-bafb-49d3-9453-5ebb5ed48ff9 .color-10 a:visited{stroke:#2196f3;fill:#2196f3}#chart-7f4f4ca4-bafb-49d3-9453-5ebb5ed48ff9 .color-11,#chart-7f4f4ca4-bafb-49d3-9453-5ebb5ed48ff9 .color-11 a:visited{stroke:#4caf50;fill:#4caf50}#chart-7f4f4ca4-bafb-49d3-9453-5ebb5ed48ff9 .color-12,#chart-7f4f4ca4-bafb-49d3-9453-5ebb5ed48ff9 .color-12 a:visited{stroke:#ffeb3b;fill:#ffeb3b}#chart-7f4f4ca4-bafb-49d3-9453-5ebb5ed48ff9 .color-13,#chart-7f4f4ca4-bafb-49d3-9453-5ebb5ed48ff9 .color-13 a:visited{stroke:#673ab7;fill:#673ab7}#chart-7f4f4ca4-bafb-49d3-9453-5ebb5ed48ff9 .color-14,#chart-7f4f4ca4-bafb-49d3-9453-5ebb5ed48ff9 .color-14 a:visited{stroke:#00bcd4;fill:#00bcd4}#chart-7f4f4ca4-bafb-49d3-9453-5ebb5ed48ff9 .color-15,#chart-7f4f4ca4-bafb-49d3-9453-5ebb5ed48ff9 .color-15 a:visited{stroke:#cddc39;fill:#cddc39}#chart-7f4f4ca4-bafb-49d3-9453-5ebb5ed48ff9 .color-16,#chart-7f4f4ca4-bafb-49d3-9453-5ebb5ed48ff9 .color-16 a:visited{stroke:#9e9e9e;fill:#9e9e9e}#chart-7f4f4ca4-bafb-49d3-9453-5ebb5ed48ff9 .color-17,#chart-7f4f4ca4-bafb-49d3-9453-5ebb5ed48ff9 .color-17 a:visited{stroke:#607d8b;fill:#607d8b}#chart-7f4f4ca4-bafb-49d3-9453-5ebb5ed48ff9 .color-18,#chart-7f4f4ca4-bafb-49d3-9453-5ebb5ed48ff9 .color-18 a:visited{stroke:#7b0f07;fill:#7b0f07}#chart-7f4f4ca4-bafb-49d3-9453-5ebb5ed48ff9 .color-19,#chart-7f4f4ca4-bafb-49d3-9453-5ebb5ed48ff9 .color-19 a:visited{stroke:#141938;fill:#141938}#chart-7f4f4ca4-bafb-49d3-9453-5ebb5ed48ff9 .color-20,#chart-7f4f4ca4-bafb-49d3-9453-5ebb5ed48ff9 .color-20 a:visited{stroke:#000000;fill:#000000}#chart-7f4f4ca4-bafb-49d3-9453-5ebb5ed48ff9 .color-21,#chart-7f4f4ca4-bafb-49d3-9453-5ebb5ed48ff9 .color-21 a:visited{stroke:#5e4600;fill:#5e4600}#chart-7f4f4ca4-bafb-49d3-9453-5ebb5ed48ff9 .color-22,#chart-7f4f4ca4-bafb-49d3-9453-5ebb5ed48ff9 .color-22 a:visited{stroke:#791d00;fill:#791d00}#chart-7f4f4ca4-bafb-49d3-9453-5ebb5ed48ff9 .color-23,#chart-7f4f4ca4-bafb-49d3-9453-5ebb5ed48ff9 .color-23 a:visited{stroke:#220826;fill:#220826}#chart-7f4f4ca4-bafb-49d3-9453-5ebb5ed48ff9 .color-24,#chart-7f4f4ca4-bafb-49d3-9453-5ebb5ed48ff9 .color-24 a:visited{stroke:#01364e;fill:#01364e}#chart-7f4f4ca4-bafb-49d3-9453-5ebb5ed48ff9 .text-overlay .color-0 text{fill:black}#chart-7f4f4ca4-bafb-49d3-9453-5ebb5ed48ff9 .text-overlay .color-1 text{fill:black}#chart-7f4f4ca4-bafb-49d3-9453-5ebb5ed48ff9 .text-overlay .color-2 text{fill:black}#chart-7f4f4ca4-bafb-49d3-9453-5ebb5ed48ff9 .text-overlay .color-3 text{fill:black}#chart-7f4f4ca4-bafb-49d3-9453-5ebb5ed48ff9 .text-overlay .color-4 text{fill:black}#chart-7f4f4ca4-bafb-49d3-9453-5ebb5ed48ff9 .text-overlay .color-5 text{fill:black}#chart-7f4f4ca4-bafb-49d3-9453-5ebb5ed48ff9 .text-overlay .color-6 text{fill:black}#chart-7f4f4ca4-bafb-49d3-9453-5ebb5ed48ff9 .text-overlay .color-7 text{fill:black}#chart-7f4f4ca4-bafb-49d3-9453-5ebb5ed48ff9 .text-overlay .color-8 text{fill:black}#chart-7f4f4ca4-bafb-49d3-9453-5ebb5ed48ff9 .text-overlay .color-9 text{fill:black}#chart-7f4f4ca4-bafb-49d3-9453-5ebb5ed48ff9 .text-overlay .color-10 text{fill:black}#chart-7f4f4ca4-bafb-49d3-9453-5ebb5ed48ff9 .text-overlay .color-11 text{fill:black}#chart-7f4f4ca4-bafb-49d3-9453-5ebb5ed48ff9 .text-overlay .color-12 text{fill:black}#chart-7f4f4ca4-bafb-49d3-9453-5ebb5ed48ff9 .text-overlay .color-13 text{fill:black}#chart-7f4f4ca4-bafb-49d3-9453-5ebb5ed48ff9 .text-overlay .color-14 text{fill:black}#chart-7f4f4ca4-bafb-49d3-9453-5ebb5ed48ff9 .text-overlay .color-15 text{fill:black}#chart-7f4f4ca4-bafb-49d3-9453-5ebb5ed48ff9 .text-overlay .color-16 text{fill:black}#chart-7f4f4ca4-bafb-49d3-9453-5ebb5ed48ff9 .text-overlay .color-17 text{fill:black}#chart-7f4f4ca4-bafb-49d3-9453-5ebb5ed48ff9 .text-overlay .color-18 text{fill:black}#chart-7f4f4ca4-bafb-49d3-9453-5ebb5ed48ff9 .text-overlay .color-19 text{fill:white}#chart-7f4f4ca4-bafb-49d3-9453-5ebb5ed48ff9 .text-overlay .color-20 text{fill:white}#chart-7f4f4ca4-bafb-49d3-9453-5ebb5ed48ff9 .text-overlay .color-21 text{fill:black}#chart-7f4f4ca4-bafb-49d3-9453-5ebb5ed48ff9 .text-overlay .color-22 text{fill:black}#chart-7f4f4ca4-bafb-49d3-9453-5ebb5ed48ff9 .text-overlay .color-23 text{fill:white}#chart-7f4f4ca4-bafb-49d3-9453-5ebb5ed48ff9 .text-overlay .color-24 text{fill:white}\n",
       "#chart-7f4f4ca4-bafb-49d3-9453-5ebb5ed48ff9 text.no_data{text-anchor:middle}#chart-7f4f4ca4-bafb-49d3-9453-5ebb5ed48ff9 .guide.line{fill:none}#chart-7f4f4ca4-bafb-49d3-9453-5ebb5ed48ff9 .centered{text-anchor:middle}#chart-7f4f4ca4-bafb-49d3-9453-5ebb5ed48ff9 .title{text-anchor:middle}#chart-7f4f4ca4-bafb-49d3-9453-5ebb5ed48ff9 .legends .legend text{fill-opacity:1}#chart-7f4f4ca4-bafb-49d3-9453-5ebb5ed48ff9 .axis.x text{text-anchor:middle}#chart-7f4f4ca4-bafb-49d3-9453-5ebb5ed48ff9 .axis.x:not(.web) text[transform]{text-anchor:start}#chart-7f4f4ca4-bafb-49d3-9453-5ebb5ed48ff9 .axis.x:not(.web) text[transform].backwards{text-anchor:end}#chart-7f4f4ca4-bafb-49d3-9453-5ebb5ed48ff9 .axis.y text{text-anchor:end}#chart-7f4f4ca4-bafb-49d3-9453-5ebb5ed48ff9 .axis.y text[transform].backwards{text-anchor:start}#chart-7f4f4ca4-bafb-49d3-9453-5ebb5ed48ff9 .axis.y2 text{text-anchor:start}#chart-7f4f4ca4-bafb-49d3-9453-5ebb5ed48ff9 .axis.y2 text[transform].backwards{text-anchor:end}#chart-7f4f4ca4-bafb-49d3-9453-5ebb5ed48ff9 .axis .guide.line{stroke-dasharray:4,4}#chart-7f4f4ca4-bafb-49d3-9453-5ebb5ed48ff9 .axis .major.guide.line{stroke-dasharray:6,6}#chart-7f4f4ca4-bafb-49d3-9453-5ebb5ed48ff9 .horizontal .axis.y .guide.line,#chart-7f4f4ca4-bafb-49d3-9453-5ebb5ed48ff9 .horizontal .axis.y2 .guide.line,#chart-7f4f4ca4-bafb-49d3-9453-5ebb5ed48ff9 .vertical .axis.x .guide.line{opacity:0}#chart-7f4f4ca4-bafb-49d3-9453-5ebb5ed48ff9 .horizontal .axis.always_show .guide.line,#chart-7f4f4ca4-bafb-49d3-9453-5ebb5ed48ff9 .vertical .axis.always_show .guide.line{opacity:1 !important}#chart-7f4f4ca4-bafb-49d3-9453-5ebb5ed48ff9 .axis.y .guides:hover .guide.line,#chart-7f4f4ca4-bafb-49d3-9453-5ebb5ed48ff9 .axis.y2 .guides:hover .guide.line,#chart-7f4f4ca4-bafb-49d3-9453-5ebb5ed48ff9 .axis.x .guides:hover .guide.line{opacity:1}#chart-7f4f4ca4-bafb-49d3-9453-5ebb5ed48ff9 .axis .guides:hover text{opacity:1}#chart-7f4f4ca4-bafb-49d3-9453-5ebb5ed48ff9 .nofill{fill:none}#chart-7f4f4ca4-bafb-49d3-9453-5ebb5ed48ff9 .subtle-fill{fill-opacity:.2}#chart-7f4f4ca4-bafb-49d3-9453-5ebb5ed48ff9 .dot{stroke-width:1px;fill-opacity:1}#chart-7f4f4ca4-bafb-49d3-9453-5ebb5ed48ff9 .dot.active{stroke-width:5px}#chart-7f4f4ca4-bafb-49d3-9453-5ebb5ed48ff9 .dot.negative{fill:transparent}#chart-7f4f4ca4-bafb-49d3-9453-5ebb5ed48ff9 text,#chart-7f4f4ca4-bafb-49d3-9453-5ebb5ed48ff9 tspan{stroke:none !important}#chart-7f4f4ca4-bafb-49d3-9453-5ebb5ed48ff9 .series text.active{opacity:1}#chart-7f4f4ca4-bafb-49d3-9453-5ebb5ed48ff9 .tooltip rect{fill-opacity:.95;stroke-width:.5}#chart-7f4f4ca4-bafb-49d3-9453-5ebb5ed48ff9 .tooltip text{fill-opacity:1}#chart-7f4f4ca4-bafb-49d3-9453-5ebb5ed48ff9 .showable{visibility:hidden}#chart-7f4f4ca4-bafb-49d3-9453-5ebb5ed48ff9 .showable.shown{visibility:visible}#chart-7f4f4ca4-bafb-49d3-9453-5ebb5ed48ff9 .gauge-background{fill:rgba(229,229,229,1);stroke:none}#chart-7f4f4ca4-bafb-49d3-9453-5ebb5ed48ff9 .bg-lines{stroke:rgba(249,249,249,1);stroke-width:2px}</style><script type=\"text/javascript\">window.pygal = window.pygal || {};window.pygal.config = window.pygal.config || {};window.pygal.config['7f4f4ca4-bafb-49d3-9453-5ebb5ed48ff9'] = {\"classes\": [\"pygal-chart\"], \"x_labels_major_every\": null, \"print_values\": false, \"y_labels_major_count\": null, \"force_uri_protocol\": \"https\", \"logarithmic\": false, \"stack_from_top\": false, \"tooltip_border_radius\": 0, \"xrange\": null, \"box_mode\": \"extremes\", \"margin_bottom\": null, \"interpolate\": null, \"disable_xml_declaration\": true, \"legend_at_bottom\": false, \"show_y_guides\": true, \"formatter\": null, \"style\": {\"value_colors\": [], \"foreground_strong\": \"rgba(0, 0, 0, 1)\", \"ci_colors\": [], \"guide_stroke_dasharray\": \"4,4\", \"major_guide_stroke_dasharray\": \"6,6\", \"opacity_hover\": \".8\", \"value_label_font_family\": \"Consolas, \\\"Liberation Mono\\\", Menlo, Courier, monospace\", \"label_font_family\": \"Consolas, \\\"Liberation Mono\\\", Menlo, Courier, monospace\", \"value_label_font_size\": 10, \"transition\": \"150ms\", \"no_data_font_size\": 64, \"colors\": [\"#F44336\", \"#3F51B5\", \"#009688\", \"#FFC107\", \"#FF5722\", \"#9C27B0\", \"#03A9F4\", \"#8BC34A\", \"#FF9800\", \"#E91E63\", \"#2196F3\", \"#4CAF50\", \"#FFEB3B\", \"#673AB7\", \"#00BCD4\", \"#CDDC39\", \"#9E9E9E\", \"#607D8B\"], \"major_label_font_family\": \"Consolas, \\\"Liberation Mono\\\", Menlo, Courier, monospace\", \"major_label_font_size\": 10, \"foreground\": \"rgba(0, 0, 0, .87)\", \"no_data_font_family\": \"Consolas, \\\"Liberation Mono\\\", Menlo, Courier, monospace\", \"label_font_size\": 10, \"foreground_subtle\": \"rgba(0, 0, 0, .54)\", \"tooltip_font_size\": 14, \"font_family\": \"Consolas, \\\"Liberation Mono\\\", Menlo, Courier, monospace\", \"opacity\": \".7\", \"title_font_family\": \"Consolas, \\\"Liberation Mono\\\", Menlo, Courier, monospace\", \"value_background\": \"rgba(229, 229, 229, 1)\", \"value_font_size\": 16, \"value_font_family\": \"Consolas, \\\"Liberation Mono\\\", Menlo, Courier, monospace\", \"legend_font_size\": 14, \"legend_font_family\": \"Consolas, \\\"Liberation Mono\\\", Menlo, Courier, monospace\", \"plot_background\": \"rgba(255, 255, 255, 1)\", \"tooltip_font_family\": \"Consolas, \\\"Liberation Mono\\\", Menlo, Courier, monospace\", \"title_font_size\": 16, \"background\": \"rgba(249, 249, 249, 1)\"}, \"js\": [\"//kozea.github.io/pygal.js/2.0.x/pygal-tooltips.min.js\"], \"show_x_labels\": true, \"fill\": false, \"inverse_y_axis\": false, \"range\": null, \"width\": 800, \"show_y_labels\": true, \"spacing\": 10, \"dynamic_print_values\": false, \"y_labels\": null, \"secondary_range\": null, \"show_only_major_dots\": false, \"y_title\": null, \"interpolation_parameters\": {}, \"margin_left\": null, \"strict\": false, \"height\": 600, \"y_labels_major_every\": null, \"stroke_style\": null, \"x_labels_major_count\": null, \"print_values_position\": \"center\", \"css\": [\"file://style.css\", \"file://graph.css\"], \"include_x_axis\": false, \"zero\": 0, \"missing_value_fill_truncation\": \"x\", \"show_x_guides\": false, \"stroke\": true, \"no_prefix\": false, \"allow_interruptions\": false, \"order_min\": null, \"tooltip_fancy_mode\": true, \"pretty_print\": false, \"title\": null, \"x_title\": null, \"x_labels\": null, \"x_label_rotation\": 0, \"show_minor_y_labels\": true, \"min_scale\": 4, \"show_legend\": true, \"print_labels\": false, \"margin\": 20, \"truncate_legend\": null, \"legend_at_bottom_columns\": null, \"show_dots\": true, \"truncate_label\": null, \"defs\": [], \"legend_box_size\": 12, \"margin_top\": null, \"legends\": [\",\", \"'\", \"the\", \"and\", \".\", \"to\", \"a\", \"I\", \"it\", \"she\", \"of\", \"said\", \",'\", \"Alice\", \"in\", \"was\", \"you\", \"!'\", \"that\", \"as\", \"her\", \"t\", \":\", \"at\", \"s\"], \"half_pie\": false, \"interpolation_precision\": 250, \"margin_right\": null, \"print_zeroes\": true, \"max_scale\": 16, \"rounded_bars\": null, \"dots_size\": 2.5, \"y_labels_major\": null, \"show_minor_x_labels\": true, \"explicit_size\": false, \"x_labels_major\": null, \"no_data_text\": \"No data\", \"inner_radius\": 0, \"y_label_rotation\": 0}</script><script type=\"text/javascript\" xlink:href=\"https://kozea.github.io/pygal.js/2.0.x/pygal-tooltips.min.js\"/></defs><title>Pygal</title><g class=\"graph bar-graph vertical\"><rect class=\"background\" height=\"600\" width=\"800\" x=\"0\" y=\"0\"/><g class=\"plot\" transform=\"translate(118, 20)\"><rect class=\"background\" height=\"560\" width=\"662.0\" x=\"0\" y=\"0\"/><g class=\"axis y\"><g class=\"guides\"><path class=\"axis major line\" d=\"M0.000000 549.230769 h662.000000\"/><text class=\"major\" x=\"-5\" y=\"552.7307692307693\">0</text><title>0</title></g><g class=\"guides\"><path class=\"guide line\" d=\"M0.000000 495.195492 h662.000000\"/><text class=\"\" x=\"-5\" y=\"498.6954919140067\">200</text><title>200</title></g><g class=\"guides\"><path class=\"guide line\" d=\"M0.000000 441.160215 h662.000000\"/><text class=\"\" x=\"-5\" y=\"444.6602145972442\">400</text><title>400</title></g><g class=\"guides\"><path class=\"guide line\" d=\"M0.000000 387.124937 h662.000000\"/><text class=\"\" x=\"-5\" y=\"390.6249372804816\">600</text><title>600</title></g><g class=\"guides\"><path class=\"guide line\" d=\"M0.000000 333.089660 h662.000000\"/><text class=\"\" x=\"-5\" y=\"336.5896599637191\">800</text><title>800</title></g><g class=\"guides\"><path class=\"major guide line\" d=\"M0.000000 279.054383 h662.000000\"/><text class=\"major\" x=\"-5\" y=\"282.55438264695664\">1000</text><title>1000</title></g><g class=\"guides\"><path class=\"guide line\" d=\"M0.000000 225.019105 h662.000000\"/><text class=\"\" x=\"-5\" y=\"228.51910533019412\">1200</text><title>1200</title></g><g class=\"guides\"><path class=\"guide line\" d=\"M0.000000 170.983828 h662.000000\"/><text class=\"\" x=\"-5\" y=\"174.4838280134316\">1400</text><title>1400</title></g><g class=\"guides\"><path class=\"guide line\" d=\"M0.000000 116.948551 h662.000000\"/><text class=\"\" x=\"-5\" y=\"120.44855069666909\">1600</text><title>1600</title></g><g class=\"guides\"><path class=\"guide line\" d=\"M0.000000 62.913273 h662.000000\"/><text class=\"\" x=\"-5\" y=\"66.41327337990657\">1800</text><title>1800</title></g></g><g class=\"series serie-0 color-0\"><g class=\"bars\"><g class=\"bar\"><rect class=\"rect reactive tooltip-trigger\" height=\"538.4615384615385\" rx=\"0\" ry=\"0\" width=\"19.717415384615382\" x=\"52.26744615384615\" y=\"10.76923076923083\"/><desc class=\"value\">1993</desc><desc class=\"x centered\">62.12615384615384</desc><desc class=\"y centered\">280.00000000000006</desc></g></g></g><g class=\"series serie-1 color-1\"><g class=\"bars\"><g class=\"bar\"><rect class=\"rect reactive tooltip-trigger\" height=\"467.67532517657963\" rx=\"0\" ry=\"0\" width=\"19.717415384615382\" x=\"74.6736\" y=\"81.55544405418965\"/><desc class=\"value\">1731</desc><desc class=\"x centered\">84.53230769230768</desc><desc class=\"y centered\">315.39310664247944</desc></g></g></g><g class=\"series serie-2 color-2\"><g class=\"bars\"><g class=\"bar\"><rect class=\"rect reactive tooltip-trigger\" height=\"412.55934231348186\" rx=\"0\" ry=\"0\" width=\"19.717415384615382\" x=\"97.07975384615384\" y=\"136.67142691728742\"/><desc class=\"value\">1527</desc><desc class=\"x centered\">106.93846153846152</desc><desc class=\"y centered\">342.9510980740283</desc></g></g></g><g class=\"series serie-3 color-3\"><g class=\"bars\"><g class=\"bar\"><rect class=\"rect reactive tooltip-trigger\" height=\"216.68146204021775\" rx=\"0\" ry=\"0\" width=\"19.717415384615382\" x=\"119.48590769230768\" y=\"332.54930719055153\"/><desc class=\"value\">802</desc><desc class=\"x centered\">129.34461538461537</desc><desc class=\"y centered\">440.8900382106604</desc></g></g></g><g class=\"series serie-4 color-4\"><g class=\"bars\"><g class=\"bar\"><rect class=\"rect reactive tooltip-trigger\" height=\"206.4147593500329\" rx=\"0\" ry=\"0\" width=\"19.717415384615382\" x=\"141.8920615384615\" y=\"342.8160098807364\"/><desc class=\"value\">764</desc><desc class=\"x centered\">151.75076923076918</desc><desc class=\"y centered\">446.02338955575283</desc></g></g></g><g class=\"series serie-5 color-5\"><g class=\"bars\"><g class=\"bar\"><rect class=\"rect reactive tooltip-trigger\" height=\"195.87788027326417\" rx=\"0\" ry=\"0\" width=\"19.717415384615382\" x=\"164.29821538461536\" y=\"353.3528889575051\"/><desc class=\"value\">725</desc><desc class=\"x centered\">174.15692307692305</desc><desc class=\"y centered\">451.2918290941372</desc></g></g></g><g class=\"series serie-6 color-6\"><g class=\"bars\"><g class=\"bar\"><rect class=\"rect reactive tooltip-trigger\" height=\"166.15847774904478\" rx=\"0\" ry=\"0\" width=\"19.717415384615382\" x=\"186.70436923076917\" y=\"383.0722914817245\"/><desc class=\"value\">615</desc><desc class=\"x centered\">196.56307692307686</desc><desc class=\"y centered\">466.1515303562469</desc></g></g></g><g class=\"series serie-7 color-7\"><g class=\"bars\"><g class=\"bar\"><rect class=\"rect reactive tooltip-trigger\" height=\"146.70577791501034\" rx=\"0\" ry=\"0\" width=\"19.717415384615382\" x=\"209.11052307692304\" y=\"402.52499131575894\"/><desc class=\"value\">543</desc><desc class=\"x centered\">218.96923076923073</desc><desc class=\"y centered\">475.8778802732641</desc></g></g></g><g class=\"series serie-8 color-8\"><g class=\"bars\"><g class=\"bar\"><rect class=\"rect reactive tooltip-trigger\" height=\"142.38295572966933\" rx=\"0\" ry=\"0\" width=\"19.717415384615382\" x=\"231.51667692307686\" y=\"406.84781350109995\"/><desc class=\"value\">527</desc><desc class=\"x centered\">241.37538461538455</desc><desc class=\"y centered\">478.0392913659346</desc></g></g></g><g class=\"series serie-9 color-9\"><g class=\"bars\"><g class=\"bar\"><rect class=\"rect reactive tooltip-trigger\" height=\"137.5197807711607\" rx=\"0\" ry=\"0\" width=\"19.717415384615382\" x=\"253.92283076923073\" y=\"411.7109884596086\"/><desc class=\"value\">509</desc><desc class=\"x centered\">263.78153846153845</desc><desc class=\"y centered\">480.47087884518896</desc></g></g></g><g class=\"series serie-10 color-10\"><g class=\"bars\"><g class=\"bar\"><rect class=\"rect reactive tooltip-trigger\" height=\"135.08819329190635\" rx=\"0\" ry=\"0\" width=\"19.717415384615382\" x=\"276.32898461538457\" y=\"414.14257593886293\"/><desc class=\"value\">500</desc><desc class=\"x centered\">286.18769230769226</desc><desc class=\"y centered\">481.6866725848161</desc></g></g></g><g class=\"series serie-11 color-11\"><g class=\"bars\"><g class=\"bar\"><rect class=\"rect reactive tooltip-trigger\" height=\"123.20043228221863\" rx=\"0\" ry=\"0\" width=\"19.717415384615382\" x=\"298.73513846153844\" y=\"426.03033694855066\"/><desc class=\"value\">456</desc><desc class=\"x centered\">308.59384615384613</desc><desc class=\"y centered\">487.63055308966</desc></g></g></g><g class=\"series serie-12 color-12\"><g class=\"bars\"><g class=\"bar\"><rect class=\"rect reactive tooltip-trigger\" height=\"107.26002547377368\" rx=\"0\" ry=\"0\" width=\"19.717415384615382\" x=\"321.14129230769225\" y=\"441.9707437569956\"/><desc class=\"value\">397</desc><desc class=\"x centered\">330.99999999999994</desc><desc class=\"y centered\">495.60075649388244</desc></g></g></g><g class=\"series serie-13 color-13\"><g class=\"bars\"><g class=\"bar\"><rect class=\"rect reactive tooltip-trigger\" height=\"106.98984908718984\" rx=\"0\" ry=\"0\" width=\"19.717415384615382\" x=\"343.5474461538461\" y=\"442.24092014357944\"/><desc class=\"value\">396</desc><desc class=\"x centered\">353.4061538461538</desc><desc class=\"y centered\">495.73584468717434</desc></g></g></g><g class=\"series serie-14 color-14\"><g class=\"bars\"><g class=\"bar\"><rect class=\"rect reactive tooltip-trigger\" height=\"96.45297001042115\" rx=\"0\" ry=\"0\" width=\"19.717415384615382\" x=\"365.95359999999994\" y=\"452.77779922034813\"/><desc class=\"value\">357</desc><desc class=\"x centered\">375.8123076923076</desc><desc class=\"y centered\">501.0042842255587</desc></g></g></g><g class=\"series serie-15 color-15\"><g class=\"bars\"><g class=\"bar\"><rect class=\"rect reactive tooltip-trigger\" height=\"95.10208807750212\" rx=\"0\" ry=\"0\" width=\"19.717415384615382\" x=\"388.35975384615375\" y=\"454.12868115326717\"/><desc class=\"value\">352</desc><desc class=\"x centered\">398.21846153846144</desc><desc class=\"y centered\">501.6797251920182</desc></g></g></g><g class=\"series serie-16 color-16\"><g class=\"bars\"><g class=\"bar\"><rect class=\"rect reactive tooltip-trigger\" height=\"93.2108533714154\" rx=\"0\" ry=\"0\" width=\"19.717415384615382\" x=\"410.7659076923076\" y=\"456.0199158593539\"/><desc class=\"value\">345</desc><desc class=\"x centered\">420.6246153846153</desc><desc class=\"y centered\">502.6253425450616</desc></g></g></g><g class=\"series serie-17 color-17\"><g class=\"bars\"><g class=\"bar\"><rect class=\"rect reactive tooltip-trigger\" height=\"75.10903547029994\" rx=\"0\" ry=\"0\" width=\"19.717415384615382\" x=\"433.1720615384615\" y=\"474.12173376046934\"/><desc class=\"value\">278</desc><desc class=\"x centered\">443.0307692307692</desc><desc class=\"y centered\">511.67625149561934</desc></g></g></g><g class=\"series serie-18 color-18\"><g class=\"bars\"><g class=\"bar\"><rect class=\"rect reactive tooltip-trigger\" height=\"74.29850631054853\" rx=\"0\" ry=\"0\" width=\"19.717415384615382\" x=\"455.5782153846153\" y=\"474.93226292022075\"/><desc class=\"value\">275</desc><desc class=\"x centered\">465.436923076923</desc><desc class=\"y centered\">512.0815160754951</desc></g></g></g><g class=\"series serie-19 color-19\"><g class=\"bars\"><g class=\"bar\"><rect class=\"rect reactive tooltip-trigger\" height=\"66.46339109961798\" rx=\"0\" ry=\"0\" width=\"19.717415384615382\" x=\"477.9843692307691\" y=\"482.7673781311513\"/><desc class=\"value\">246</desc><desc class=\"x centered\">487.8430769230768</desc><desc class=\"y centered\">515.9990736809602</desc></g></g></g><g class=\"series serie-20 color-20\"><g class=\"bars\"><g class=\"bar\"><rect class=\"rect reactive tooltip-trigger\" height=\"65.65286193986651\" rx=\"0\" ry=\"0\" width=\"19.717415384615382\" x=\"500.390523076923\" y=\"483.5779072909028\"/><desc class=\"value\">243</desc><desc class=\"x centered\">510.2492307692307</desc><desc class=\"y centered\">516.4043382608361</desc></g></g></g><g class=\"series serie-21 color-21\"><g class=\"bars\"><g class=\"bar\"><rect class=\"rect reactive tooltip-trigger\" height=\"58.358099502103585\" rx=\"0\" ry=\"0\" width=\"19.717415384615382\" x=\"522.7966769230768\" y=\"490.8726697286657\"/><desc class=\"value\">216</desc><desc class=\"x centered\">532.6553846153845</desc><desc class=\"y centered\">520.0517194797175</desc></g></g></g><g class=\"series serie-22 color-22\"><g class=\"bars\"><g class=\"bar\"><rect class=\"rect reactive tooltip-trigger\" height=\"58.358099502103585\" rx=\"0\" ry=\"0\" width=\"19.717415384615382\" x=\"545.2028307692307\" y=\"490.8726697286657\"/><desc class=\"value\">216</desc><desc class=\"x centered\">555.0615384615384</desc><desc class=\"y centered\">520.0517194797175</desc></g></g></g><g class=\"series serie-23 color-23\"><g class=\"bars\"><g class=\"bar\"><rect class=\"rect reactive tooltip-trigger\" height=\"54.5756300899302\" rx=\"0\" ry=\"0\" width=\"19.717415384615382\" x=\"567.6089846153844\" y=\"494.6551391408391\"/><desc class=\"value\">202</desc><desc class=\"x centered\">577.4676923076921</desc><desc class=\"y centered\">521.9429541858042</desc></g></g></g><g class=\"series serie-24 color-24\"><g class=\"bars\"><g class=\"bar\"><rect class=\"rect reactive tooltip-trigger\" height=\"52.68439538384354\" rx=\"0\" ry=\"0\" width=\"19.717415384615382\" x=\"590.0151384615383\" y=\"496.54637384692575\"/><desc class=\"value\">195</desc><desc class=\"x centered\">599.873846153846</desc><desc class=\"y centered\">522.8885715388475</desc></g></g></g></g><g class=\"titles\"/><g class=\"plot overlay\" transform=\"translate(118, 20)\"><g class=\"series serie-0 color-0\"/><g class=\"series serie-1 color-1\"/><g class=\"series serie-2 color-2\"/><g class=\"series serie-3 color-3\"/><g class=\"series serie-4 color-4\"/><g class=\"series serie-5 color-5\"/><g class=\"series serie-6 color-6\"/><g class=\"series serie-7 color-7\"/><g class=\"series serie-8 color-8\"/><g class=\"series serie-9 color-9\"/><g class=\"series serie-10 color-10\"/><g class=\"series serie-11 color-11\"/><g class=\"series serie-12 color-12\"/><g class=\"series serie-13 color-13\"/><g class=\"series serie-14 color-14\"/><g class=\"series serie-15 color-15\"/><g class=\"series serie-16 color-16\"/><g class=\"series serie-17 color-17\"/><g class=\"series serie-18 color-18\"/><g class=\"series serie-19 color-19\"/><g class=\"series serie-20 color-20\"/><g class=\"series serie-21 color-21\"/><g class=\"series serie-22 color-22\"/><g class=\"series serie-23 color-23\"/><g class=\"series serie-24 color-24\"/></g><g class=\"plot text-overlay\" transform=\"translate(118, 20)\"><g class=\"series serie-0 color-0\"/><g class=\"series serie-1 color-1\"/><g class=\"series serie-2 color-2\"/><g class=\"series serie-3 color-3\"/><g class=\"series serie-4 color-4\"/><g class=\"series serie-5 color-5\"/><g class=\"series serie-6 color-6\"/><g class=\"series serie-7 color-7\"/><g class=\"series serie-8 color-8\"/><g class=\"series serie-9 color-9\"/><g class=\"series serie-10 color-10\"/><g class=\"series serie-11 color-11\"/><g class=\"series serie-12 color-12\"/><g class=\"series serie-13 color-13\"/><g class=\"series serie-14 color-14\"/><g class=\"series serie-15 color-15\"/><g class=\"series serie-16 color-16\"/><g class=\"series serie-17 color-17\"/><g class=\"series serie-18 color-18\"/><g class=\"series serie-19 color-19\"/><g class=\"series serie-20 color-20\"/><g class=\"series serie-21 color-21\"/><g class=\"series serie-22 color-22\"/><g class=\"series serie-23 color-23\"/><g class=\"series serie-24 color-24\"/></g><g class=\"plot tooltip-overlay\" transform=\"translate(118, 20)\"><g class=\"tooltip\" style=\"opacity: 0\" transform=\"translate(0 0)\"><rect class=\"tooltip-box\" height=\"0\" rx=\"0\" ry=\"0\" width=\"0\"/><g class=\"text\"/></g></g><g class=\"legends\" transform=\"translate(10, 30)\"><g class=\"legend reactive activate-serie\" id=\"activate-serie-0\"><rect class=\"color-0 reactive\" height=\"12\" width=\"12\" x=\"0.0\" y=\"1.0\"/><text x=\"17.0\" y=\"11.2\">,</text></g><g class=\"legend reactive activate-serie\" id=\"activate-serie-1\"><rect class=\"color-1 reactive\" height=\"12\" width=\"12\" x=\"0.0\" y=\"22.0\"/><text x=\"17.0\" y=\"32.2\">'</text></g><g class=\"legend reactive activate-serie\" id=\"activate-serie-2\"><rect class=\"color-2 reactive\" height=\"12\" width=\"12\" x=\"0.0\" y=\"43.0\"/><text x=\"17.0\" y=\"53.2\">the</text></g><g class=\"legend reactive activate-serie\" id=\"activate-serie-3\"><rect class=\"color-3 reactive\" height=\"12\" width=\"12\" x=\"0.0\" y=\"64.0\"/><text x=\"17.0\" y=\"74.2\">and</text></g><g class=\"legend reactive activate-serie\" id=\"activate-serie-4\"><rect class=\"color-4 reactive\" height=\"12\" width=\"12\" x=\"0.0\" y=\"85.0\"/><text x=\"17.0\" y=\"95.2\">.</text></g><g class=\"legend reactive activate-serie\" id=\"activate-serie-5\"><rect class=\"color-5 reactive\" height=\"12\" width=\"12\" x=\"0.0\" y=\"106.0\"/><text x=\"17.0\" y=\"116.2\">to</text></g><g class=\"legend reactive activate-serie\" id=\"activate-serie-6\"><rect class=\"color-6 reactive\" height=\"12\" width=\"12\" x=\"0.0\" y=\"127.0\"/><text x=\"17.0\" y=\"137.2\">a</text></g><g class=\"legend reactive activate-serie\" id=\"activate-serie-7\"><rect class=\"color-7 reactive\" height=\"12\" width=\"12\" x=\"0.0\" y=\"148.0\"/><text x=\"17.0\" y=\"158.2\">I</text></g><g class=\"legend reactive activate-serie\" id=\"activate-serie-8\"><rect class=\"color-8 reactive\" height=\"12\" width=\"12\" x=\"0.0\" y=\"169.0\"/><text x=\"17.0\" y=\"179.2\">it</text></g><g class=\"legend reactive activate-serie\" id=\"activate-serie-9\"><rect class=\"color-9 reactive\" height=\"12\" width=\"12\" x=\"0.0\" y=\"190.0\"/><text x=\"17.0\" y=\"200.2\">she</text></g><g class=\"legend reactive activate-serie\" id=\"activate-serie-10\"><rect class=\"color-10 reactive\" height=\"12\" width=\"12\" x=\"0.0\" y=\"211.0\"/><text x=\"17.0\" y=\"221.2\">of</text></g><g class=\"legend reactive activate-serie\" id=\"activate-serie-11\"><rect class=\"color-11 reactive\" height=\"12\" width=\"12\" x=\"0.0\" y=\"232.0\"/><text x=\"17.0\" y=\"242.2\">said</text></g><g class=\"legend reactive activate-serie\" id=\"activate-serie-12\"><rect class=\"color-12 reactive\" height=\"12\" width=\"12\" x=\"0.0\" y=\"253.0\"/><text x=\"17.0\" y=\"263.2\">,'</text></g><g class=\"legend reactive activate-serie\" id=\"activate-serie-13\"><rect class=\"color-13 reactive\" height=\"12\" width=\"12\" x=\"0.0\" y=\"274.0\"/><text x=\"17.0\" y=\"284.2\">Alice</text></g><g class=\"legend reactive activate-serie\" id=\"activate-serie-14\"><rect class=\"color-14 reactive\" height=\"12\" width=\"12\" x=\"0.0\" y=\"295.0\"/><text x=\"17.0\" y=\"305.2\">in</text></g><g class=\"legend reactive activate-serie\" id=\"activate-serie-15\"><rect class=\"color-15 reactive\" height=\"12\" width=\"12\" x=\"0.0\" y=\"316.0\"/><text x=\"17.0\" y=\"326.2\">was</text></g><g class=\"legend reactive activate-serie\" id=\"activate-serie-16\"><rect class=\"color-16 reactive\" height=\"12\" width=\"12\" x=\"0.0\" y=\"337.0\"/><text x=\"17.0\" y=\"347.2\">you</text></g><g class=\"legend reactive activate-serie\" id=\"activate-serie-17\"><rect class=\"color-17 reactive\" height=\"12\" width=\"12\" x=\"0.0\" y=\"358.0\"/><text x=\"17.0\" y=\"368.2\">!'</text></g><g class=\"legend reactive activate-serie\" id=\"activate-serie-18\"><rect class=\"color-0 reactive\" height=\"12\" width=\"12\" x=\"0.0\" y=\"379.0\"/><text x=\"17.0\" y=\"389.2\">that</text></g><g class=\"legend reactive activate-serie\" id=\"activate-serie-19\"><rect class=\"color-1 reactive\" height=\"12\" width=\"12\" x=\"0.0\" y=\"400.0\"/><text x=\"17.0\" y=\"410.2\">as</text></g><g class=\"legend reactive activate-serie\" id=\"activate-serie-20\"><rect class=\"color-2 reactive\" height=\"12\" width=\"12\" x=\"0.0\" y=\"421.0\"/><text x=\"17.0\" y=\"431.2\">her</text></g><g class=\"legend reactive activate-serie\" id=\"activate-serie-21\"><rect class=\"color-3 reactive\" height=\"12\" width=\"12\" x=\"0.0\" y=\"442.0\"/><text x=\"17.0\" y=\"452.2\">t</text></g><g class=\"legend reactive activate-serie\" id=\"activate-serie-22\"><rect class=\"color-4 reactive\" height=\"12\" width=\"12\" x=\"0.0\" y=\"463.0\"/><text x=\"17.0\" y=\"473.2\">:</text></g><g class=\"legend reactive activate-serie\" id=\"activate-serie-23\"><rect class=\"color-5 reactive\" height=\"12\" width=\"12\" x=\"0.0\" y=\"484.0\"/><text x=\"17.0\" y=\"494.2\">at</text></g><g class=\"legend reactive activate-serie\" id=\"activate-serie-24\"><rect class=\"color-6 reactive\" height=\"12\" width=\"12\" x=\"0.0\" y=\"505.0\"/><text x=\"17.0\" y=\"515.2\">s</text></g></g><g class=\"legends\" transform=\"translate(790, 30)\"/></g></svg>"
      ],
      "text/plain": [
       "<pygal.graph.bar.Bar at 0x1109ed550>"
      ]
     },
     "execution_count": 488,
     "metadata": {},
     "output_type": "execute_result"
    }
   ],
   "source": [
    "line_chart"
   ]
  },
  {
   "cell_type": "markdown",
   "metadata": {
    "slideshow": {
     "slide_type": "notes"
    }
   },
   "source": [
    "We can see there are a lot of 'filler' words that definitely aren't informative of our text.\n",
    "A comma might be evenly distributed throughout the text, but it's definitely not informative.\n",
    "\n",
    "By contrast, we can look at the rarely occuring words:"
   ]
  },
  {
   "cell_type": "code",
   "execution_count": 489,
   "metadata": {
    "collapsed": false,
    "scrolled": true,
    "slideshow": {
     "slide_type": "subslide"
    }
   },
   "outputs": [
    {
     "data": {
      "text/plain": [
       "['Brandy',\n",
       " 'fix',\n",
       " 'died',\n",
       " 'salmon',\n",
       " 'Laughing',\n",
       " 'scrambling',\n",
       " 'jelly',\n",
       " 'curtain',\n",
       " 'expression',\n",
       " 'wept']"
      ]
     },
     "execution_count": 489,
     "metadata": {},
     "output_type": "execute_result"
    }
   ],
   "source": [
    "freq_dist_alice.hapaxes()[:10]"
   ]
  },
  {
   "cell_type": "markdown",
   "metadata": {
    "slideshow": {
     "slide_type": "notes"
    }
   },
   "source": [
    "Still not very informative.\n",
    "\n",
    "\n",
    "Instead we can filter our set of words, say, we only want them if they have a higher frequency distribution, and that they're longer words:"
   ]
  },
  {
   "cell_type": "code",
   "execution_count": 490,
   "metadata": {
    "collapsed": false,
    "slideshow": {
     "slide_type": "subslide"
    }
   },
   "outputs": [],
   "source": [
    "new_chart = pygal.Bar()\n",
    "\n",
    "for w in set(alice):\n",
    "    if len(w) > 6 and freq_dist_alice[w] > 7:\n",
    "        new_chart.add(w, freq_dist_alice[w])"
   ]
  },
  {
   "cell_type": "code",
   "execution_count": 491,
   "metadata": {
    "collapsed": false,
    "slideshow": {
     "slide_type": "subslide"
    }
   },
   "outputs": [
    {
     "data": {
      "image/png": "[encoded data removed]",
      "image/svg+xml": [
       "<svg xmlns:xlink=\"http://www.w3.org/1999/xlink\" xmlns=\"http://www.w3.org/2000/svg\" id=\"chart-d42b7ba9-2e14-4e33-9ebc-f5bc8a9c67de\" class=\"pygal-chart\" viewBox=\"0 0 800 600\"><!--Generated with pygal 2.2.2 (lxml) ©Kozea 2012-2016 on 2016-05-26--><!--http://pygal.org--><!--http://github.com/Kozea/pygal--><defs><style type=\"text/css\">#chart-d42b7ba9-2e14-4e33-9ebc-f5bc8a9c67de{-webkit-user-select:none;-webkit-font-smoothing:antialiased;font-family:Consolas,\"Liberation Mono\",Menlo,Courier,monospace}#chart-d42b7ba9-2e14-4e33-9ebc-f5bc8a9c67de .title{font-family:Consolas,\"Liberation Mono\",Menlo,Courier,monospace;font-size:16px}#chart-d42b7ba9-2e14-4e33-9ebc-f5bc8a9c67de .legends .legend text{font-family:Consolas,\"Liberation Mono\",Menlo,Courier,monospace;font-size:14px}#chart-d42b7ba9-2e14-4e33-9ebc-f5bc8a9c67de .axis text{font-family:Consolas,\"Liberation Mono\",Menlo,Courier,monospace;font-size:10px}#chart-d42b7ba9-2e14-4e33-9ebc-f5bc8a9c67de .axis text.major{font-family:Consolas,\"Liberation Mono\",Menlo,Courier,monospace;font-size:10px}#chart-d42b7ba9-2e14-4e33-9ebc-f5bc8a9c67de .text-overlay text.value{font-family:Consolas,\"Liberation Mono\",Menlo,Courier,monospace;font-size:16px}#chart-d42b7ba9-2e14-4e33-9ebc-f5bc8a9c67de .text-overlay text.label{font-family:Consolas,\"Liberation Mono\",Menlo,Courier,monospace;font-size:10px}#chart-d42b7ba9-2e14-4e33-9ebc-f5bc8a9c67de .tooltip{font-family:Consolas,\"Liberation Mono\",Menlo,Courier,monospace;font-size:14px}#chart-d42b7ba9-2e14-4e33-9ebc-f5bc8a9c67de text.no_data{font-family:Consolas,\"Liberation Mono\",Menlo,Courier,monospace;font-size:64px}\n",
       "#chart-d42b7ba9-2e14-4e33-9ebc-f5bc8a9c67de{background-color:rgba(249,249,249,1)}#chart-d42b7ba9-2e14-4e33-9ebc-f5bc8a9c67de path,#chart-d42b7ba9-2e14-4e33-9ebc-f5bc8a9c67de line,#chart-d42b7ba9-2e14-4e33-9ebc-f5bc8a9c67de rect,#chart-d42b7ba9-2e14-4e33-9ebc-f5bc8a9c67de circle{-webkit-transition:150ms;-moz-transition:150ms;transition:150ms}#chart-d42b7ba9-2e14-4e33-9ebc-f5bc8a9c67de .graph &gt; .background{fill:rgba(249,249,249,1)}#chart-d42b7ba9-2e14-4e33-9ebc-f5bc8a9c67de .plot &gt; .background{fill:rgba(255,255,255,1)}#chart-d42b7ba9-2e14-4e33-9ebc-f5bc8a9c67de .graph{fill:rgba(0,0,0,.87)}#chart-d42b7ba9-2e14-4e33-9ebc-f5bc8a9c67de text.no_data{fill:rgba(0,0,0,1)}#chart-d42b7ba9-2e14-4e33-9ebc-f5bc8a9c67de .title{fill:rgba(0,0,0,1)}#chart-d42b7ba9-2e14-4e33-9ebc-f5bc8a9c67de .legends .legend text{fill:rgba(0,0,0,.87)}#chart-d42b7ba9-2e14-4e33-9ebc-f5bc8a9c67de .legends .legend:hover text{fill:rgba(0,0,0,1)}#chart-d42b7ba9-2e14-4e33-9ebc-f5bc8a9c67de .axis .line{stroke:rgba(0,0,0,1)}#chart-d42b7ba9-2e14-4e33-9ebc-f5bc8a9c67de .axis .guide.line{stroke:rgba(0,0,0,.54)}#chart-d42b7ba9-2e14-4e33-9ebc-f5bc8a9c67de .axis .major.line{stroke:rgba(0,0,0,.87)}#chart-d42b7ba9-2e14-4e33-9ebc-f5bc8a9c67de .axis text.major{fill:rgba(0,0,0,1)}#chart-d42b7ba9-2e14-4e33-9ebc-f5bc8a9c67de .axis.y .guides:hover .guide.line,#chart-d42b7ba9-2e14-4e33-9ebc-f5bc8a9c67de .line-graph .axis.x .guides:hover .guide.line,#chart-d42b7ba9-2e14-4e33-9ebc-f5bc8a9c67de .stackedline-graph .axis.x .guides:hover .guide.line,#chart-d42b7ba9-2e14-4e33-9ebc-f5bc8a9c67de .xy-graph .axis.x .guides:hover .guide.line{stroke:rgba(0,0,0,1)}#chart-d42b7ba9-2e14-4e33-9ebc-f5bc8a9c67de .axis .guides:hover text{fill:rgba(0,0,0,1)}#chart-d42b7ba9-2e14-4e33-9ebc-f5bc8a9c67de .reactive{fill-opacity:.7}#chart-d42b7ba9-2e14-4e33-9ebc-f5bc8a9c67de .ci{stroke:rgba(0,0,0,.87)}#chart-d42b7ba9-2e14-4e33-9ebc-f5bc8a9c67de .reactive.active,#chart-d42b7ba9-2e14-4e33-9ebc-f5bc8a9c67de .active .reactive{fill-opacity:.8;stroke-width:4}#chart-d42b7ba9-2e14-4e33-9ebc-f5bc8a9c67de .ci .reactive.active{stroke-width:1.5}#chart-d42b7ba9-2e14-4e33-9ebc-f5bc8a9c67de .series text{fill:rgba(0,0,0,1)}#chart-d42b7ba9-2e14-4e33-9ebc-f5bc8a9c67de .tooltip rect{fill:rgba(255,255,255,1);stroke:rgba(0,0,0,1);-webkit-transition:opacity 150ms;-moz-transition:opacity 150ms;transition:opacity 150ms}#chart-d42b7ba9-2e14-4e33-9ebc-f5bc8a9c67de .tooltip .label{fill:rgba(0,0,0,.87)}#chart-d42b7ba9-2e14-4e33-9ebc-f5bc8a9c67de .tooltip .label{fill:rgba(0,0,0,.87)}#chart-d42b7ba9-2e14-4e33-9ebc-f5bc8a9c67de .tooltip .legend{font-size:.8em;fill:rgba(0,0,0,.54)}#chart-d42b7ba9-2e14-4e33-9ebc-f5bc8a9c67de .tooltip .x_label{font-size:.6em;fill:rgba(0,0,0,1)}#chart-d42b7ba9-2e14-4e33-9ebc-f5bc8a9c67de .tooltip .xlink{font-size:.5em;text-decoration:underline}#chart-d42b7ba9-2e14-4e33-9ebc-f5bc8a9c67de .tooltip .value{font-size:1.5em}#chart-d42b7ba9-2e14-4e33-9ebc-f5bc8a9c67de .bound{font-size:.5em}#chart-d42b7ba9-2e14-4e33-9ebc-f5bc8a9c67de .max-value{font-size:.75em;fill:rgba(0,0,0,.54)}#chart-d42b7ba9-2e14-4e33-9ebc-f5bc8a9c67de .map-element{fill:rgba(255,255,255,1);stroke:rgba(0,0,0,.54) !important}#chart-d42b7ba9-2e14-4e33-9ebc-f5bc8a9c67de .map-element .reactive{fill-opacity:inherit}#chart-d42b7ba9-2e14-4e33-9ebc-f5bc8a9c67de .color-0,#chart-d42b7ba9-2e14-4e33-9ebc-f5bc8a9c67de .color-0 a:visited{stroke:#f44336;fill:#f44336}#chart-d42b7ba9-2e14-4e33-9ebc-f5bc8a9c67de .color-1,#chart-d42b7ba9-2e14-4e33-9ebc-f5bc8a9c67de .color-1 a:visited{stroke:#3f51b5;fill:#3f51b5}#chart-d42b7ba9-2e14-4e33-9ebc-f5bc8a9c67de .color-2,#chart-d42b7ba9-2e14-4e33-9ebc-f5bc8a9c67de .color-2 a:visited{stroke:#009688;fill:#009688}#chart-d42b7ba9-2e14-4e33-9ebc-f5bc8a9c67de .color-3,#chart-d42b7ba9-2e14-4e33-9ebc-f5bc8a9c67de .color-3 a:visited{stroke:#ffc107;fill:#ffc107}#chart-d42b7ba9-2e14-4e33-9ebc-f5bc8a9c67de .color-4,#chart-d42b7ba9-2e14-4e33-9ebc-f5bc8a9c67de .color-4 a:visited{stroke:#ff5722;fill:#ff5722}#chart-d42b7ba9-2e14-4e33-9ebc-f5bc8a9c67de .color-5,#chart-d42b7ba9-2e14-4e33-9ebc-f5bc8a9c67de .color-5 a:visited{stroke:#9c27b0;fill:#9c27b0}#chart-d42b7ba9-2e14-4e33-9ebc-f5bc8a9c67de .color-6,#chart-d42b7ba9-2e14-4e33-9ebc-f5bc8a9c67de .color-6 a:visited{stroke:#03a9f4;fill:#03a9f4}#chart-d42b7ba9-2e14-4e33-9ebc-f5bc8a9c67de .color-7,#chart-d42b7ba9-2e14-4e33-9ebc-f5bc8a9c67de .color-7 a:visited{stroke:#8bc34a;fill:#8bc34a}#chart-d42b7ba9-2e14-4e33-9ebc-f5bc8a9c67de .color-8,#chart-d42b7ba9-2e14-4e33-9ebc-f5bc8a9c67de .color-8 a:visited{stroke:#ff9800;fill:#ff9800}#chart-d42b7ba9-2e14-4e33-9ebc-f5bc8a9c67de .color-9,#chart-d42b7ba9-2e14-4e33-9ebc-f5bc8a9c67de .color-9 a:visited{stroke:#e91e63;fill:#e91e63}#chart-d42b7ba9-2e14-4e33-9ebc-f5bc8a9c67de .color-10,#chart-d42b7ba9-2e14-4e33-9ebc-f5bc8a9c67de .color-10 a:visited{stroke:#2196f3;fill:#2196f3}#chart-d42b7ba9-2e14-4e33-9ebc-f5bc8a9c67de .color-11,#chart-d42b7ba9-2e14-4e33-9ebc-f5bc8a9c67de .color-11 a:visited{stroke:#4caf50;fill:#4caf50}#chart-d42b7ba9-2e14-4e33-9ebc-f5bc8a9c67de .color-12,#chart-d42b7ba9-2e14-4e33-9ebc-f5bc8a9c67de .color-12 a:visited{stroke:#ffeb3b;fill:#ffeb3b}#chart-d42b7ba9-2e14-4e33-9ebc-f5bc8a9c67de .color-13,#chart-d42b7ba9-2e14-4e33-9ebc-f5bc8a9c67de .color-13 a:visited{stroke:#673ab7;fill:#673ab7}#chart-d42b7ba9-2e14-4e33-9ebc-f5bc8a9c67de .color-14,#chart-d42b7ba9-2e14-4e33-9ebc-f5bc8a9c67de .color-14 a:visited{stroke:#00bcd4;fill:#00bcd4}#chart-d42b7ba9-2e14-4e33-9ebc-f5bc8a9c67de .color-15,#chart-d42b7ba9-2e14-4e33-9ebc-f5bc8a9c67de .color-15 a:visited{stroke:#cddc39;fill:#cddc39}#chart-d42b7ba9-2e14-4e33-9ebc-f5bc8a9c67de .color-16,#chart-d42b7ba9-2e14-4e33-9ebc-f5bc8a9c67de .color-16 a:visited{stroke:#9e9e9e;fill:#9e9e9e}#chart-d42b7ba9-2e14-4e33-9ebc-f5bc8a9c67de .color-17,#chart-d42b7ba9-2e14-4e33-9ebc-f5bc8a9c67de .color-17 a:visited{stroke:#607d8b;fill:#607d8b}#chart-d42b7ba9-2e14-4e33-9ebc-f5bc8a9c67de .color-18,#chart-d42b7ba9-2e14-4e33-9ebc-f5bc8a9c67de .color-18 a:visited{stroke:#f21e0e;fill:#f21e0e}#chart-d42b7ba9-2e14-4e33-9ebc-f5bc8a9c67de .color-19,#chart-d42b7ba9-2e14-4e33-9ebc-f5bc8a9c67de .color-19 a:visited{stroke:#344396;fill:#344396}#chart-d42b7ba9-2e14-4e33-9ebc-f5bc8a9c67de .color-20,#chart-d42b7ba9-2e14-4e33-9ebc-f5bc8a9c67de .color-20 a:visited{stroke:#006c62;fill:#006c62}#chart-d42b7ba9-2e14-4e33-9ebc-f5bc8a9c67de .color-21,#chart-d42b7ba9-2e14-4e33-9ebc-f5bc8a9c67de .color-21 a:visited{stroke:#dca500;fill:#dca500}#chart-d42b7ba9-2e14-4e33-9ebc-f5bc8a9c67de .color-22,#chart-d42b7ba9-2e14-4e33-9ebc-f5bc8a9c67de .color-22 a:visited{stroke:#f73b00;fill:#f73b00}#chart-d42b7ba9-2e14-4e33-9ebc-f5bc8a9c67de .color-23,#chart-d42b7ba9-2e14-4e33-9ebc-f5bc8a9c67de .color-23 a:visited{stroke:#7d1f8e;fill:#7d1f8e}#chart-d42b7ba9-2e14-4e33-9ebc-f5bc8a9c67de .color-24,#chart-d42b7ba9-2e14-4e33-9ebc-f5bc8a9c67de .color-24 a:visited{stroke:#028cca;fill:#028cca}#chart-d42b7ba9-2e14-4e33-9ebc-f5bc8a9c67de .color-25,#chart-d42b7ba9-2e14-4e33-9ebc-f5bc8a9c67de .color-25 a:visited{stroke:#76aa38;fill:#76aa38}#chart-d42b7ba9-2e14-4e33-9ebc-f5bc8a9c67de .color-26,#chart-d42b7ba9-2e14-4e33-9ebc-f5bc8a9c67de .color-26 a:visited{stroke:#d57f00;fill:#d57f00}#chart-d42b7ba9-2e14-4e33-9ebc-f5bc8a9c67de .color-27,#chart-d42b7ba9-2e14-4e33-9ebc-f5bc8a9c67de .color-27 a:visited{stroke:#c91451;fill:#c91451}#chart-d42b7ba9-2e14-4e33-9ebc-f5bc8a9c67de .color-28,#chart-d42b7ba9-2e14-4e33-9ebc-f5bc8a9c67de .color-28 a:visited{stroke:#0c81de;fill:#0c81de}#chart-d42b7ba9-2e14-4e33-9ebc-f5bc8a9c67de .color-29,#chart-d42b7ba9-2e14-4e33-9ebc-f5bc8a9c67de .color-29 a:visited{stroke:#3f9243;fill:#3f9243}#chart-d42b7ba9-2e14-4e33-9ebc-f5bc8a9c67de .color-30,#chart-d42b7ba9-2e14-4e33-9ebc-f5bc8a9c67de .color-30 a:visited{stroke:#ffe711;fill:#ffe711}#chart-d42b7ba9-2e14-4e33-9ebc-f5bc8a9c67de .color-31,#chart-d42b7ba9-2e14-4e33-9ebc-f5bc8a9c67de .color-31 a:visited{stroke:#553097;fill:#553097}#chart-d42b7ba9-2e14-4e33-9ebc-f5bc8a9c67de .color-32,#chart-d42b7ba9-2e14-4e33-9ebc-f5bc8a9c67de .color-32 a:visited{stroke:#0097aa;fill:#0097aa}#chart-d42b7ba9-2e14-4e33-9ebc-f5bc8a9c67de .color-33,#chart-d42b7ba9-2e14-4e33-9ebc-f5bc8a9c67de .color-33 a:visited{stroke:#b9c823;fill:#b9c823}#chart-d42b7ba9-2e14-4e33-9ebc-f5bc8a9c67de .color-34,#chart-d42b7ba9-2e14-4e33-9ebc-f5bc8a9c67de .color-34 a:visited{stroke:#898989;fill:#898989}#chart-d42b7ba9-2e14-4e33-9ebc-f5bc8a9c67de .color-35,#chart-d42b7ba9-2e14-4e33-9ebc-f5bc8a9c67de .color-35 a:visited{stroke:#4f6772;fill:#4f6772}#chart-d42b7ba9-2e14-4e33-9ebc-f5bc8a9c67de .color-36,#chart-d42b7ba9-2e14-4e33-9ebc-f5bc8a9c67de .color-36 a:visited{stroke:#cb180b;fill:#cb180b}#chart-d42b7ba9-2e14-4e33-9ebc-f5bc8a9c67de .color-37,#chart-d42b7ba9-2e14-4e33-9ebc-f5bc8a9c67de .color-37 a:visited{stroke:#293577;fill:#293577}#chart-d42b7ba9-2e14-4e33-9ebc-f5bc8a9c67de .color-38,#chart-d42b7ba9-2e14-4e33-9ebc-f5bc8a9c67de .color-38 a:visited{stroke:#00423c;fill:#00423c}#chart-d42b7ba9-2e14-4e33-9ebc-f5bc8a9c67de .color-39,#chart-d42b7ba9-2e14-4e33-9ebc-f5bc8a9c67de .color-39 a:visited{stroke:#b28500;fill:#b28500}#chart-d42b7ba9-2e14-4e33-9ebc-f5bc8a9c67de .color-40,#chart-d42b7ba9-2e14-4e33-9ebc-f5bc8a9c67de .color-40 a:visited{stroke:#cd3100;fill:#cd3100}#chart-d42b7ba9-2e14-4e33-9ebc-f5bc8a9c67de .color-41,#chart-d42b7ba9-2e14-4e33-9ebc-f5bc8a9c67de .color-41 a:visited{stroke:#5f186b;fill:#5f186b}#chart-d42b7ba9-2e14-4e33-9ebc-f5bc8a9c67de .color-42,#chart-d42b7ba9-2e14-4e33-9ebc-f5bc8a9c67de .color-42 a:visited{stroke:#026fa1;fill:#026fa1}#chart-d42b7ba9-2e14-4e33-9ebc-f5bc8a9c67de .color-43,#chart-d42b7ba9-2e14-4e33-9ebc-f5bc8a9c67de .color-43 a:visited{stroke:#608b2e;fill:#608b2e}#chart-d42b7ba9-2e14-4e33-9ebc-f5bc8a9c67de .color-44,#chart-d42b7ba9-2e14-4e33-9ebc-f5bc8a9c67de .color-44 a:visited{stroke:#ab6600;fill:#ab6600}#chart-d42b7ba9-2e14-4e33-9ebc-f5bc8a9c67de .color-45,#chart-d42b7ba9-2e14-4e33-9ebc-f5bc8a9c67de .color-45 a:visited{stroke:#a31042;fill:#a31042}#chart-d42b7ba9-2e14-4e33-9ebc-f5bc8a9c67de .color-46,#chart-d42b7ba9-2e14-4e33-9ebc-f5bc8a9c67de .color-46 a:visited{stroke:#0a6ab6;fill:#0a6ab6}#chart-d42b7ba9-2e14-4e33-9ebc-f5bc8a9c67de .color-47,#chart-d42b7ba9-2e14-4e33-9ebc-f5bc8a9c67de .color-47 a:visited{stroke:#337435;fill:#337435}#chart-d42b7ba9-2e14-4e33-9ebc-f5bc8a9c67de .color-48,#chart-d42b7ba9-2e14-4e33-9ebc-f5bc8a9c67de .color-48 a:visited{stroke:#e6ce00;fill:#e6ce00}#chart-d42b7ba9-2e14-4e33-9ebc-f5bc8a9c67de .color-49,#chart-d42b7ba9-2e14-4e33-9ebc-f5bc8a9c67de .color-49 a:visited{stroke:#432677;fill:#432677}#chart-d42b7ba9-2e14-4e33-9ebc-f5bc8a9c67de .color-50,#chart-d42b7ba9-2e14-4e33-9ebc-f5bc8a9c67de .color-50 a:visited{stroke:#007180;fill:#007180}#chart-d42b7ba9-2e14-4e33-9ebc-f5bc8a9c67de .color-51,#chart-d42b7ba9-2e14-4e33-9ebc-f5bc8a9c67de .color-51 a:visited{stroke:#97a41d;fill:#97a41d}#chart-d42b7ba9-2e14-4e33-9ebc-f5bc8a9c67de .color-52,#chart-d42b7ba9-2e14-4e33-9ebc-f5bc8a9c67de .color-52 a:visited{stroke:#747474;fill:#747474}#chart-d42b7ba9-2e14-4e33-9ebc-f5bc8a9c67de .color-53,#chart-d42b7ba9-2e14-4e33-9ebc-f5bc8a9c67de .color-53 a:visited{stroke:#3e5059;fill:#3e5059}#chart-d42b7ba9-2e14-4e33-9ebc-f5bc8a9c67de .color-54,#chart-d42b7ba9-2e14-4e33-9ebc-f5bc8a9c67de .color-54 a:visited{stroke:#a31309;fill:#a31309}#chart-d42b7ba9-2e14-4e33-9ebc-f5bc8a9c67de .color-55,#chart-d42b7ba9-2e14-4e33-9ebc-f5bc8a9c67de .color-55 a:visited{stroke:#1e2757;fill:#1e2757}#chart-d42b7ba9-2e14-4e33-9ebc-f5bc8a9c67de .color-56,#chart-d42b7ba9-2e14-4e33-9ebc-f5bc8a9c67de .color-56 a:visited{stroke:#001816;fill:#001816}#chart-d42b7ba9-2e14-4e33-9ebc-f5bc8a9c67de .color-57,#chart-d42b7ba9-2e14-4e33-9ebc-f5bc8a9c67de .color-57 a:visited{stroke:#886600;fill:#886600}#chart-d42b7ba9-2e14-4e33-9ebc-f5bc8a9c67de .color-58,#chart-d42b7ba9-2e14-4e33-9ebc-f5bc8a9c67de .color-58 a:visited{stroke:#a32700;fill:#a32700}#chart-d42b7ba9-2e14-4e33-9ebc-f5bc8a9c67de .color-59,#chart-d42b7ba9-2e14-4e33-9ebc-f5bc8a9c67de .color-59 a:visited{stroke:#401049;fill:#401049}#chart-d42b7ba9-2e14-4e33-9ebc-f5bc8a9c67de .color-60,#chart-d42b7ba9-2e14-4e33-9ebc-f5bc8a9c67de .color-60 a:visited{stroke:#015377;fill:#015377}#chart-d42b7ba9-2e14-4e33-9ebc-f5bc8a9c67de .color-61,#chart-d42b7ba9-2e14-4e33-9ebc-f5bc8a9c67de .color-61 a:visited{stroke:#4a6b24;fill:#4a6b24}#chart-d42b7ba9-2e14-4e33-9ebc-f5bc8a9c67de .color-62,#chart-d42b7ba9-2e14-4e33-9ebc-f5bc8a9c67de .color-62 a:visited{stroke:#814d00;fill:#814d00}#chart-d42b7ba9-2e14-4e33-9ebc-f5bc8a9c67de .color-63,#chart-d42b7ba9-2e14-4e33-9ebc-f5bc8a9c67de .color-63 a:visited{stroke:#7d0c32;fill:#7d0c32}#chart-d42b7ba9-2e14-4e33-9ebc-f5bc8a9c67de .color-64,#chart-d42b7ba9-2e14-4e33-9ebc-f5bc8a9c67de .color-64 a:visited{stroke:#08538e;fill:#08538e}#chart-d42b7ba9-2e14-4e33-9ebc-f5bc8a9c67de .color-65,#chart-d42b7ba9-2e14-4e33-9ebc-f5bc8a9c67de .color-65 a:visited{stroke:#265728;fill:#265728}#chart-d42b7ba9-2e14-4e33-9ebc-f5bc8a9c67de .color-66,#chart-d42b7ba9-2e14-4e33-9ebc-f5bc8a9c67de .color-66 a:visited{stroke:#bca900;fill:#bca900}#chart-d42b7ba9-2e14-4e33-9ebc-f5bc8a9c67de .color-67,#chart-d42b7ba9-2e14-4e33-9ebc-f5bc8a9c67de .color-67 a:visited{stroke:#311c57;fill:#311c57}#chart-d42b7ba9-2e14-4e33-9ebc-f5bc8a9c67de .color-68,#chart-d42b7ba9-2e14-4e33-9ebc-f5bc8a9c67de .color-68 a:visited{stroke:#004c56;fill:#004c56}#chart-d42b7ba9-2e14-4e33-9ebc-f5bc8a9c67de .color-69,#chart-d42b7ba9-2e14-4e33-9ebc-f5bc8a9c67de .color-69 a:visited{stroke:#768017;fill:#768017}#chart-d42b7ba9-2e14-4e33-9ebc-f5bc8a9c67de .color-70,#chart-d42b7ba9-2e14-4e33-9ebc-f5bc8a9c67de .color-70 a:visited{stroke:#5f5f5f;fill:#5f5f5f}#chart-d42b7ba9-2e14-4e33-9ebc-f5bc8a9c67de .color-71,#chart-d42b7ba9-2e14-4e33-9ebc-f5bc8a9c67de .color-71 a:visited{stroke:#2c3a40;fill:#2c3a40}#chart-d42b7ba9-2e14-4e33-9ebc-f5bc8a9c67de .color-72,#chart-d42b7ba9-2e14-4e33-9ebc-f5bc8a9c67de .color-72 a:visited{stroke:#7b0f07;fill:#7b0f07}#chart-d42b7ba9-2e14-4e33-9ebc-f5bc8a9c67de .color-73,#chart-d42b7ba9-2e14-4e33-9ebc-f5bc8a9c67de .color-73 a:visited{stroke:#141938;fill:#141938}#chart-d42b7ba9-2e14-4e33-9ebc-f5bc8a9c67de .color-74,#chart-d42b7ba9-2e14-4e33-9ebc-f5bc8a9c67de .color-74 a:visited{stroke:#000000;fill:#000000}#chart-d42b7ba9-2e14-4e33-9ebc-f5bc8a9c67de .color-75,#chart-d42b7ba9-2e14-4e33-9ebc-f5bc8a9c67de .color-75 a:visited{stroke:#5e4600;fill:#5e4600}#chart-d42b7ba9-2e14-4e33-9ebc-f5bc8a9c67de .color-76,#chart-d42b7ba9-2e14-4e33-9ebc-f5bc8a9c67de .color-76 a:visited{stroke:#791d00;fill:#791d00}#chart-d42b7ba9-2e14-4e33-9ebc-f5bc8a9c67de .text-overlay .color-0 text{fill:black}#chart-d42b7ba9-2e14-4e33-9ebc-f5bc8a9c67de .text-overlay .color-1 text{fill:black}#chart-d42b7ba9-2e14-4e33-9ebc-f5bc8a9c67de .text-overlay .color-2 text{fill:black}#chart-d42b7ba9-2e14-4e33-9ebc-f5bc8a9c67de .text-overlay .color-3 text{fill:black}#chart-d42b7ba9-2e14-4e33-9ebc-f5bc8a9c67de .text-overlay .color-4 text{fill:black}#chart-d42b7ba9-2e14-4e33-9ebc-f5bc8a9c67de .text-overlay .color-5 text{fill:black}#chart-d42b7ba9-2e14-4e33-9ebc-f5bc8a9c67de .text-overlay .color-6 text{fill:black}#chart-d42b7ba9-2e14-4e33-9ebc-f5bc8a9c67de .text-overlay .color-7 text{fill:black}#chart-d42b7ba9-2e14-4e33-9ebc-f5bc8a9c67de .text-overlay .color-8 text{fill:black}#chart-d42b7ba9-2e14-4e33-9ebc-f5bc8a9c67de .text-overlay .color-9 text{fill:black}#chart-d42b7ba9-2e14-4e33-9ebc-f5bc8a9c67de .text-overlay .color-10 text{fill:black}#chart-d42b7ba9-2e14-4e33-9ebc-f5bc8a9c67de .text-overlay .color-11 text{fill:black}#chart-d42b7ba9-2e14-4e33-9ebc-f5bc8a9c67de .text-overlay .color-12 text{fill:black}#chart-d42b7ba9-2e14-4e33-9ebc-f5bc8a9c67de .text-overlay .color-13 text{fill:black}#chart-d42b7ba9-2e14-4e33-9ebc-f5bc8a9c67de .text-overlay .color-14 text{fill:black}#chart-d42b7ba9-2e14-4e33-9ebc-f5bc8a9c67de .text-overlay .color-15 text{fill:black}#chart-d42b7ba9-2e14-4e33-9ebc-f5bc8a9c67de .text-overlay .color-16 text{fill:black}#chart-d42b7ba9-2e14-4e33-9ebc-f5bc8a9c67de .text-overlay .color-17 text{fill:black}#chart-d42b7ba9-2e14-4e33-9ebc-f5bc8a9c67de .text-overlay .color-18 text{fill:black}#chart-d42b7ba9-2e14-4e33-9ebc-f5bc8a9c67de .text-overlay .color-19 text{fill:black}#chart-d42b7ba9-2e14-4e33-9ebc-f5bc8a9c67de .text-overlay .color-20 text{fill:black}#chart-d42b7ba9-2e14-4e33-9ebc-f5bc8a9c67de .text-overlay .color-21 text{fill:black}#chart-d42b7ba9-2e14-4e33-9ebc-f5bc8a9c67de .text-overlay .color-22 text{fill:black}#chart-d42b7ba9-2e14-4e33-9ebc-f5bc8a9c67de .text-overlay .color-23 text{fill:black}#chart-d42b7ba9-2e14-4e33-9ebc-f5bc8a9c67de .text-overlay .color-24 text{fill:black}#chart-d42b7ba9-2e14-4e33-9ebc-f5bc8a9c67de .text-overlay .color-25 text{fill:black}#chart-d42b7ba9-2e14-4e33-9ebc-f5bc8a9c67de .text-overlay .color-26 text{fill:black}#chart-d42b7ba9-2e14-4e33-9ebc-f5bc8a9c67de .text-overlay .color-27 text{fill:black}#chart-d42b7ba9-2e14-4e33-9ebc-f5bc8a9c67de .text-overlay .color-28 text{fill:black}#chart-d42b7ba9-2e14-4e33-9ebc-f5bc8a9c67de .text-overlay .color-29 text{fill:black}#chart-d42b7ba9-2e14-4e33-9ebc-f5bc8a9c67de .text-overlay .color-30 text{fill:black}#chart-d42b7ba9-2e14-4e33-9ebc-f5bc8a9c67de .text-overlay .color-31 text{fill:black}#chart-d42b7ba9-2e14-4e33-9ebc-f5bc8a9c67de .text-overlay .color-32 text{fill:black}#chart-d42b7ba9-2e14-4e33-9ebc-f5bc8a9c67de .text-overlay .color-33 text{fill:black}#chart-d42b7ba9-2e14-4e33-9ebc-f5bc8a9c67de .text-overlay .color-34 text{fill:black}#chart-d42b7ba9-2e14-4e33-9ebc-f5bc8a9c67de .text-overlay .color-35 text{fill:black}#chart-d42b7ba9-2e14-4e33-9ebc-f5bc8a9c67de .text-overlay .color-36 text{fill:black}#chart-d42b7ba9-2e14-4e33-9ebc-f5bc8a9c67de .text-overlay .color-37 text{fill:black}#chart-d42b7ba9-2e14-4e33-9ebc-f5bc8a9c67de .text-overlay .color-38 text{fill:white}#chart-d42b7ba9-2e14-4e33-9ebc-f5bc8a9c67de .text-overlay .color-39 text{fill:black}#chart-d42b7ba9-2e14-4e33-9ebc-f5bc8a9c67de .text-overlay .color-40 text{fill:black}#chart-d42b7ba9-2e14-4e33-9ebc-f5bc8a9c67de .text-overlay .color-41 text{fill:black}#chart-d42b7ba9-2e14-4e33-9ebc-f5bc8a9c67de .text-overlay .color-42 text{fill:black}#chart-d42b7ba9-2e14-4e33-9ebc-f5bc8a9c67de .text-overlay .color-43 text{fill:black}#chart-d42b7ba9-2e14-4e33-9ebc-f5bc8a9c67de .text-overlay .color-44 text{fill:black}#chart-d42b7ba9-2e14-4e33-9ebc-f5bc8a9c67de .text-overlay .color-45 text{fill:black}#chart-d42b7ba9-2e14-4e33-9ebc-f5bc8a9c67de .text-overlay .color-46 text{fill:black}#chart-d42b7ba9-2e14-4e33-9ebc-f5bc8a9c67de .text-overlay .color-47 text{fill:black}#chart-d42b7ba9-2e14-4e33-9ebc-f5bc8a9c67de .text-overlay .color-48 text{fill:black}#chart-d42b7ba9-2e14-4e33-9ebc-f5bc8a9c67de .text-overlay .color-49 text{fill:black}#chart-d42b7ba9-2e14-4e33-9ebc-f5bc8a9c67de .text-overlay .color-50 text{fill:black}#chart-d42b7ba9-2e14-4e33-9ebc-f5bc8a9c67de .text-overlay .color-51 text{fill:black}#chart-d42b7ba9-2e14-4e33-9ebc-f5bc8a9c67de .text-overlay .color-52 text{fill:black}#chart-d42b7ba9-2e14-4e33-9ebc-f5bc8a9c67de .text-overlay .color-53 text{fill:black}#chart-d42b7ba9-2e14-4e33-9ebc-f5bc8a9c67de .text-overlay .color-54 text{fill:black}#chart-d42b7ba9-2e14-4e33-9ebc-f5bc8a9c67de .text-overlay .color-55 text{fill:black}#chart-d42b7ba9-2e14-4e33-9ebc-f5bc8a9c67de .text-overlay .color-56 text{fill:white}#chart-d42b7ba9-2e14-4e33-9ebc-f5bc8a9c67de .text-overlay .color-57 text{fill:black}#chart-d42b7ba9-2e14-4e33-9ebc-f5bc8a9c67de .text-overlay .color-58 text{fill:black}#chart-d42b7ba9-2e14-4e33-9ebc-f5bc8a9c67de .text-overlay .color-59 text{fill:white}#chart-d42b7ba9-2e14-4e33-9ebc-f5bc8a9c67de .text-overlay .color-60 text{fill:black}#chart-d42b7ba9-2e14-4e33-9ebc-f5bc8a9c67de .text-overlay .color-61 text{fill:black}#chart-d42b7ba9-2e14-4e33-9ebc-f5bc8a9c67de .text-overlay .color-62 text{fill:black}#chart-d42b7ba9-2e14-4e33-9ebc-f5bc8a9c67de .text-overlay .color-63 text{fill:black}#chart-d42b7ba9-2e14-4e33-9ebc-f5bc8a9c67de .text-overlay .color-64 text{fill:black}#chart-d42b7ba9-2e14-4e33-9ebc-f5bc8a9c67de .text-overlay .color-65 text{fill:black}#chart-d42b7ba9-2e14-4e33-9ebc-f5bc8a9c67de .text-overlay .color-66 text{fill:black}#chart-d42b7ba9-2e14-4e33-9ebc-f5bc8a9c67de .text-overlay .color-67 text{fill:black}#chart-d42b7ba9-2e14-4e33-9ebc-f5bc8a9c67de .text-overlay .color-68 text{fill:white}#chart-d42b7ba9-2e14-4e33-9ebc-f5bc8a9c67de .text-overlay .color-69 text{fill:black}#chart-d42b7ba9-2e14-4e33-9ebc-f5bc8a9c67de .text-overlay .color-70 text{fill:black}#chart-d42b7ba9-2e14-4e33-9ebc-f5bc8a9c67de .text-overlay .color-71 text{fill:black}#chart-d42b7ba9-2e14-4e33-9ebc-f5bc8a9c67de .text-overlay .color-72 text{fill:black}#chart-d42b7ba9-2e14-4e33-9ebc-f5bc8a9c67de .text-overlay .color-73 text{fill:white}#chart-d42b7ba9-2e14-4e33-9ebc-f5bc8a9c67de .text-overlay .color-74 text{fill:white}#chart-d42b7ba9-2e14-4e33-9ebc-f5bc8a9c67de .text-overlay .color-75 text{fill:black}#chart-d42b7ba9-2e14-4e33-9ebc-f5bc8a9c67de .text-overlay .color-76 text{fill:black}\n",
       "#chart-d42b7ba9-2e14-4e33-9ebc-f5bc8a9c67de text.no_data{text-anchor:middle}#chart-d42b7ba9-2e14-4e33-9ebc-f5bc8a9c67de .guide.line{fill:none}#chart-d42b7ba9-2e14-4e33-9ebc-f5bc8a9c67de .centered{text-anchor:middle}#chart-d42b7ba9-2e14-4e33-9ebc-f5bc8a9c67de .title{text-anchor:middle}#chart-d42b7ba9-2e14-4e33-9ebc-f5bc8a9c67de .legends .legend text{fill-opacity:1}#chart-d42b7ba9-2e14-4e33-9ebc-f5bc8a9c67de .axis.x text{text-anchor:middle}#chart-d42b7ba9-2e14-4e33-9ebc-f5bc8a9c67de .axis.x:not(.web) text[transform]{text-anchor:start}#chart-d42b7ba9-2e14-4e33-9ebc-f5bc8a9c67de .axis.x:not(.web) text[transform].backwards{text-anchor:end}#chart-d42b7ba9-2e14-4e33-9ebc-f5bc8a9c67de .axis.y text{text-anchor:end}#chart-d42b7ba9-2e14-4e33-9ebc-f5bc8a9c67de .axis.y text[transform].backwards{text-anchor:start}#chart-d42b7ba9-2e14-4e33-9ebc-f5bc8a9c67de .axis.y2 text{text-anchor:start}#chart-d42b7ba9-2e14-4e33-9ebc-f5bc8a9c67de .axis.y2 text[transform].backwards{text-anchor:end}#chart-d42b7ba9-2e14-4e33-9ebc-f5bc8a9c67de .axis .guide.line{stroke-dasharray:4,4}#chart-d42b7ba9-2e14-4e33-9ebc-f5bc8a9c67de .axis .major.guide.line{stroke-dasharray:6,6}#chart-d42b7ba9-2e14-4e33-9ebc-f5bc8a9c67de .horizontal .axis.y .guide.line,#chart-d42b7ba9-2e14-4e33-9ebc-f5bc8a9c67de .horizontal .axis.y2 .guide.line,#chart-d42b7ba9-2e14-4e33-9ebc-f5bc8a9c67de .vertical .axis.x .guide.line{opacity:0}#chart-d42b7ba9-2e14-4e33-9ebc-f5bc8a9c67de .horizontal .axis.always_show .guide.line,#chart-d42b7ba9-2e14-4e33-9ebc-f5bc8a9c67de .vertical .axis.always_show .guide.line{opacity:1 !important}#chart-d42b7ba9-2e14-4e33-9ebc-f5bc8a9c67de .axis.y .guides:hover .guide.line,#chart-d42b7ba9-2e14-4e33-9ebc-f5bc8a9c67de .axis.y2 .guides:hover .guide.line,#chart-d42b7ba9-2e14-4e33-9ebc-f5bc8a9c67de .axis.x .guides:hover .guide.line{opacity:1}#chart-d42b7ba9-2e14-4e33-9ebc-f5bc8a9c67de .axis .guides:hover text{opacity:1}#chart-d42b7ba9-2e14-4e33-9ebc-f5bc8a9c67de .nofill{fill:none}#chart-d42b7ba9-2e14-4e33-9ebc-f5bc8a9c67de .subtle-fill{fill-opacity:.2}#chart-d42b7ba9-2e14-4e33-9ebc-f5bc8a9c67de .dot{stroke-width:1px;fill-opacity:1}#chart-d42b7ba9-2e14-4e33-9ebc-f5bc8a9c67de .dot.active{stroke-width:5px}#chart-d42b7ba9-2e14-4e33-9ebc-f5bc8a9c67de .dot.negative{fill:transparent}#chart-d42b7ba9-2e14-4e33-9ebc-f5bc8a9c67de text,#chart-d42b7ba9-2e14-4e33-9ebc-f5bc8a9c67de tspan{stroke:none !important}#chart-d42b7ba9-2e14-4e33-9ebc-f5bc8a9c67de .series text.active{opacity:1}#chart-d42b7ba9-2e14-4e33-9ebc-f5bc8a9c67de .tooltip rect{fill-opacity:.95;stroke-width:.5}#chart-d42b7ba9-2e14-4e33-9ebc-f5bc8a9c67de .tooltip text{fill-opacity:1}#chart-d42b7ba9-2e14-4e33-9ebc-f5bc8a9c67de .showable{visibility:hidden}#chart-d42b7ba9-2e14-4e33-9ebc-f5bc8a9c67de .showable.shown{visibility:visible}#chart-d42b7ba9-2e14-4e33-9ebc-f5bc8a9c67de .gauge-background{fill:rgba(229,229,229,1);stroke:none}#chart-d42b7ba9-2e14-4e33-9ebc-f5bc8a9c67de .bg-lines{stroke:rgba(249,249,249,1);stroke-width:2px}</style><script type=\"text/javascript\">window.pygal = window.pygal || {};window.pygal.config = window.pygal.config || {};window.pygal.config['d42b7ba9-2e14-4e33-9ebc-f5bc8a9c67de'] = {\"classes\": [\"pygal-chart\"], \"x_labels_major_every\": null, \"print_values\": false, \"y_labels_major_count\": null, \"force_uri_protocol\": \"https\", \"logarithmic\": false, \"stack_from_top\": false, \"tooltip_border_radius\": 0, \"xrange\": null, \"box_mode\": \"extremes\", \"margin_bottom\": null, \"interpolate\": null, \"disable_xml_declaration\": true, \"legend_at_bottom\": false, \"show_y_guides\": true, \"formatter\": null, \"style\": {\"value_colors\": [], \"foreground_strong\": \"rgba(0, 0, 0, 1)\", \"ci_colors\": [], \"guide_stroke_dasharray\": \"4,4\", \"major_guide_stroke_dasharray\": \"6,6\", \"opacity_hover\": \".8\", \"value_label_font_family\": \"Consolas, \\\"Liberation Mono\\\", Menlo, Courier, monospace\", \"label_font_family\": \"Consolas, \\\"Liberation Mono\\\", Menlo, Courier, monospace\", \"value_label_font_size\": 10, \"transition\": \"150ms\", \"no_data_font_size\": 64, \"colors\": [\"#F44336\", \"#3F51B5\", \"#009688\", \"#FFC107\", \"#FF5722\", \"#9C27B0\", \"#03A9F4\", \"#8BC34A\", \"#FF9800\", \"#E91E63\", \"#2196F3\", \"#4CAF50\", \"#FFEB3B\", \"#673AB7\", \"#00BCD4\", \"#CDDC39\", \"#9E9E9E\", \"#607D8B\"], \"major_label_font_family\": \"Consolas, \\\"Liberation Mono\\\", Menlo, Courier, monospace\", \"major_label_font_size\": 10, \"foreground\": \"rgba(0, 0, 0, .87)\", \"no_data_font_family\": \"Consolas, \\\"Liberation Mono\\\", Menlo, Courier, monospace\", \"label_font_size\": 10, \"foreground_subtle\": \"rgba(0, 0, 0, .54)\", \"tooltip_font_size\": 14, \"font_family\": \"Consolas, \\\"Liberation Mono\\\", Menlo, Courier, monospace\", \"opacity\": \".7\", \"title_font_family\": \"Consolas, \\\"Liberation Mono\\\", Menlo, Courier, monospace\", \"value_background\": \"rgba(229, 229, 229, 1)\", \"value_font_size\": 16, \"value_font_family\": \"Consolas, \\\"Liberation Mono\\\", Menlo, Courier, monospace\", \"legend_font_size\": 14, \"legend_font_family\": \"Consolas, \\\"Liberation Mono\\\", Menlo, Courier, monospace\", \"plot_background\": \"rgba(255, 255, 255, 1)\", \"tooltip_font_family\": \"Consolas, \\\"Liberation Mono\\\", Menlo, Courier, monospace\", \"title_font_size\": 16, \"background\": \"rgba(249, 249, 249, 1)\"}, \"js\": [\"//kozea.github.io/pygal.js/2.0.x/pygal-tooltips.min.js\"], \"show_x_labels\": true, \"fill\": false, \"inverse_y_axis\": false, \"range\": null, \"width\": 800, \"show_y_labels\": true, \"spacing\": 10, \"dynamic_print_values\": false, \"y_labels\": null, \"secondary_range\": null, \"show_only_major_dots\": false, \"y_title\": null, \"interpolation_parameters\": {}, \"margin_left\": null, \"strict\": false, \"height\": 600, \"y_labels_major_every\": null, \"stroke_style\": null, \"x_labels_major_count\": null, \"print_values_position\": \"center\", \"css\": [\"file://style.css\", \"file://graph.css\"], \"include_x_axis\": false, \"zero\": 0, \"missing_value_fill_truncation\": \"x\", \"show_x_guides\": false, \"stroke\": true, \"no_prefix\": false, \"allow_interruptions\": false, \"order_min\": null, \"tooltip_fancy_mode\": true, \"pretty_print\": false, \"title\": null, \"x_title\": null, \"x_labels\": null, \"x_label_rotation\": 0, \"show_minor_y_labels\": true, \"min_scale\": 4, \"show_legend\": true, \"print_labels\": false, \"margin\": 20, \"truncate_legend\": null, \"legend_at_bottom_columns\": null, \"show_dots\": true, \"truncate_label\": null, \"defs\": [], \"legend_box_size\": 12, \"margin_top\": null, \"legends\": [\"Gryphon\", \"perhaps\", \"replied\", \"creatures\", \"remember\", \"timidly\", \"eagerly\", \"mushroom\", \"followed\", \"opportunity\", \"soldiers\", \"because\", \"gardeners\", \"croquet\", \"remarked\", \"without\", \"angrily\", \"shouted\", \"yourself\", \"witness\", \"nothing\", \"waiting\", \"running\", \"interrupted\", \"everything\", \"Caterpillar\", \"something\", \"silence\", \"herself\", \"Dormouse\", \"appeared\", \"beginning\", \"getting\", \"question\", \"another\", \"looking\", \"growing\", \"whether\", \"continued\", \"However\", \"finished\", \"beautiful\", \"changed\", \"talking\", \"conversation\", \"repeated\", \"children\", \"Footman\", \"Majesty\", \"meaning\", \"through\", \"whiting\", \"anything\", \"thought\", \"sitting\", \"against\", \"minutes\", \"distance\", \"explain\", \"hurried\", \"hastily\", \"together\", \"offended\", \"suppose\", \"CHAPTER\", \"suddenly\", \"lessons\", \"anxiously\", \"puzzled\", \"certainly\", \"thinking\", \"Duchess\", \"turning\", \"believe\", \"curious\", \"noticed\", \"different\"], \"half_pie\": false, \"interpolation_precision\": 250, \"margin_right\": null, \"print_zeroes\": true, \"max_scale\": 16, \"rounded_bars\": null, \"dots_size\": 2.5, \"y_labels_major\": null, \"show_minor_x_labels\": true, \"explicit_size\": false, \"x_labels_major\": null, \"no_data_text\": \"No data\", \"inner_radius\": 0, \"y_label_rotation\": 0}</script><script type=\"text/javascript\" xlink:href=\"https://kozea.github.io/pygal.js/2.0.x/pygal-tooltips.min.js\"/></defs><title>Pygal</title><g class=\"graph bar-graph vertical\"><rect class=\"background\" height=\"600\" width=\"800\" x=\"0\" y=\"0\"/><g class=\"plot\" transform=\"translate(164, 20)\"><rect class=\"background\" height=\"560\" width=\"615.2\" x=\"0\" y=\"0\"/><g class=\"axis y\"><g class=\"guides\"><path class=\"axis major line\" d=\"M0.000000 549.230769 h615.200000\"/><text class=\"major\" x=\"-5\" y=\"552.7307692307693\">0</text><title>0</title></g><g class=\"guides\"><path class=\"guide line\" d=\"M0.000000 484.355885 h615.200000\"/><text class=\"\" x=\"-5\" y=\"487.8558850787766\">10</text><title>10</title></g><g class=\"guides\"><path class=\"guide line\" d=\"M0.000000 419.481001 h615.200000\"/><text class=\"\" x=\"-5\" y=\"422.9810009267841\">20</text><title>20</title></g><g class=\"guides\"><path class=\"guide line\" d=\"M0.000000 354.606117 h615.200000\"/><text class=\"\" x=\"-5\" y=\"358.1061167747915\">30</text><title>30</title></g><g class=\"guides\"><path class=\"guide line\" d=\"M0.000000 289.731233 h615.200000\"/><text class=\"\" x=\"-5\" y=\"293.23123262279887\">40</text><title>40</title></g><g class=\"guides\"><path class=\"major guide line\" d=\"M0.000000 224.856348 h615.200000\"/><text class=\"major\" x=\"-5\" y=\"228.35634847080627\">50</text><title>50</title></g><g class=\"guides\"><path class=\"guide line\" d=\"M0.000000 159.981464 h615.200000\"/><text class=\"\" x=\"-5\" y=\"163.48146431881372\">60</text><title>60</title></g><g class=\"guides\"><path class=\"guide line\" d=\"M0.000000 95.106580 h615.200000\"/><text class=\"\" x=\"-5\" y=\"98.60658016682112\">70</text><title>70</title></g><g class=\"guides\"><path class=\"guide line\" d=\"M0.000000 30.231696 h615.200000\"/><text class=\"\" x=\"-5\" y=\"33.73169601482857\">80</text><title>80</title></g></g><g class=\"series serie-0 color-0\"><g class=\"bars\"><g class=\"bar\"><rect class=\"rect reactive tooltip-trigger\" height=\"356.8118628359593\" rx=\"0\" ry=\"0\" width=\"5.949186813186813\" x=\"47.7287032967033\" y=\"192.41890639481\"/><desc class=\"value\">55</desc><desc class=\"x centered\">50.70329670329671</desc><desc class=\"y centered\">370.8248378127896</desc></g></g></g><g class=\"series serie-1 color-1\"><g class=\"bars\"><g class=\"bar\"><rect class=\"rect reactive tooltip-trigger\" height=\"90.82483781278967\" rx=\"0\" ry=\"0\" width=\"5.949186813186813\" x=\"54.48914285714286\" y=\"458.4059314179796\"/><desc class=\"value\">14</desc><desc class=\"x centered\">57.463736263736266</desc><desc class=\"y centered\">503.8183503243745</desc></g></g></g><g class=\"series serie-2 color-2\"><g class=\"bars\"><g class=\"bar\"><rect class=\"rect reactive tooltip-trigger\" height=\"188.13716404077854\" rx=\"0\" ry=\"0\" width=\"5.949186813186813\" x=\"61.249582417582424\" y=\"361.09360518999074\"/><desc class=\"value\">29</desc><desc class=\"x centered\">64.22417582417583</desc><desc class=\"y centered\">455.16218721038</desc></g></g></g><g class=\"series serie-3 color-3\"><g class=\"bars\"><g class=\"bar\"><rect class=\"rect reactive tooltip-trigger\" height=\"64.87488415199266\" rx=\"0\" ry=\"0\" width=\"5.949186813186813\" x=\"68.01002197802198\" y=\"484.3558850787766\"/><desc class=\"value\">10</desc><desc class=\"x centered\">70.98461538461538</desc><desc class=\"y centered\">516.7933271547729</desc></g></g></g><g class=\"series serie-4 color-4\"><g class=\"bars\"><g class=\"bar\"><rect class=\"rect reactive tooltip-trigger\" height=\"90.82483781278967\" rx=\"0\" ry=\"0\" width=\"5.949186813186813\" x=\"74.77046153846155\" y=\"458.4059314179796\"/><desc class=\"value\">14</desc><desc class=\"x centered\">77.74505494505496</desc><desc class=\"y centered\">503.8183503243745</desc></g></g></g><g class=\"series serie-5 color-5\"><g class=\"bars\"><g class=\"bar\"><rect class=\"rect reactive tooltip-trigger\" height=\"58.387395736793394\" rx=\"0\" ry=\"0\" width=\"5.949186813186813\" x=\"81.5309010989011\" y=\"490.8433734939759\"/><desc class=\"value\">9</desc><desc class=\"x centered\">84.50549450549451</desc><desc class=\"y centered\">520.0370713623726</desc></g></g></g><g class=\"series serie-6 color-6\"><g class=\"bars\"><g class=\"bar\"><rect class=\"rect reactive tooltip-trigger\" height=\"51.89990732159413\" rx=\"0\" ry=\"0\" width=\"5.949186813186813\" x=\"88.29134065934066\" y=\"497.33086190917516\"/><desc class=\"value\">8</desc><desc class=\"x centered\">91.26593406593406</desc><desc class=\"y centered\">523.2808155699722</desc></g></g></g><g class=\"series serie-7 color-7\"><g class=\"bars\"><g class=\"bar\"><rect class=\"rect reactive tooltip-trigger\" height=\"51.89990732159413\" rx=\"0\" ry=\"0\" width=\"5.949186813186813\" x=\"95.05178021978023\" y=\"497.33086190917516\"/><desc class=\"value\">8</desc><desc class=\"x centered\">98.02637362637364</desc><desc class=\"y centered\">523.2808155699722</desc></g></g></g><g class=\"series serie-8 color-8\"><g class=\"bars\"><g class=\"bar\"><rect class=\"rect reactive tooltip-trigger\" height=\"51.89990732159413\" rx=\"0\" ry=\"0\" width=\"5.949186813186813\" x=\"101.81221978021978\" y=\"497.33086190917516\"/><desc class=\"value\">8</desc><desc class=\"x centered\">104.78681318681319</desc><desc class=\"y centered\">523.2808155699722</desc></g></g></g><g class=\"series serie-9 color-9\"><g class=\"bars\"><g class=\"bar\"><rect class=\"rect reactive tooltip-trigger\" height=\"51.89990732159413\" rx=\"0\" ry=\"0\" width=\"5.949186813186813\" x=\"108.57265934065934\" y=\"497.33086190917516\"/><desc class=\"value\">8</desc><desc class=\"x centered\">111.54725274725274</desc><desc class=\"y centered\">523.2808155699722</desc></g></g></g><g class=\"series serie-10 color-10\"><g class=\"bars\"><g class=\"bar\"><rect class=\"rect reactive tooltip-trigger\" height=\"64.87488415199266\" rx=\"0\" ry=\"0\" width=\"5.949186813186813\" x=\"115.33309890109891\" y=\"484.3558850787766\"/><desc class=\"value\">10</desc><desc class=\"x centered\">118.30769230769232</desc><desc class=\"y centered\">516.7933271547729</desc></g></g></g><g class=\"series serie-11 color-11\"><g class=\"bars\"><g class=\"bar\"><rect class=\"rect reactive tooltip-trigger\" height=\"90.82483781278967\" rx=\"0\" ry=\"0\" width=\"5.949186813186813\" x=\"122.09353846153847\" y=\"458.4059314179796\"/><desc class=\"value\">14</desc><desc class=\"x centered\">125.06813186813187</desc><desc class=\"y centered\">503.8183503243745</desc></g></g></g><g class=\"series serie-12 color-12\"><g class=\"bars\"><g class=\"bar\"><rect class=\"rect reactive tooltip-trigger\" height=\"51.89990732159413\" rx=\"0\" ry=\"0\" width=\"5.949186813186813\" x=\"128.85397802197804\" y=\"497.33086190917516\"/><desc class=\"value\">8</desc><desc class=\"x centered\">131.82857142857145</desc><desc class=\"y centered\">523.2808155699722</desc></g></g></g><g class=\"series serie-13 color-13\"><g class=\"bars\"><g class=\"bar\"><rect class=\"rect reactive tooltip-trigger\" height=\"51.89990732159413\" rx=\"0\" ry=\"0\" width=\"5.949186813186813\" x=\"135.6144175824176\" y=\"497.33086190917516\"/><desc class=\"value\">8</desc><desc class=\"x centered\">138.589010989011</desc><desc class=\"y centered\">523.2808155699722</desc></g></g></g><g class=\"series serie-14 color-14\"><g class=\"bars\"><g class=\"bar\"><rect class=\"rect reactive tooltip-trigger\" height=\"64.87488415199266\" rx=\"0\" ry=\"0\" width=\"5.949186813186813\" x=\"142.37485714285714\" y=\"484.3558850787766\"/><desc class=\"value\">10</desc><desc class=\"x centered\">145.34945054945055</desc><desc class=\"y centered\">516.7933271547729</desc></g></g></g><g class=\"series serie-15 color-15\"><g class=\"bars\"><g class=\"bar\"><rect class=\"rect reactive tooltip-trigger\" height=\"168.6746987951808\" rx=\"0\" ry=\"0\" width=\"5.949186813186813\" x=\"149.13529670329672\" y=\"380.5560704355885\"/><desc class=\"value\">26</desc><desc class=\"x centered\">152.10989010989013</desc><desc class=\"y centered\">464.8934198331789</desc></g></g></g><g class=\"series serie-16 color-16\"><g class=\"bars\"><g class=\"bar\"><rect class=\"rect reactive tooltip-trigger\" height=\"58.387395736793394\" rx=\"0\" ry=\"0\" width=\"5.949186813186813\" x=\"155.89573626373627\" y=\"490.8433734939759\"/><desc class=\"value\">9</desc><desc class=\"x centered\">158.87032967032968</desc><desc class=\"y centered\">520.0370713623726</desc></g></g></g><g class=\"series serie-17 color-17\"><g class=\"bars\"><g class=\"bar\"><rect class=\"rect reactive tooltip-trigger\" height=\"58.387395736793394\" rx=\"0\" ry=\"0\" width=\"5.949186813186813\" x=\"162.65617582417582\" y=\"490.8433734939759\"/><desc class=\"value\">9</desc><desc class=\"x centered\">165.63076923076923</desc><desc class=\"y centered\">520.0370713623726</desc></g></g></g><g class=\"series serie-18 color-18\"><g class=\"bars\"><g class=\"bar\"><rect class=\"rect reactive tooltip-trigger\" height=\"64.87488415199266\" rx=\"0\" ry=\"0\" width=\"5.949186813186813\" x=\"169.4166153846154\" y=\"484.3558850787766\"/><desc class=\"value\">10</desc><desc class=\"x centered\">172.3912087912088</desc><desc class=\"y centered\">516.7933271547729</desc></g></g></g><g class=\"series serie-19 color-19\"><g class=\"bars\"><g class=\"bar\"><rect class=\"rect reactive tooltip-trigger\" height=\"64.87488415199266\" rx=\"0\" ry=\"0\" width=\"5.949186813186813\" x=\"176.17705494505498\" y=\"484.3558850787766\"/><desc class=\"value\">10</desc><desc class=\"x centered\">179.1516483516484</desc><desc class=\"y centered\">516.7933271547729</desc></g></g></g><g class=\"series serie-20 color-20\"><g class=\"bars\"><g class=\"bar\"><rect class=\"rect reactive tooltip-trigger\" height=\"194.6246524559778\" rx=\"0\" ry=\"0\" width=\"5.949186813186813\" x=\"182.9374945054945\" y=\"354.6061167747915\"/><desc class=\"value\">30</desc><desc class=\"x centered\">185.9120879120879</desc><desc class=\"y centered\">451.91844300278035</desc></g></g></g><g class=\"series serie-21 color-21\"><g class=\"bars\"><g class=\"bar\"><rect class=\"rect reactive tooltip-trigger\" height=\"51.89990732159413\" rx=\"0\" ry=\"0\" width=\"5.949186813186813\" x=\"189.69793406593408\" y=\"497.33086190917516\"/><desc class=\"value\">8</desc><desc class=\"x centered\">192.6725274725275</desc><desc class=\"y centered\">523.2808155699722</desc></g></g></g><g class=\"series serie-22 color-22\"><g class=\"bars\"><g class=\"bar\"><rect class=\"rect reactive tooltip-trigger\" height=\"51.89990732159413\" rx=\"0\" ry=\"0\" width=\"5.949186813186813\" x=\"196.45837362637366\" y=\"497.33086190917516\"/><desc class=\"value\">8</desc><desc class=\"x centered\">199.43296703296707</desc><desc class=\"y centered\">523.2808155699722</desc></g></g></g><g class=\"series serie-23 color-23\"><g class=\"bars\"><g class=\"bar\"><rect class=\"rect reactive tooltip-trigger\" height=\"58.387395736793394\" rx=\"0\" ry=\"0\" width=\"5.949186813186813\" x=\"203.21881318681318\" y=\"490.8433734939759\"/><desc class=\"value\">9</desc><desc class=\"x centered\">206.1934065934066</desc><desc class=\"y centered\">520.0370713623726</desc></g></g></g><g class=\"series serie-24 color-24\"><g class=\"bars\"><g class=\"bar\"><rect class=\"rect reactive tooltip-trigger\" height=\"77.84986098239119\" rx=\"0\" ry=\"0\" width=\"5.949186813186813\" x=\"209.97925274725276\" y=\"471.3809082483781\"/><desc class=\"value\">12</desc><desc class=\"x centered\">212.95384615384617</desc><desc class=\"y centered\">510.3058387395737</desc></g></g></g><g class=\"series serie-25 color-25\"><g class=\"bars\"><g class=\"bar\"><rect class=\"rect reactive tooltip-trigger\" height=\"175.16218721038\" rx=\"0\" ry=\"0\" width=\"5.949186813186813\" x=\"216.73969230769234\" y=\"374.0685820203893\"/><desc class=\"value\">27</desc><desc class=\"x centered\">219.71428571428575</desc><desc class=\"y centered\">461.6496756255793</desc></g></g></g><g class=\"series serie-26 color-26\"><g class=\"bars\"><g class=\"bar\"><rect class=\"rect reactive tooltip-trigger\" height=\"110.28730305838747\" rx=\"0\" ry=\"0\" width=\"5.949186813186813\" x=\"223.50013186813186\" y=\"438.9434661723818\"/><desc class=\"value\">17</desc><desc class=\"x centered\">226.47472527472527</desc><desc class=\"y centered\">494.08711770157555</desc></g></g></g><g class=\"series serie-27 color-27\"><g class=\"bars\"><g class=\"bar\"><rect class=\"rect reactive tooltip-trigger\" height=\"71.36237256719193\" rx=\"0\" ry=\"0\" width=\"5.949186813186813\" x=\"230.26057142857144\" y=\"477.86839666357736\"/><desc class=\"value\">11</desc><desc class=\"x centered\">233.23516483516485</desc><desc class=\"y centered\">513.5495829471733</desc></g></g></g><g class=\"series serie-28 color-28\"><g class=\"bars\"><g class=\"bar\"><rect class=\"rect reactive tooltip-trigger\" height=\"538.4615384615386\" rx=\"0\" ry=\"0\" width=\"5.949186813186813\" x=\"237.02101098901102\" y=\"10.769230769230717\"/><desc class=\"value\">83</desc><desc class=\"x centered\">239.99560439560443</desc><desc class=\"y centered\">280.0</desc></g></g></g><g class=\"series serie-29 color-29\"><g class=\"bars\"><g class=\"bar\"><rect class=\"rect reactive tooltip-trigger\" height=\"259.4995366079704\" rx=\"0\" ry=\"0\" width=\"5.949186813186813\" x=\"243.78145054945054\" y=\"289.73123262279887\"/><desc class=\"value\">40</desc><desc class=\"x centered\">246.75604395604395</desc><desc class=\"y centered\">419.4810009267841</desc></g></g></g><g class=\"series serie-30 color-30\"><g class=\"bars\"><g class=\"bar\"><rect class=\"rect reactive tooltip-trigger\" height=\"51.89990732159413\" rx=\"0\" ry=\"0\" width=\"5.949186813186813\" x=\"250.54189010989012\" y=\"497.33086190917516\"/><desc class=\"value\">8</desc><desc class=\"x centered\">253.51648351648353</desc><desc class=\"y centered\">523.2808155699722</desc></g></g></g><g class=\"series serie-31 color-31\"><g class=\"bars\"><g class=\"bar\"><rect class=\"rect reactive tooltip-trigger\" height=\"90.82483781278967\" rx=\"0\" ry=\"0\" width=\"5.949186813186813\" x=\"257.3023296703297\" y=\"458.4059314179796\"/><desc class=\"value\">14</desc><desc class=\"x centered\">260.2769230769231</desc><desc class=\"y centered\">503.8183503243745</desc></g></g></g><g class=\"series serie-32 color-32\"><g class=\"bars\"><g class=\"bar\"><rect class=\"rect reactive tooltip-trigger\" height=\"142.72474513438374\" rx=\"0\" ry=\"0\" width=\"5.949186813186813\" x=\"264.0627692307692\" y=\"406.50602409638554\"/><desc class=\"value\">22</desc><desc class=\"x centered\">267.0373626373626</desc><desc class=\"y centered\">477.8683966635774</desc></g></g></g><g class=\"series serie-33 color-33\"><g class=\"bars\"><g class=\"bar\"><rect class=\"rect reactive tooltip-trigger\" height=\"110.28730305838747\" rx=\"0\" ry=\"0\" width=\"5.949186813186813\" x=\"270.8232087912088\" y=\"438.9434661723818\"/><desc class=\"value\">17</desc><desc class=\"x centered\">273.7978021978022</desc><desc class=\"y centered\">494.08711770157555</desc></g></g></g><g class=\"series serie-34 color-34\"><g class=\"bars\"><g class=\"bar\"><rect class=\"rect reactive tooltip-trigger\" height=\"142.72474513438374\" rx=\"0\" ry=\"0\" width=\"5.949186813186813\" x=\"277.5836483516484\" y=\"406.50602409638554\"/><desc class=\"value\">22</desc><desc class=\"x centered\">280.55824175824176</desc><desc class=\"y centered\">477.8683966635774</desc></g></g></g><g class=\"series serie-35 color-35\"><g class=\"bars\"><g class=\"bar\"><rect class=\"rect reactive tooltip-trigger\" height=\"207.59962928637628\" rx=\"0\" ry=\"0\" width=\"5.949186813186813\" x=\"284.3440879120879\" y=\"341.631139944393\"/><desc class=\"value\">32</desc><desc class=\"x centered\">287.3186813186813</desc><desc class=\"y centered\">445.43095458758114</desc></g></g></g><g class=\"series serie-36 color-36\"><g class=\"bars\"><g class=\"bar\"><rect class=\"rect reactive tooltip-trigger\" height=\"71.36237256719193\" rx=\"0\" ry=\"0\" width=\"5.949186813186813\" x=\"291.1045274725275\" y=\"477.86839666357736\"/><desc class=\"value\">11</desc><desc class=\"x centered\">294.07912087912086</desc><desc class=\"y centered\">513.5495829471733</desc></g></g></g><g class=\"series serie-37 color-37\"><g class=\"bars\"><g class=\"bar\"><rect class=\"rect reactive tooltip-trigger\" height=\"71.36237256719193\" rx=\"0\" ry=\"0\" width=\"5.949186813186813\" x=\"297.86496703296706\" y=\"477.86839666357736\"/><desc class=\"value\">11</desc><desc class=\"x centered\">300.83956043956044</desc><desc class=\"y centered\">513.5495829471733</desc></g></g></g><g class=\"series serie-38 color-38\"><g class=\"bars\"><g class=\"bar\"><rect class=\"rect reactive tooltip-trigger\" height=\"58.387395736793394\" rx=\"0\" ry=\"0\" width=\"5.949186813186813\" x=\"304.62540659340664\" y=\"490.8433734939759\"/><desc class=\"value\">9</desc><desc class=\"x centered\">307.6</desc><desc class=\"y centered\">520.0370713623726</desc></g></g></g><g class=\"series serie-39 color-39\"><g class=\"bars\"><g class=\"bar\"><rect class=\"rect reactive tooltip-trigger\" height=\"84.3373493975904\" rx=\"0\" ry=\"0\" width=\"5.949186813186813\" x=\"311.38584615384616\" y=\"464.8934198331789\"/><desc class=\"value\">13</desc><desc class=\"x centered\">314.36043956043954</desc><desc class=\"y centered\">507.0620945319741</desc></g></g></g><g class=\"series serie-40 color-40\"><g class=\"bars\"><g class=\"bar\"><rect class=\"rect reactive tooltip-trigger\" height=\"77.84986098239119\" rx=\"0\" ry=\"0\" width=\"5.949186813186813\" x=\"318.14628571428574\" y=\"471.3809082483781\"/><desc class=\"value\">12</desc><desc class=\"x centered\">321.1208791208791</desc><desc class=\"y centered\">510.3058387395737</desc></g></g></g><g class=\"series serie-41 color-41\"><g class=\"bars\"><g class=\"bar\"><rect class=\"rect reactive tooltip-trigger\" height=\"51.89990732159413\" rx=\"0\" ry=\"0\" width=\"5.949186813186813\" x=\"324.9067252747253\" y=\"497.33086190917516\"/><desc class=\"value\">8</desc><desc class=\"x centered\">327.8813186813187</desc><desc class=\"y centered\">523.2808155699722</desc></g></g></g><g class=\"series serie-42 color-42\"><g class=\"bars\"><g class=\"bar\"><rect class=\"rect reactive tooltip-trigger\" height=\"51.89990732159413\" rx=\"0\" ry=\"0\" width=\"5.949186813186813\" x=\"331.66716483516484\" y=\"497.33086190917516\"/><desc class=\"value\">8</desc><desc class=\"x centered\">334.6417582417582</desc><desc class=\"y centered\">523.2808155699722</desc></g></g></g><g class=\"series serie-43 color-43\"><g class=\"bars\"><g class=\"bar\"><rect class=\"rect reactive tooltip-trigger\" height=\"103.7998146431882\" rx=\"0\" ry=\"0\" width=\"5.949186813186813\" x=\"338.4276043956044\" y=\"445.4309545875811\"/><desc class=\"value\">16</desc><desc class=\"x centered\">341.4021978021978</desc><desc class=\"y centered\">497.33086190917516</desc></g></g></g><g class=\"series serie-44 color-44\"><g class=\"bars\"><g class=\"bar\"><rect class=\"rect reactive tooltip-trigger\" height=\"64.87488415199266\" rx=\"0\" ry=\"0\" width=\"5.949186813186813\" x=\"345.188043956044\" y=\"484.3558850787766\"/><desc class=\"value\">10</desc><desc class=\"x centered\">348.1626373626374</desc><desc class=\"y centered\">516.7933271547729</desc></g></g></g><g class=\"series serie-45 color-45\"><g class=\"bars\"><g class=\"bar\"><rect class=\"rect reactive tooltip-trigger\" height=\"64.87488415199266\" rx=\"0\" ry=\"0\" width=\"5.949186813186813\" x=\"351.9484835164835\" y=\"484.3558850787766\"/><desc class=\"value\">10</desc><desc class=\"x centered\">354.9230769230769</desc><desc class=\"y centered\">516.7933271547729</desc></g></g></g><g class=\"series serie-46 color-46\"><g class=\"bars\"><g class=\"bar\"><rect class=\"rect reactive tooltip-trigger\" height=\"64.87488415199266\" rx=\"0\" ry=\"0\" width=\"5.949186813186813\" x=\"358.7089230769231\" y=\"484.3558850787766\"/><desc class=\"value\">10</desc><desc class=\"x centered\">361.6835164835165</desc><desc class=\"y centered\">516.7933271547729</desc></g></g></g><g class=\"series serie-47 color-47\"><g class=\"bars\"><g class=\"bar\"><rect class=\"rect reactive tooltip-trigger\" height=\"71.36237256719193\" rx=\"0\" ry=\"0\" width=\"5.949186813186813\" x=\"365.4693626373627\" y=\"477.86839666357736\"/><desc class=\"value\">11</desc><desc class=\"x centered\">368.44395604395606</desc><desc class=\"y centered\">513.5495829471733</desc></g></g></g><g class=\"series serie-48 color-48\"><g class=\"bars\"><g class=\"bar\"><rect class=\"rect reactive tooltip-trigger\" height=\"77.84986098239119\" rx=\"0\" ry=\"0\" width=\"5.949186813186813\" x=\"372.2298021978022\" y=\"471.3809082483781\"/><desc class=\"value\">12</desc><desc class=\"x centered\">375.2043956043956</desc><desc class=\"y centered\">510.3058387395737</desc></g></g></g><g class=\"series serie-49 color-49\"><g class=\"bars\"><g class=\"bar\"><rect class=\"rect reactive tooltip-trigger\" height=\"51.89990732159413\" rx=\"0\" ry=\"0\" width=\"5.949186813186813\" x=\"378.9902417582418\" y=\"497.33086190917516\"/><desc class=\"value\">8</desc><desc class=\"x centered\">381.96483516483516</desc><desc class=\"y centered\">523.2808155699722</desc></g></g></g><g class=\"series serie-50 color-50\"><g class=\"bars\"><g class=\"bar\"><rect class=\"rect reactive tooltip-trigger\" height=\"84.3373493975904\" rx=\"0\" ry=\"0\" width=\"5.949186813186813\" x=\"385.75068131868136\" y=\"464.8934198331789\"/><desc class=\"value\">13</desc><desc class=\"x centered\">388.72527472527474</desc><desc class=\"y centered\">507.0620945319741</desc></g></g></g><g class=\"series serie-51 color-51\"><g class=\"bars\"><g class=\"bar\"><rect class=\"rect reactive tooltip-trigger\" height=\"51.89990732159413\" rx=\"0\" ry=\"0\" width=\"5.949186813186813\" x=\"392.5111208791209\" y=\"497.33086190917516\"/><desc class=\"value\">8</desc><desc class=\"x centered\">395.48571428571427</desc><desc class=\"y centered\">523.2808155699722</desc></g></g></g><g class=\"series serie-52 color-52\"><g class=\"bars\"><g class=\"bar\"><rect class=\"rect reactive tooltip-trigger\" height=\"123.262279888786\" rx=\"0\" ry=\"0\" width=\"5.949186813186813\" x=\"399.27156043956046\" y=\"425.9684893419833\"/><desc class=\"value\">19</desc><desc class=\"x centered\">402.24615384615385</desc><desc class=\"y centered\">487.5996292863763</desc></g></g></g><g class=\"series serie-53 color-53\"><g class=\"bars\"><g class=\"bar\"><rect class=\"rect reactive tooltip-trigger\" height=\"480.07414272474523\" rx=\"0\" ry=\"0\" width=\"5.949186813186813\" x=\"406.03200000000004\" y=\"69.15662650602405\"/><desc class=\"value\">74</desc><desc class=\"x centered\">409.0065934065934</desc><desc class=\"y centered\">309.19369786839667</desc></g></g></g><g class=\"series serie-54 color-54\"><g class=\"bars\"><g class=\"bar\"><rect class=\"rect reactive tooltip-trigger\" height=\"64.87488415199266\" rx=\"0\" ry=\"0\" width=\"5.949186813186813\" x=\"412.79243956043956\" y=\"484.3558850787766\"/><desc class=\"value\">10</desc><desc class=\"x centered\">415.76703296703295</desc><desc class=\"y centered\">516.7933271547729</desc></g></g></g><g class=\"series serie-55 color-55\"><g class=\"bars\"><g class=\"bar\"><rect class=\"rect reactive tooltip-trigger\" height=\"58.387395736793394\" rx=\"0\" ry=\"0\" width=\"5.949186813186813\" x=\"419.55287912087914\" y=\"490.8433734939759\"/><desc class=\"value\">9</desc><desc class=\"x centered\">422.5274725274725</desc><desc class=\"y centered\">520.0370713623726</desc></g></g></g><g class=\"series serie-56 color-56\"><g class=\"bars\"><g class=\"bar\"><rect class=\"rect reactive tooltip-trigger\" height=\"71.36237256719193\" rx=\"0\" ry=\"0\" width=\"5.949186813186813\" x=\"426.3133186813187\" y=\"477.86839666357736\"/><desc class=\"value\">11</desc><desc class=\"x centered\">429.2879120879121</desc><desc class=\"y centered\">513.5495829471733</desc></g></g></g><g class=\"series serie-57 color-57\"><g class=\"bars\"><g class=\"bar\"><rect class=\"rect reactive tooltip-trigger\" height=\"51.89990732159413\" rx=\"0\" ry=\"0\" width=\"5.949186813186813\" x=\"433.07375824175824\" y=\"497.33086190917516\"/><desc class=\"value\">8</desc><desc class=\"x centered\">436.0483516483516</desc><desc class=\"y centered\">523.2808155699722</desc></g></g></g><g class=\"series serie-58 color-58\"><g class=\"bars\"><g class=\"bar\"><rect class=\"rect reactive tooltip-trigger\" height=\"51.89990732159413\" rx=\"0\" ry=\"0\" width=\"5.949186813186813\" x=\"439.8341978021978\" y=\"497.33086190917516\"/><desc class=\"value\">8</desc><desc class=\"x centered\">442.8087912087912</desc><desc class=\"y centered\">523.2808155699722</desc></g></g></g><g class=\"series serie-59 color-59\"><g class=\"bars\"><g class=\"bar\"><rect class=\"rect reactive tooltip-trigger\" height=\"71.36237256719193\" rx=\"0\" ry=\"0\" width=\"5.949186813186813\" x=\"446.5946373626374\" y=\"477.86839666357736\"/><desc class=\"value\">11</desc><desc class=\"x centered\">449.5692307692308</desc><desc class=\"y centered\">513.5495829471733</desc></g></g></g><g class=\"series serie-60 color-60\"><g class=\"bars\"><g class=\"bar\"><rect class=\"rect reactive tooltip-trigger\" height=\"103.7998146431882\" rx=\"0\" ry=\"0\" width=\"5.949186813186813\" x=\"453.3550769230769\" y=\"445.4309545875811\"/><desc class=\"value\">16</desc><desc class=\"x centered\">456.3296703296703</desc><desc class=\"y centered\">497.33086190917516</desc></g></g></g><g class=\"series serie-61 color-61\"><g class=\"bars\"><g class=\"bar\"><rect class=\"rect reactive tooltip-trigger\" height=\"58.387395736793394\" rx=\"0\" ry=\"0\" width=\"5.949186813186813\" x=\"460.1155164835165\" y=\"490.8433734939759\"/><desc class=\"value\">9</desc><desc class=\"x centered\">463.0901098901099</desc><desc class=\"y centered\">520.0370713623726</desc></g></g></g><g class=\"series serie-62 color-62\"><g class=\"bars\"><g class=\"bar\"><rect class=\"rect reactive tooltip-trigger\" height=\"64.87488415199266\" rx=\"0\" ry=\"0\" width=\"5.949186813186813\" x=\"466.8759560439561\" y=\"484.3558850787766\"/><desc class=\"value\">10</desc><desc class=\"x centered\">469.85054945054947</desc><desc class=\"y centered\">516.7933271547729</desc></g></g></g><g class=\"series serie-63 color-63\"><g class=\"bars\"><g class=\"bar\"><rect class=\"rect reactive tooltip-trigger\" height=\"77.84986098239119\" rx=\"0\" ry=\"0\" width=\"5.949186813186813\" x=\"473.6363956043956\" y=\"471.3809082483781\"/><desc class=\"value\">12</desc><desc class=\"x centered\">476.610989010989</desc><desc class=\"y centered\">510.3058387395737</desc></g></g></g><g class=\"series serie-64 color-64\"><g class=\"bars\"><g class=\"bar\"><rect class=\"rect reactive tooltip-trigger\" height=\"77.84986098239119\" rx=\"0\" ry=\"0\" width=\"5.949186813186813\" x=\"480.3968351648352\" y=\"471.3809082483781\"/><desc class=\"value\">12</desc><desc class=\"x centered\">483.37142857142857</desc><desc class=\"y centered\">510.3058387395737</desc></g></g></g><g class=\"series serie-65 color-65\"><g class=\"bars\"><g class=\"bar\"><rect class=\"rect reactive tooltip-trigger\" height=\"77.84986098239119\" rx=\"0\" ry=\"0\" width=\"5.949186813186813\" x=\"487.15727472527476\" y=\"471.3809082483781\"/><desc class=\"value\">12</desc><desc class=\"x centered\">490.13186813186815</desc><desc class=\"y centered\">510.3058387395737</desc></g></g></g><g class=\"series serie-66 color-66\"><g class=\"bars\"><g class=\"bar\"><rect class=\"rect reactive tooltip-trigger\" height=\"64.87488415199266\" rx=\"0\" ry=\"0\" width=\"5.949186813186813\" x=\"493.9177142857143\" y=\"484.3558850787766\"/><desc class=\"value\">10</desc><desc class=\"x centered\">496.89230769230767</desc><desc class=\"y centered\">516.7933271547729</desc></g></g></g><g class=\"series serie-67 color-67\"><g class=\"bars\"><g class=\"bar\"><rect class=\"rect reactive tooltip-trigger\" height=\"90.82483781278967\" rx=\"0\" ry=\"0\" width=\"5.949186813186813\" x=\"500.67815384615386\" y=\"458.4059314179796\"/><desc class=\"value\">14</desc><desc class=\"x centered\">503.65274725274725</desc><desc class=\"y centered\">503.8183503243745</desc></g></g></g><g class=\"series serie-68 color-68\"><g class=\"bars\"><g class=\"bar\"><rect class=\"rect reactive tooltip-trigger\" height=\"58.387395736793394\" rx=\"0\" ry=\"0\" width=\"5.949186813186813\" x=\"507.43859340659344\" y=\"490.8433734939759\"/><desc class=\"value\">9</desc><desc class=\"x centered\">510.4131868131868</desc><desc class=\"y centered\">520.0370713623726</desc></g></g></g><g class=\"series serie-69 color-69\"><g class=\"bars\"><g class=\"bar\"><rect class=\"rect reactive tooltip-trigger\" height=\"84.3373493975904\" rx=\"0\" ry=\"0\" width=\"5.949186813186813\" x=\"514.1990329670328\" y=\"464.8934198331789\"/><desc class=\"value\">13</desc><desc class=\"x centered\">517.1736263736262</desc><desc class=\"y centered\">507.0620945319741</desc></g></g></g><g class=\"series serie-70 color-70\"><g class=\"bars\"><g class=\"bar\"><rect class=\"rect reactive tooltip-trigger\" height=\"64.87488415199266\" rx=\"0\" ry=\"0\" width=\"5.949186813186813\" x=\"520.9594725274725\" y=\"484.3558850787766\"/><desc class=\"value\">10</desc><desc class=\"x centered\">523.9340659340659</desc><desc class=\"y centered\">516.7933271547729</desc></g></g></g><g class=\"series serie-71 color-71\"><g class=\"bars\"><g class=\"bar\"><rect class=\"rect reactive tooltip-trigger\" height=\"272.47451343836894\" rx=\"0\" ry=\"0\" width=\"5.949186813186813\" x=\"527.719912087912\" y=\"276.75625579240034\"/><desc class=\"value\">42</desc><desc class=\"x centered\">530.6945054945054</desc><desc class=\"y centered\">412.9935125115848</desc></g></g></g><g class=\"series serie-72 color-72\"><g class=\"bars\"><g class=\"bar\"><rect class=\"rect reactive tooltip-trigger\" height=\"77.84986098239119\" rx=\"0\" ry=\"0\" width=\"5.949186813186813\" x=\"534.4803516483515\" y=\"471.3809082483781\"/><desc class=\"value\">12</desc><desc class=\"x centered\">537.4549450549449</desc><desc class=\"y centered\">510.3058387395737</desc></g></g></g><g class=\"series serie-73 color-73\"><g class=\"bars\"><g class=\"bar\"><rect class=\"rect reactive tooltip-trigger\" height=\"58.387395736793394\" rx=\"0\" ry=\"0\" width=\"5.949186813186813\" x=\"541.2407912087912\" y=\"490.8433734939759\"/><desc class=\"value\">9</desc><desc class=\"x centered\">544.2153846153846</desc><desc class=\"y centered\">520.0370713623726</desc></g></g></g><g class=\"series serie-74 color-74\"><g class=\"bars\"><g class=\"bar\"><rect class=\"rect reactive tooltip-trigger\" height=\"123.262279888786\" rx=\"0\" ry=\"0\" width=\"5.949186813186813\" x=\"548.0012307692307\" y=\"425.9684893419833\"/><desc class=\"value\">19</desc><desc class=\"x centered\">550.9758241758241</desc><desc class=\"y centered\">487.5996292863763</desc></g></g></g><g class=\"series serie-75 color-75\"><g class=\"bars\"><g class=\"bar\"><rect class=\"rect reactive tooltip-trigger\" height=\"51.89990732159413\" rx=\"0\" ry=\"0\" width=\"5.949186813186813\" x=\"554.7616703296702\" y=\"497.33086190917516\"/><desc class=\"value\">8</desc><desc class=\"x centered\">557.7362637362636</desc><desc class=\"y centered\">523.2808155699722</desc></g></g></g><g class=\"series serie-76 color-76\"><g class=\"bars\"><g class=\"bar\"><rect class=\"rect reactive tooltip-trigger\" height=\"58.387395736793394\" rx=\"0\" ry=\"0\" width=\"5.949186813186813\" x=\"561.5221098901098\" y=\"490.8433734939759\"/><desc class=\"value\">9</desc><desc class=\"x centered\">564.4967032967032</desc><desc class=\"y centered\">520.0370713623726</desc></g></g></g></g><g class=\"titles\"/><g class=\"plot overlay\" transform=\"translate(164, 20)\"><g class=\"series serie-0 color-0\"/><g class=\"series serie-1 color-1\"/><g class=\"series serie-2 color-2\"/><g class=\"series serie-3 color-3\"/><g class=\"series serie-4 color-4\"/><g class=\"series serie-5 color-5\"/><g class=\"series serie-6 color-6\"/><g class=\"series serie-7 color-7\"/><g class=\"series serie-8 color-8\"/><g class=\"series serie-9 color-9\"/><g class=\"series serie-10 color-10\"/><g class=\"series serie-11 color-11\"/><g class=\"series serie-12 color-12\"/><g class=\"series serie-13 color-13\"/><g class=\"series serie-14 color-14\"/><g class=\"series serie-15 color-15\"/><g class=\"series serie-16 color-16\"/><g class=\"series serie-17 color-17\"/><g class=\"series serie-18 color-18\"/><g class=\"series serie-19 color-19\"/><g class=\"series serie-20 color-20\"/><g class=\"series serie-21 color-21\"/><g class=\"series serie-22 color-22\"/><g class=\"series serie-23 color-23\"/><g class=\"series serie-24 color-24\"/><g class=\"series serie-25 color-25\"/><g class=\"series serie-26 color-26\"/><g class=\"series serie-27 color-27\"/><g class=\"series serie-28 color-28\"/><g class=\"series serie-29 color-29\"/><g class=\"series serie-30 color-30\"/><g class=\"series serie-31 color-31\"/><g class=\"series serie-32 color-32\"/><g class=\"series serie-33 color-33\"/><g class=\"series serie-34 color-34\"/><g class=\"series serie-35 color-35\"/><g class=\"series serie-36 color-36\"/><g class=\"series serie-37 color-37\"/><g class=\"series serie-38 color-38\"/><g class=\"series serie-39 color-39\"/><g class=\"series serie-40 color-40\"/><g class=\"series serie-41 color-41\"/><g class=\"series serie-42 color-42\"/><g class=\"series serie-43 color-43\"/><g class=\"series serie-44 color-44\"/><g class=\"series serie-45 color-45\"/><g class=\"series serie-46 color-46\"/><g class=\"series serie-47 color-47\"/><g class=\"series serie-48 color-48\"/><g class=\"series serie-49 color-49\"/><g class=\"series serie-50 color-50\"/><g class=\"series serie-51 color-51\"/><g class=\"series serie-52 color-52\"/><g class=\"series serie-53 color-53\"/><g class=\"series serie-54 color-54\"/><g class=\"series serie-55 color-55\"/><g class=\"series serie-56 color-56\"/><g class=\"series serie-57 color-57\"/><g class=\"series serie-58 color-58\"/><g class=\"series serie-59 color-59\"/><g class=\"series serie-60 color-60\"/><g class=\"series serie-61 color-61\"/><g class=\"series serie-62 color-62\"/><g class=\"series serie-63 color-63\"/><g class=\"series serie-64 color-64\"/><g class=\"series serie-65 color-65\"/><g class=\"series serie-66 color-66\"/><g class=\"series serie-67 color-67\"/><g class=\"series serie-68 color-68\"/><g class=\"series serie-69 color-69\"/><g class=\"series serie-70 color-70\"/><g class=\"series serie-71 color-71\"/><g class=\"series serie-72 color-72\"/><g class=\"series serie-73 color-73\"/><g class=\"series serie-74 color-74\"/><g class=\"series serie-75 color-75\"/><g class=\"series serie-76 color-76\"/></g><g class=\"plot text-overlay\" transform=\"translate(164, 20)\"><g class=\"series serie-0 color-0\"/><g class=\"series serie-1 color-1\"/><g class=\"series serie-2 color-2\"/><g class=\"series serie-3 color-3\"/><g class=\"series serie-4 color-4\"/><g class=\"series serie-5 color-5\"/><g class=\"series serie-6 color-6\"/><g class=\"series serie-7 color-7\"/><g class=\"series serie-8 color-8\"/><g class=\"series serie-9 color-9\"/><g class=\"series serie-10 color-10\"/><g class=\"series serie-11 color-11\"/><g class=\"series serie-12 color-12\"/><g class=\"series serie-13 color-13\"/><g class=\"series serie-14 color-14\"/><g class=\"series serie-15 color-15\"/><g class=\"series serie-16 color-16\"/><g class=\"series serie-17 color-17\"/><g class=\"series serie-18 color-18\"/><g class=\"series serie-19 color-19\"/><g class=\"series serie-20 color-20\"/><g class=\"series serie-21 color-21\"/><g class=\"series serie-22 color-22\"/><g class=\"series serie-23 color-23\"/><g class=\"series serie-24 color-24\"/><g class=\"series serie-25 color-25\"/><g class=\"series serie-26 color-26\"/><g class=\"series serie-27 color-27\"/><g class=\"series serie-28 color-28\"/><g class=\"series serie-29 color-29\"/><g class=\"series serie-30 color-30\"/><g class=\"series serie-31 color-31\"/><g class=\"series serie-32 color-32\"/><g class=\"series serie-33 color-33\"/><g class=\"series serie-34 color-34\"/><g class=\"series serie-35 color-35\"/><g class=\"series serie-36 color-36\"/><g class=\"series serie-37 color-37\"/><g class=\"series serie-38 color-38\"/><g class=\"series serie-39 color-39\"/><g class=\"series serie-40 color-40\"/><g class=\"series serie-41 color-41\"/><g class=\"series serie-42 color-42\"/><g class=\"series serie-43 color-43\"/><g class=\"series serie-44 color-44\"/><g class=\"series serie-45 color-45\"/><g class=\"series serie-46 color-46\"/><g class=\"series serie-47 color-47\"/><g class=\"series serie-48 color-48\"/><g class=\"series serie-49 color-49\"/><g class=\"series serie-50 color-50\"/><g class=\"series serie-51 color-51\"/><g class=\"series serie-52 color-52\"/><g class=\"series serie-53 color-53\"/><g class=\"series serie-54 color-54\"/><g class=\"series serie-55 color-55\"/><g class=\"series serie-56 color-56\"/><g class=\"series serie-57 color-57\"/><g class=\"series serie-58 color-58\"/><g class=\"series serie-59 color-59\"/><g class=\"series serie-60 color-60\"/><g class=\"series serie-61 color-61\"/><g class=\"series serie-62 color-62\"/><g class=\"series serie-63 color-63\"/><g class=\"series serie-64 color-64\"/><g class=\"series serie-65 color-65\"/><g class=\"series serie-66 color-66\"/><g class=\"series serie-67 color-67\"/><g class=\"series serie-68 color-68\"/><g class=\"series serie-69 color-69\"/><g class=\"series serie-70 color-70\"/><g class=\"series serie-71 color-71\"/><g class=\"series serie-72 color-72\"/><g class=\"series serie-73 color-73\"/><g class=\"series serie-74 color-74\"/><g class=\"series serie-75 color-75\"/><g class=\"series serie-76 color-76\"/></g><g class=\"plot tooltip-overlay\" transform=\"translate(164, 20)\"><g class=\"tooltip\" style=\"opacity: 0\" transform=\"translate(0 0)\"><rect class=\"tooltip-box\" height=\"0\" rx=\"0\" ry=\"0\" width=\"0\"/><g class=\"text\"/></g></g><g class=\"legends\" transform=\"translate(10, 30)\"><g class=\"legend reactive activate-serie\" id=\"activate-serie-0\"><rect class=\"color-0 reactive\" height=\"12\" width=\"12\" x=\"0.0\" y=\"1.0\"/><text x=\"17.0\" y=\"11.2\">Gryphon</text></g><g class=\"legend reactive activate-serie\" id=\"activate-serie-1\"><rect class=\"color-1 reactive\" height=\"12\" width=\"12\" x=\"0.0\" y=\"22.0\"/><text x=\"17.0\" y=\"32.2\">perhaps</text></g><g class=\"legend reactive activate-serie\" id=\"activate-serie-2\"><rect class=\"color-2 reactive\" height=\"12\" width=\"12\" x=\"0.0\" y=\"43.0\"/><text x=\"17.0\" y=\"53.2\">replied</text></g><g class=\"legend reactive activate-serie\" id=\"activate-serie-3\"><rect class=\"color-3 reactive\" height=\"12\" width=\"12\" x=\"0.0\" y=\"64.0\"/><text x=\"17.0\" y=\"74.2\">creatures</text></g><g class=\"legend reactive activate-serie\" id=\"activate-serie-4\"><rect class=\"color-4 reactive\" height=\"12\" width=\"12\" x=\"0.0\" y=\"85.0\"/><text x=\"17.0\" y=\"95.2\">remember</text></g><g class=\"legend reactive activate-serie\" id=\"activate-serie-5\"><rect class=\"color-5 reactive\" height=\"12\" width=\"12\" x=\"0.0\" y=\"106.0\"/><text x=\"17.0\" y=\"116.2\">timidly</text></g><g class=\"legend reactive activate-serie\" id=\"activate-serie-6\"><rect class=\"color-6 reactive\" height=\"12\" width=\"12\" x=\"0.0\" y=\"127.0\"/><text x=\"17.0\" y=\"137.2\">eagerly</text></g><g class=\"legend reactive activate-serie\" id=\"activate-serie-7\"><rect class=\"color-7 reactive\" height=\"12\" width=\"12\" x=\"0.0\" y=\"148.0\"/><text x=\"17.0\" y=\"158.2\">mushroom</text></g><g class=\"legend reactive activate-serie\" id=\"activate-serie-8\"><rect class=\"color-8 reactive\" height=\"12\" width=\"12\" x=\"0.0\" y=\"169.0\"/><text x=\"17.0\" y=\"179.2\">followed</text></g><g class=\"legend reactive activate-serie\" id=\"activate-serie-9\"><rect class=\"color-9 reactive\" height=\"12\" width=\"12\" x=\"0.0\" y=\"190.0\"/><text x=\"17.0\" y=\"200.2\">opportunity</text></g><g class=\"legend reactive activate-serie\" id=\"activate-serie-10\"><rect class=\"color-10 reactive\" height=\"12\" width=\"12\" x=\"0.0\" y=\"211.0\"/><text x=\"17.0\" y=\"221.2\">soldiers</text></g><g class=\"legend reactive activate-serie\" id=\"activate-serie-11\"><rect class=\"color-11 reactive\" height=\"12\" width=\"12\" x=\"0.0\" y=\"232.0\"/><text x=\"17.0\" y=\"242.2\">because</text></g><g class=\"legend reactive activate-serie\" id=\"activate-serie-12\"><rect class=\"color-12 reactive\" height=\"12\" width=\"12\" x=\"0.0\" y=\"253.0\"/><text x=\"17.0\" y=\"263.2\">gardeners</text></g><g class=\"legend reactive activate-serie\" id=\"activate-serie-13\"><rect class=\"color-13 reactive\" height=\"12\" width=\"12\" x=\"0.0\" y=\"274.0\"/><text x=\"17.0\" y=\"284.2\">croquet</text></g><g class=\"legend reactive activate-serie\" id=\"activate-serie-14\"><rect class=\"color-14 reactive\" height=\"12\" width=\"12\" x=\"0.0\" y=\"295.0\"/><text x=\"17.0\" y=\"305.2\">remarked</text></g><g class=\"legend reactive activate-serie\" id=\"activate-serie-15\"><rect class=\"color-15 reactive\" height=\"12\" width=\"12\" x=\"0.0\" y=\"316.0\"/><text x=\"17.0\" y=\"326.2\">without</text></g><g class=\"legend reactive activate-serie\" id=\"activate-serie-16\"><rect class=\"color-16 reactive\" height=\"12\" width=\"12\" x=\"0.0\" y=\"337.0\"/><text x=\"17.0\" y=\"347.2\">angrily</text></g><g class=\"legend reactive activate-serie\" id=\"activate-serie-17\"><rect class=\"color-17 reactive\" height=\"12\" width=\"12\" x=\"0.0\" y=\"358.0\"/><text x=\"17.0\" y=\"368.2\">shouted</text></g><g class=\"legend reactive activate-serie\" id=\"activate-serie-18\"><rect class=\"color-0 reactive\" height=\"12\" width=\"12\" x=\"0.0\" y=\"379.0\"/><text x=\"17.0\" y=\"389.2\">yourself</text></g><g class=\"legend reactive activate-serie\" id=\"activate-serie-19\"><rect class=\"color-1 reactive\" height=\"12\" width=\"12\" x=\"0.0\" y=\"400.0\"/><text x=\"17.0\" y=\"410.2\">witness</text></g><g class=\"legend reactive activate-serie\" id=\"activate-serie-20\"><rect class=\"color-2 reactive\" height=\"12\" width=\"12\" x=\"0.0\" y=\"421.0\"/><text x=\"17.0\" y=\"431.2\">nothing</text></g><g class=\"legend reactive activate-serie\" id=\"activate-serie-21\"><rect class=\"color-3 reactive\" height=\"12\" width=\"12\" x=\"0.0\" y=\"442.0\"/><text x=\"17.0\" y=\"452.2\">waiting</text></g><g class=\"legend reactive activate-serie\" id=\"activate-serie-22\"><rect class=\"color-4 reactive\" height=\"12\" width=\"12\" x=\"0.0\" y=\"463.0\"/><text x=\"17.0\" y=\"473.2\">running</text></g><g class=\"legend reactive activate-serie\" id=\"activate-serie-23\"><rect class=\"color-5 reactive\" height=\"12\" width=\"12\" x=\"0.0\" y=\"484.0\"/><text x=\"17.0\" y=\"494.2\">interrupted</text></g><g class=\"legend reactive activate-serie\" id=\"activate-serie-24\"><rect class=\"color-6 reactive\" height=\"12\" width=\"12\" x=\"0.0\" y=\"505.0\"/><text x=\"17.0\" y=\"515.2\">everything</text></g><g class=\"legend reactive activate-serie\" id=\"activate-serie-25\"><rect class=\"color-7 reactive\" height=\"12\" width=\"12\" x=\"0.0\" y=\"526.0\"/><text x=\"17.0\" y=\"536.2\">Caterpillar</text></g><g class=\"legend reactive activate-serie\" id=\"activate-serie-26\"><rect class=\"color-8 reactive\" height=\"12\" width=\"12\" x=\"0.0\" y=\"547.0\"/><text x=\"17.0\" y=\"557.2\">something</text></g><g class=\"legend reactive activate-serie\" id=\"activate-serie-27\"><rect class=\"color-9 reactive\" height=\"12\" width=\"12\" x=\"0.0\" y=\"568.0\"/><text x=\"17.0\" y=\"578.2\">silence</text></g><g class=\"legend reactive activate-serie\" id=\"activate-serie-28\"><rect class=\"color-10 reactive\" height=\"12\" width=\"12\" x=\"0.0\" y=\"589.0\"/><text x=\"17.0\" y=\"599.2\">herself</text></g><g class=\"legend reactive activate-serie\" id=\"activate-serie-29\"><rect class=\"color-11 reactive\" height=\"12\" width=\"12\" x=\"0.0\" y=\"610.0\"/><text x=\"17.0\" y=\"620.2\">Dormouse</text></g><g class=\"legend reactive activate-serie\" id=\"activate-serie-30\"><rect class=\"color-12 reactive\" height=\"12\" width=\"12\" x=\"0.0\" y=\"631.0\"/><text x=\"17.0\" y=\"641.2\">appeared</text></g><g class=\"legend reactive activate-serie\" id=\"activate-serie-31\"><rect class=\"color-13 reactive\" height=\"12\" width=\"12\" x=\"0.0\" y=\"652.0\"/><text x=\"17.0\" y=\"662.2\">beginning</text></g><g class=\"legend reactive activate-serie\" id=\"activate-serie-32\"><rect class=\"color-14 reactive\" height=\"12\" width=\"12\" x=\"0.0\" y=\"673.0\"/><text x=\"17.0\" y=\"683.2\">getting</text></g><g class=\"legend reactive activate-serie\" id=\"activate-serie-33\"><rect class=\"color-15 reactive\" height=\"12\" width=\"12\" x=\"0.0\" y=\"694.0\"/><text x=\"17.0\" y=\"704.2\">question</text></g><g class=\"legend reactive activate-serie\" id=\"activate-serie-34\"><rect class=\"color-16 reactive\" height=\"12\" width=\"12\" x=\"0.0\" y=\"715.0\"/><text x=\"17.0\" y=\"725.2\">another</text></g><g class=\"legend reactive activate-serie\" id=\"activate-serie-35\"><rect class=\"color-17 reactive\" height=\"12\" width=\"12\" x=\"0.0\" y=\"736.0\"/><text x=\"17.0\" y=\"746.2\">looking</text></g><g class=\"legend reactive activate-serie\" id=\"activate-serie-36\"><rect class=\"color-0 reactive\" height=\"12\" width=\"12\" x=\"0.0\" y=\"757.0\"/><text x=\"17.0\" y=\"767.2\">growing</text></g><g class=\"legend reactive activate-serie\" id=\"activate-serie-37\"><rect class=\"color-1 reactive\" height=\"12\" width=\"12\" x=\"0.0\" y=\"778.0\"/><text x=\"17.0\" y=\"788.2\">whether</text></g><g class=\"legend reactive activate-serie\" id=\"activate-serie-38\"><rect class=\"color-2 reactive\" height=\"12\" width=\"12\" x=\"0.0\" y=\"799.0\"/><text x=\"17.0\" y=\"809.2\">continued</text></g><g class=\"legend reactive activate-serie\" id=\"activate-serie-39\"><rect class=\"color-3 reactive\" height=\"12\" width=\"12\" x=\"0.0\" y=\"820.0\"/><text x=\"17.0\" y=\"830.2\">However</text></g><g class=\"legend reactive activate-serie\" id=\"activate-serie-40\"><rect class=\"color-4 reactive\" height=\"12\" width=\"12\" x=\"0.0\" y=\"841.0\"/><text x=\"17.0\" y=\"851.2\">finished</text></g><g class=\"legend reactive activate-serie\" id=\"activate-serie-41\"><rect class=\"color-5 reactive\" height=\"12\" width=\"12\" x=\"0.0\" y=\"862.0\"/><text x=\"17.0\" y=\"872.2\">beautiful</text></g><g class=\"legend reactive activate-serie\" id=\"activate-serie-42\"><rect class=\"color-6 reactive\" height=\"12\" width=\"12\" x=\"0.0\" y=\"883.0\"/><text x=\"17.0\" y=\"893.2\">changed</text></g><g class=\"legend reactive activate-serie\" id=\"activate-serie-43\"><rect class=\"color-7 reactive\" height=\"12\" width=\"12\" x=\"0.0\" y=\"904.0\"/><text x=\"17.0\" y=\"914.2\">talking</text></g><g class=\"legend reactive activate-serie\" id=\"activate-serie-44\"><rect class=\"color-8 reactive\" height=\"12\" width=\"12\" x=\"0.0\" y=\"925.0\"/><text x=\"17.0\" y=\"935.2\">conversation</text></g><g class=\"legend reactive activate-serie\" id=\"activate-serie-45\"><rect class=\"color-9 reactive\" height=\"12\" width=\"12\" x=\"0.0\" y=\"946.0\"/><text x=\"17.0\" y=\"956.2\">repeated</text></g><g class=\"legend reactive activate-serie\" id=\"activate-serie-46\"><rect class=\"color-10 reactive\" height=\"12\" width=\"12\" x=\"0.0\" y=\"967.0\"/><text x=\"17.0\" y=\"977.2\">children</text></g><g class=\"legend reactive activate-serie\" id=\"activate-serie-47\"><rect class=\"color-11 reactive\" height=\"12\" width=\"12\" x=\"0.0\" y=\"988.0\"/><text x=\"17.0\" y=\"998.2\">Footman</text></g><g class=\"legend reactive activate-serie\" id=\"activate-serie-48\"><rect class=\"color-12 reactive\" height=\"12\" width=\"12\" x=\"0.0\" y=\"1009.0\"/><text x=\"17.0\" y=\"1019.2\">Majesty</text></g><g class=\"legend reactive activate-serie\" id=\"activate-serie-49\"><rect class=\"color-13 reactive\" height=\"12\" width=\"12\" x=\"0.0\" y=\"1030.0\"/><text x=\"17.0\" y=\"1040.2\">meaning</text></g><g class=\"legend reactive activate-serie\" id=\"activate-serie-50\"><rect class=\"color-14 reactive\" height=\"12\" width=\"12\" x=\"0.0\" y=\"1051.0\"/><text x=\"17.0\" y=\"1061.2\">through</text></g><g class=\"legend reactive activate-serie\" id=\"activate-serie-51\"><rect class=\"color-15 reactive\" height=\"12\" width=\"12\" x=\"0.0\" y=\"1072.0\"/><text x=\"17.0\" y=\"1082.2\">whiting</text></g><g class=\"legend reactive activate-serie\" id=\"activate-serie-52\"><rect class=\"color-16 reactive\" height=\"12\" width=\"12\" x=\"0.0\" y=\"1093.0\"/><text x=\"17.0\" y=\"1103.2\">anything</text></g><g class=\"legend reactive activate-serie\" id=\"activate-serie-53\"><rect class=\"color-17 reactive\" height=\"12\" width=\"12\" x=\"0.0\" y=\"1114.0\"/><text x=\"17.0\" y=\"1124.2\">thought</text></g><g class=\"legend reactive activate-serie\" id=\"activate-serie-54\"><rect class=\"color-0 reactive\" height=\"12\" width=\"12\" x=\"0.0\" y=\"1135.0\"/><text x=\"17.0\" y=\"1145.2\">sitting</text></g><g class=\"legend reactive activate-serie\" id=\"activate-serie-55\"><rect class=\"color-1 reactive\" height=\"12\" width=\"12\" x=\"0.0\" y=\"1156.0\"/><text x=\"17.0\" y=\"1166.2\">against</text></g><g class=\"legend reactive activate-serie\" id=\"activate-serie-56\"><rect class=\"color-2 reactive\" height=\"12\" width=\"12\" x=\"0.0\" y=\"1177.0\"/><text x=\"17.0\" y=\"1187.2\">minutes</text></g><g class=\"legend reactive activate-serie\" id=\"activate-serie-57\"><rect class=\"color-3 reactive\" height=\"12\" width=\"12\" x=\"0.0\" y=\"1198.0\"/><text x=\"17.0\" y=\"1208.2\">distance</text></g><g class=\"legend reactive activate-serie\" id=\"activate-serie-58\"><rect class=\"color-4 reactive\" height=\"12\" width=\"12\" x=\"0.0\" y=\"1219.0\"/><text x=\"17.0\" y=\"1229.2\">explain</text></g><g class=\"legend reactive activate-serie\" id=\"activate-serie-59\"><rect class=\"color-5 reactive\" height=\"12\" width=\"12\" x=\"0.0\" y=\"1240.0\"/><text x=\"17.0\" y=\"1250.2\">hurried</text></g><g class=\"legend reactive activate-serie\" id=\"activate-serie-60\"><rect class=\"color-6 reactive\" height=\"12\" width=\"12\" x=\"0.0\" y=\"1261.0\"/><text x=\"17.0\" y=\"1271.2\">hastily</text></g><g class=\"legend reactive activate-serie\" id=\"activate-serie-61\"><rect class=\"color-7 reactive\" height=\"12\" width=\"12\" x=\"0.0\" y=\"1282.0\"/><text x=\"17.0\" y=\"1292.2\">together</text></g><g class=\"legend reactive activate-serie\" id=\"activate-serie-62\"><rect class=\"color-8 reactive\" height=\"12\" width=\"12\" x=\"0.0\" y=\"1303.0\"/><text x=\"17.0\" y=\"1313.2\">offended</text></g><g class=\"legend reactive activate-serie\" id=\"activate-serie-63\"><rect class=\"color-9 reactive\" height=\"12\" width=\"12\" x=\"0.0\" y=\"1324.0\"/><text x=\"17.0\" y=\"1334.2\">suppose</text></g><g class=\"legend reactive activate-serie\" id=\"activate-serie-64\"><rect class=\"color-10 reactive\" height=\"12\" width=\"12\" x=\"0.0\" y=\"1345.0\"/><text x=\"17.0\" y=\"1355.2\">CHAPTER</text></g><g class=\"legend reactive activate-serie\" id=\"activate-serie-65\"><rect class=\"color-11 reactive\" height=\"12\" width=\"12\" x=\"0.0\" y=\"1366.0\"/><text x=\"17.0\" y=\"1376.2\">suddenly</text></g><g class=\"legend reactive activate-serie\" id=\"activate-serie-66\"><rect class=\"color-12 reactive\" height=\"12\" width=\"12\" x=\"0.0\" y=\"1387.0\"/><text x=\"17.0\" y=\"1397.2\">lessons</text></g><g class=\"legend reactive activate-serie\" id=\"activate-serie-67\"><rect class=\"color-13 reactive\" height=\"12\" width=\"12\" x=\"0.0\" y=\"1408.0\"/><text x=\"17.0\" y=\"1418.2\">anxiously</text></g><g class=\"legend reactive activate-serie\" id=\"activate-serie-68\"><rect class=\"color-14 reactive\" height=\"12\" width=\"12\" x=\"0.0\" y=\"1429.0\"/><text x=\"17.0\" y=\"1439.2\">puzzled</text></g><g class=\"legend reactive activate-serie\" id=\"activate-serie-69\"><rect class=\"color-15 reactive\" height=\"12\" width=\"12\" x=\"0.0\" y=\"1450.0\"/><text x=\"17.0\" y=\"1460.2\">certainly</text></g><g class=\"legend reactive activate-serie\" id=\"activate-serie-70\"><rect class=\"color-16 reactive\" height=\"12\" width=\"12\" x=\"0.0\" y=\"1471.0\"/><text x=\"17.0\" y=\"1481.2\">thinking</text></g><g class=\"legend reactive activate-serie\" id=\"activate-serie-71\"><rect class=\"color-17 reactive\" height=\"12\" width=\"12\" x=\"0.0\" y=\"1492.0\"/><text x=\"17.0\" y=\"1502.2\">Duchess</text></g><g class=\"legend reactive activate-serie\" id=\"activate-serie-72\"><rect class=\"color-0 reactive\" height=\"12\" width=\"12\" x=\"0.0\" y=\"1513.0\"/><text x=\"17.0\" y=\"1523.2\">turning</text></g><g class=\"legend reactive activate-serie\" id=\"activate-serie-73\"><rect class=\"color-1 reactive\" height=\"12\" width=\"12\" x=\"0.0\" y=\"1534.0\"/><text x=\"17.0\" y=\"1544.2\">believe</text></g><g class=\"legend reactive activate-serie\" id=\"activate-serie-74\"><rect class=\"color-2 reactive\" height=\"12\" width=\"12\" x=\"0.0\" y=\"1555.0\"/><text x=\"17.0\" y=\"1565.2\">curious</text></g><g class=\"legend reactive activate-serie\" id=\"activate-serie-75\"><rect class=\"color-3 reactive\" height=\"12\" width=\"12\" x=\"0.0\" y=\"1576.0\"/><text x=\"17.0\" y=\"1586.2\">noticed</text></g><g class=\"legend reactive activate-serie\" id=\"activate-serie-76\"><rect class=\"color-4 reactive\" height=\"12\" width=\"12\" x=\"0.0\" y=\"1597.0\"/><text x=\"17.0\" y=\"1607.2\">different</text></g></g><g class=\"legends\" transform=\"translate(790, 30)\"/></g></svg>"
      ],
      "text/plain": [
       "<pygal.graph.bar.Bar at 0x110acfe80>"
      ]
     },
     "execution_count": 491,
     "metadata": {},
     "output_type": "execute_result"
    }
   ],
   "source": [
    "new_chart"
   ]
  },
  {
   "cell_type": "markdown",
   "metadata": {
    "slideshow": {
     "slide_type": "notes"
    }
   },
   "source": [
    "That's far more representative of our text"
   ]
  },
  {
   "cell_type": "markdown",
   "metadata": {
    "slideshow": {
     "slide_type": "subslide"
    }
   },
   "source": [
    "### Part of Speech Tagging"
   ]
  },
  {
   "cell_type": "markdown",
   "metadata": {
    "collapsed": true,
    "slideshow": {
     "slide_type": "notes"
    }
   },
   "source": [
    "POS tagging is assigning a 'tag' to a token\n",
    "our tags include verbs, adjectives, nouns, proper nouns...\n",
    "there are various conventions for tagging\n",
    "nltk uses the penn treebank tag set, which you can find a full list for here \n",
    "https://www.ling.upenn.edu/courses/Fall_2003/ling001/penn_treebank_pos.html"
   ]
  },
  {
   "cell_type": "code",
   "execution_count": 492,
   "metadata": {
    "collapsed": false,
    "slideshow": {
     "slide_type": "subslide"
    }
   },
   "outputs": [
    {
     "data": {
      "text/plain": [
       "[('Begin', 'VB'),\n",
       " ('at', 'IN'),\n",
       " ('the', 'DT'),\n",
       " ('beginning', 'NN'),\n",
       " (',', ','),\n",
       " (\"''\", \"''\"),\n",
       " ('the', 'DT'),\n",
       " ('King', 'NNP'),\n",
       " ('said', 'VBD'),\n",
       " (',', ','),\n",
       " ('very', 'RB'),\n",
       " ('gravely', 'RB'),\n",
       " (',', ','),\n",
       " ('``', '``'),\n",
       " ('and', 'CC'),\n",
       " ('go', 'VB'),\n",
       " ('on', 'IN'),\n",
       " ('till', 'NN'),\n",
       " ('you', 'PRP'),\n",
       " ('come', 'VBP'),\n",
       " ('to', 'TO'),\n",
       " ('the', 'DT'),\n",
       " ('end', 'NN'),\n",
       " (':', ':'),\n",
       " ('then', 'RB'),\n",
       " ('stop', 'VB'),\n",
       " ('.', '.')]"
      ]
     },
     "execution_count": 492,
     "metadata": {},
     "output_type": "execute_result"
    }
   ],
   "source": [
    "text = word_tokenize(\n",
    "    \"Begin at the beginning,\\\" the King said, very gravely, \\\"and go on till you come to the end: then stop.\")\n",
    "nltk.pos_tag(text)"
   ]
  },
  {
   "cell_type": "markdown",
   "metadata": {
    "slideshow": {
     "slide_type": "notes"
    }
   },
   "source": [
    "Looking at which POS tags in Alice in wonderland are the most common"
   ]
  },
  {
   "cell_type": "code",
   "execution_count": 493,
   "metadata": {
    "collapsed": false,
    "slideshow": {
     "slide_type": "subslide"
    }
   },
   "outputs": [
    {
     "data": {
      "text/plain": [
       "[('NN', 3435),\n",
       " ('IN', 2994),\n",
       " ('DT', 2901),\n",
       " ('PRP', 2714),\n",
       " ('NNP', 2480),\n",
       " ('VBD', 2465),\n",
       " (',', 1993),\n",
       " ('RB', 1916),\n",
       " ('JJ', 1693),\n",
       " (\"''\", 1294)]"
      ]
     },
     "execution_count": 493,
     "metadata": {},
     "output_type": "execute_result"
    }
   ],
   "source": [
    "alice_tagged = nltk.pos_tag(alice)\n",
    "fd = FreqDist(alice_tagged)\n",
    "fd_tagged = FreqDist(tag for (word, tag) in alice_tagged)\n",
    "fd_tagged.most_common(10)"
   ]
  },
  {
   "cell_type": "markdown",
   "metadata": {
    "slideshow": {
     "slide_type": "notes"
    }
   },
   "source": [
    "We could now look at the top proper nouns in our text"
   ]
  },
  {
   "cell_type": "code",
   "execution_count": 494,
   "metadata": {
    "collapsed": false,
    "slideshow": {
     "slide_type": "subslide"
    }
   },
   "outputs": [
    {
     "data": {
      "text/plain": [
       "['Alice', \",'\", \"!'\", \".'\", \"?'\", 'Queen', 'King', 'Turtle', 'Mock', 'Gryphon']"
      ]
     },
     "execution_count": 494,
     "metadata": {},
     "output_type": "execute_result"
    }
   ],
   "source": [
    "[w[0] for (w, _) in fd.most_common() if w[1] == 'NNP'][:10]"
   ]
  },
  {
   "cell_type": "markdown",
   "metadata": {
    "slideshow": {
     "slide_type": "notes"
    }
   },
   "source": [
    "Point out flaws in NLTK's POS tagging"
   ]
  },
  {
   "cell_type": "markdown",
   "metadata": {
    "slideshow": {
     "slide_type": "slide"
    }
   },
   "source": [
    "## Sentiment Projects"
   ]
  },
  {
   "cell_type": "markdown",
   "metadata": {
    "collapsed": true,
    "slideshow": {
     "slide_type": "subslide"
    }
   },
   "source": [
    "### Rule Based Sentiment Analysis"
   ]
  },
  {
   "cell_type": "markdown",
   "metadata": {
    "slideshow": {
     "slide_type": "notes"
    }
   },
   "source": [
    "this example will use most if not all of the concepts discussed in the previous section"
   ]
  },
  {
   "cell_type": "code",
   "execution_count": 495,
   "metadata": {
    "collapsed": false,
    "slideshow": {
     "slide_type": "subslide"
    }
   },
   "outputs": [],
   "source": [
    "reviews = [\n",
    "    'Civil War is fun. It\\'s smart. It\\'s coherent. And, most importantly, it allows its heart to beat strongly amid the chaos, with character moments and set pieces working in tandem to create perhaps Marvel\\'s best film so far.',\n",
    "    'Not the best Marvel movie, but does do the best job balancing its obligations, while also boasting the series\\' best action sequence (Splice Today)',\n",
    "    'This satisfying adventure is rich with the things Marvel comics always did best: critiquing the consequences of power in explosive, four-color form.',\n",
    "    'Very entertaining, and a far tighter production than much of Marvel\\'s recent output.',\n",
    "    'If you\\'re a cloak and dagger enthusiast, you won\\'t be disappointed. Even if you aren\\'t, it\\'s still very entertaining.',\n",
    "    'While you could argue that the film is slightly too long, and that Walker reads too much into things that feel inconsequential, it remains a fascinating look into an unrecognised slice of Australian history.',\n",
    "    'The show is nothing more than a soap with good music but it has a sense of humor often enough to keep me entertained.',\n",
    "    'There are about six really good laughs during the film\\'s 92-minute running length.',\n",
    "    'A thorough disappointment.',\n",
    "    'Dying is easy. Comedy is hard. But comedy sequels are apparently the greatest challenge of all.',\n",
    "    'X-Men: Apocalypse provides a hint at what might one day take down the ubiquitous superhero genre: utter dullness. For all its bangs, the movie is ultimately a whimper.',\n",
    "    'The problem with “Alice” is its lack of narrative imagination',\n",
    "]"
   ]
  },
  {
   "cell_type": "code",
   "execution_count": 496,
   "metadata": {
    "collapsed": false,
    "slideshow": {
     "slide_type": "subslide"
    }
   },
   "outputs": [
    {
     "name": "stdout",
     "output_type": "stream",
     "text": [
      "[('Civil', 'NNP'), ('War', 'NNP'), ('is', 'VBZ'), ('fun.', 'JJ'), ('It', 'PRP'), (\"'s\", 'VBZ'), ('smart.', 'JJ'), ('It', 'PRP'), (\"'s\", 'VBZ'), ('coherent.', 'NN'), ('And', 'CC'), (',', ','), ('most', 'RBS'), ('importantly', 'RB'), (',', ','), ('it', 'PRP'), ('allows', 'VBZ'), ('its', 'PRP$'), ('heart', 'NN'), ('to', 'TO'), ('beat', 'VB'), ('strongly', 'RB'), ('amid', 'IN'), ('the', 'DT'), ('chaos', 'NN'), (',', ','), ('with', 'IN'), ('character', 'NN'), ('moments', 'NNS'), ('and', 'CC'), ('set', 'NN'), ('pieces', 'NNS'), ('working', 'VBG'), ('in', 'IN'), ('tandem', 'NN'), ('to', 'TO'), ('create', 'VB'), ('perhaps', 'RB'), ('Marvel', 'NNP'), (\"'s\", 'POS'), ('best', 'JJS'), ('film', 'NN'), ('so', 'RB'), ('far', 'RB'), ('.', '.')]\n"
     ]
    }
   ],
   "source": [
    "tokenizer = nltk.tokenize.TreebankWordTokenizer()\n",
    "\n",
    "def tag_review(review):\n",
    "    # split into tokens\n",
    "    tokenized_review = tokenizer.tokenize(review)\n",
    "    # pos tag our tokens\n",
    "    pos_tagged_tokens = nltk.pos_tag(tokenized_review)\n",
    "    return pos_tagged_tokens\n",
    "\n",
    "tagged_review = tag_review(reviews[0])\n",
    "print(tagged_review)"
   ]
  },
  {
   "cell_type": "markdown",
   "metadata": {
    "slideshow": {
     "slide_type": "notes"
    }
   },
   "source": [
    "now we'll make up a list of positive and negative tokens\n",
    "\n",
    "these are our 'rules' which we match to"
   ]
  },
  {
   "cell_type": "code",
   "execution_count": 497,
   "metadata": {
    "collapsed": true,
    "slideshow": {
     "slide_type": "subslide"
    }
   },
   "outputs": [],
   "source": [
    "pos = ['nice', 'brilliant', 'good', 'great', 'excellent', 'entertain', 'funny', 'cool', 'best', 'fun']\n",
    "neg = ['bad', 'gross', 'disappointed', 'poor', 'terrible', 'crass', 'boring', 'uninspiring', 'disappoint']"
   ]
  },
  {
   "cell_type": "markdown",
   "metadata": {
    "slideshow": {
     "slide_type": "notes"
    }
   },
   "source": [
    "Now we'll classify our text with the rules"
   ]
  },
  {
   "cell_type": "code",
   "execution_count": 498,
   "metadata": {
    "collapsed": false,
    "scrolled": true,
    "slideshow": {
     "slide_type": "subslide"
    }
   },
   "outputs": [
    {
     "name": "stdout",
     "output_type": "stream",
     "text": [
      "Very entertaining, and a far tighter production than much of Marvel's recent output.\n",
      "0\n",
      "\n",
      "\n"
     ]
    }
   ],
   "source": [
    "review = reviews[3]\n",
    "\n",
    "score = 0\n",
    "tagged_review = tag_review(review)\n",
    "for token, tag in tagged_review:\n",
    "    if token.strip() in pos:\n",
    "        score +=1\n",
    "    if token.strip() in neg:\n",
    "        score -=1\n",
    "\n",
    "print(review)\n",
    "print(score)\n",
    "print('\\n')"
   ]
  },
  {
   "cell_type": "markdown",
   "metadata": {
    "slideshow": {
     "slide_type": "notes"
    }
   },
   "source": [
    "Adding a Lemmatizer and using the POS tags"
   ]
  },
  {
   "cell_type": "code",
   "execution_count": 499,
   "metadata": {
    "collapsed": false,
    "scrolled": true,
    "slideshow": {
     "slide_type": "subslide"
    }
   },
   "outputs": [
    {
     "name": "stdout",
     "output_type": "stream",
     "text": [
      "Very entertaining, and a far tighter production than much of Marvel's recent output.\n",
      "1\n",
      "\n",
      "\n"
     ]
    }
   ],
   "source": [
    "from nltk.stem import WordNetLemmatizer\n",
    "from nltk.corpus import wordnet\n",
    "\n",
    "wordnet_lemmatizer = WordNetLemmatizer()\n",
    "\n",
    "review = reviews[3]\n",
    "\n",
    "score = 0\n",
    "tagged_review = tag_review(review)\n",
    "for token, tag in tagged_review:\n",
    "    if tag in ['JJ', 'JJR', 'JJS']:\n",
    "        lemmatized_token = wordnet_lemmatizer.lemmatize(token, wordnet.ADJ)\n",
    "        lemmatized_token_2 = wordnet_lemmatizer.lemmatize(token, wordnet.VERB)\n",
    "        \n",
    "        if lemmatized_token_2 in pos or lemmatized_token in pos:\n",
    "            score +=1\n",
    "        if lemmatized_token in neg or lemmatized_token_2 in neg:\n",
    "            score -=1\n",
    "    \n",
    "print(review)\n",
    "print(score)\n",
    "print('\\n')"
   ]
  },
  {
   "cell_type": "markdown",
   "metadata": {
    "slideshow": {
     "slide_type": "notes"
    }
   },
   "source": [
    "We could consider increments in our classification, so we can weight things when they are "
   ]
  },
  {
   "cell_type": "code",
   "execution_count": 500,
   "metadata": {
    "collapsed": false,
    "slideshow": {
     "slide_type": "subslide"
    }
   },
   "outputs": [
    {
     "name": "stdout",
     "output_type": "stream",
     "text": [
      "Very entertaining, and a far tighter production than much of Marvel's recent output.\n",
      "2\n",
      "\n",
      "\n"
     ]
    }
   ],
   "source": [
    "incrementers = ['really', 'very', 'too']\n",
    "\n",
    "review = reviews[3]\n",
    "\n",
    "score = 0\n",
    "tagged_review = tag_review(review)\n",
    "for i, pair in enumerate(tagged_review):\n",
    "    token = pair[0]\n",
    "    tag = pair[1]\n",
    "    prev_tag = tagged_review[i-1][0]\n",
    "    \n",
    "    if tag in ['JJ', 'JJR', 'JJS']:\n",
    "        lemmatized_token = wordnet_lemmatizer.lemmatize(token, wordnet.VERB)\n",
    "        \n",
    "        if lemmatized_token in pos:\n",
    "            if prev_tag.lower() in incrementers:\n",
    "                score +=1\n",
    "            score +=1\n",
    "        if lemmatized_token in neg:\n",
    "            if prev_tag.lower() in incrememnters:\n",
    "                score +=1\n",
    "            score -=1\n",
    "    \n",
    "print(review)\n",
    "print(score)\n",
    "print('\\n')"
   ]
  },
  {
   "cell_type": "markdown",
   "metadata": {
    "collapsed": true,
    "slideshow": {
     "slide_type": "subslide"
    }
   },
   "source": [
    "Additional Ideas:\n",
    "- add modifiers for things like 'not'\n",
    "- add decrements to the classification (e.g. 'little')"
   ]
  },
  {
   "cell_type": "markdown",
   "metadata": {
    "slideshow": {
     "slide_type": "notes"
    }
   },
   "source": [
    "This is a really simple example of how you can implement a rule based algorithm\n",
    "\n",
    "This approach is beneficial because it's easy to see what's going on in your data\n",
    "you can easily explain when things don't work, e.g. we couldn't classify it as positive because we \n",
    "didn't have 'gr8' in our ruleset. you then just add it\n",
    "\n",
    "drawbacks of rule based approach\n",
    "- overfitting \n",
    "- intense to make, lots of tweaking, making sure you have the right rules"
   ]
  },
  {
   "cell_type": "markdown",
   "metadata": {
    "slideshow": {
     "slide_type": "subslide"
    }
   },
   "source": [
    "### Naive Bayes Sentiment Analysis"
   ]
  },
  {
   "cell_type": "markdown",
   "metadata": {
    "slideshow": {
     "slide_type": "notes"
    }
   },
   "source": [
    "NB is a supervised classifier\n",
    "a supervised classifier learns from tagged data you supply it with, which is usually called 'training data'\n",
    "\n",
    "NB learns features and then predicts the class of something by looking for the occurence of those features\n",
    "\n",
    "not going to go into loads of detail, as I just want to show how easy it is, and get a rough idea\n",
    "of what to do"
   ]
  },
  {
   "cell_type": "markdown",
   "metadata": {
    "slideshow": {
     "slide_type": "notes"
    }
   },
   "source": [
    "First we need to read in our data, and then format it to how we want it"
   ]
  },
  {
   "cell_type": "code",
   "execution_count": 501,
   "metadata": {
    "collapsed": false,
    "slideshow": {
     "slide_type": "subslide"
    }
   },
   "outputs": [],
   "source": [
    "from nltk.classify import NaiveBayesClassifier\n",
    "\n",
    "negative = []\n",
    "positive = []\n",
    "\n",
    "with open('sts_gold_tweet.csv', 'r') as f:\n",
    "    reader = csv.reader(f, delimiter=';')\n",
    "    for row in reader:\n",
    "        _, polarity, tweet = row\n",
    "        if polarity == '4':\n",
    "            positive.append((tweet, 'positive'))\n",
    "        elif polarity == '0':\n",
    "            negative.append((tweet, 'negative'))\n",
    "\n",
    "negative_training = negative[:500]\n",
    "negative_testing = negative[100:]\n",
    "\n",
    "positive_training = positive[:500]\n",
    "positive_testing = positive[100:]"
   ]
  },
  {
   "cell_type": "markdown",
   "metadata": {
    "slideshow": {
     "slide_type": "notes"
    }
   },
   "source": [
    "Now our tweets look like this"
   ]
  },
  {
   "cell_type": "code",
   "execution_count": 502,
   "metadata": {
    "collapsed": false,
    "slideshow": {
     "slide_type": "subslide"
    }
   },
   "outputs": [
    {
     "name": "stdout",
     "output_type": "stream",
     "text": [
      "('the angel is going to miss the athlete this weekend ', 'negative')\n",
      "('@ mcdonalds with my litto sis aka cuzin lol cristyyyyy ', 'positive')\n"
     ]
    }
   ],
   "source": [
    "print(negative_training[0])\n",
    "print(positive_training[0])"
   ]
  },
  {
   "cell_type": "markdown",
   "metadata": {},
   "source": [
    "Dataset: http://www.tweenator.com/index.php?page_id=13"
   ]
  },
  {
   "cell_type": "markdown",
   "metadata": {
    "slideshow": {
     "slide_type": "notes"
    }
   },
   "source": [
    "Now we split our tweets up into tokens, removing any 'small' words\n",
    "We now have a 'bag of words' for each tweet, still with its sentiment assigned to it"
   ]
  },
  {
   "cell_type": "code",
   "execution_count": 503,
   "metadata": {
    "collapsed": false,
    "slideshow": {
     "slide_type": "subslide"
    }
   },
   "outputs": [
    {
     "name": "stdout",
     "output_type": "stream",
     "text": [
      "(['mcdonalds', 'with', 'litto', 'sis', 'aka', 'cuzin', 'lol', 'cristyyyyy'], 'positive')\n"
     ]
    }
   ],
   "source": [
    "tweets = []\n",
    "for words, sentiment in positive_training + negative_training:\n",
    "    filtered_words = [w.lower() for w in words.split() if len(w) >= 3]\n",
    "    tweets.append((filtered_words, sentiment))\n",
    "\n",
    "print(tweets[0])"
   ]
  },
  {
   "cell_type": "markdown",
   "metadata": {
    "slideshow": {
     "slide_type": "subslide"
    }
   },
   "source": [
    "Now we have an 'actual' bag of words, for all the tweets"
   ]
  },
  {
   "cell_type": "code",
   "execution_count": 504,
   "metadata": {
    "collapsed": false,
    "slideshow": {
     "slide_type": "subslide"
    }
   },
   "outputs": [],
   "source": [
    "def get_words(tweets):\n",
    "    all_tweets = []\n",
    "    for (words, sentiment) in tweets:\n",
    "        all_tweets += words\n",
    "    return all_tweets\n",
    "\n",
    "wordlist = get_actual_tweets(tweets)"
   ]
  },
  {
   "cell_type": "markdown",
   "metadata": {
    "slideshow": {
     "slide_type": "notes"
    }
   },
   "source": [
    "Build a feature extractor, this extracts which features are in the input you passed in\n",
    "Here's an example"
   ]
  },
  {
   "cell_type": "code",
   "execution_count": 505,
   "metadata": {
    "collapsed": false,
    "slideshow": {
     "slide_type": "subslide"
    }
   },
   "outputs": [
    {
     "name": "stdout",
     "output_type": "stream",
     "text": [
      "(\"All rockstars are back home: while 'some of us' freshen up, 'others' watch Magic/Lakers game, then we'll celebrate Sweden Rock in Florida \", 'positive')\n"
     ]
    },
    {
     "data": {
      "text/plain": [
       "{'contains(ugly)': False,\n",
       " 'contains(too!!!)': False,\n",
       " 'contains(hi!)': False,\n",
       " 'contains(now,)': False,\n",
       " 'contains(lights.&quot;)': False,\n",
       " 'contains(spring)': False,\n",
       " 'contains(epic)': False,\n",
       " 'contains(babe)': False,\n",
       " 'contains(&quot;hey)': False,\n",
       " 'contains(july)': False,\n",
       " 'contains(sydney...)': False,\n",
       " 'contains(*hugs*)': False,\n",
       " 'contains(@ninaland)': False,\n",
       " 'contains(must)': False,\n",
       " 'contains(birhtday,)': False,\n",
       " 'contains(@guardiantech)': False,\n",
       " 'contains(shud)': False,\n",
       " 'contains(samro)': False,\n",
       " 'contains(lakers.)': False,\n",
       " 'contains(hydrogen)': False,\n",
       " 'contains(found)': False,\n",
       " 'contains(brian)': False,\n",
       " 'contains(yes)': False,\n",
       " 'contains(haha!)': False,\n",
       " 'contains(thinks:)': False,\n",
       " 'contains(game,)': False,\n",
       " 'contains(green)': False,\n",
       " 'contains(keeps!)': False,\n",
       " 'contains(gunna)': False,\n",
       " 'contains(music,)': False,\n",
       " 'contains(hosting)': False,\n",
       " 'contains(convergence)': False,\n",
       " 'contains(okay;)': False,\n",
       " 'contains(interferes.)': False,\n",
       " 'contains(did!)': False,\n",
       " 'contains(talks)': False,\n",
       " 'contains(helpful)': False,\n",
       " 'contains(seen)': False,\n",
       " 'contains(@marcusmims)': False,\n",
       " 'contains(starbucks)': False,\n",
       " 'contains(win!!!!)': False,\n",
       " 'contains((brazil)!)': False,\n",
       " 'contains(really.)': False,\n",
       " 'contains(gold)': False,\n",
       " 'contains(deff)': False,\n",
       " 'contains(#mileybrazil)': False,\n",
       " 'contains(hungry.)': False,\n",
       " 'contains(ones?!)': False,\n",
       " 'contains(gah)': False,\n",
       " 'contains(great)': False,\n",
       " 'contains(died..)': False,\n",
       " 'contains(special:)': False,\n",
       " 'contains(@socalgurl83)': False,\n",
       " 'contains(project.)': False,\n",
       " 'contains(mostly)': False,\n",
       " 'contains(completely)': False,\n",
       " 'contains(tooom,)': False,\n",
       " 'contains(allerfre.)': False,\n",
       " 'contains(miley)': False,\n",
       " 'contains(same)': False,\n",
       " 'contains(listened)': False,\n",
       " 'contains(win;)': False,\n",
       " 'contains(miserable)': False,\n",
       " 'contains(topics!)': False,\n",
       " 'contains(nuclear)': False,\n",
       " 'contains(school.)': False,\n",
       " 'contains(@stevonelson)': False,\n",
       " 'contains(sleep.)': False,\n",
       " 'contains(3.0)': False,\n",
       " 'contains(no-where)': False,\n",
       " 'contains(clips)': False,\n",
       " 'contains(cougar)': False,\n",
       " 'contains(5pm...)': False,\n",
       " 'contains(commit)': False,\n",
       " 'contains(chocolates-)': False,\n",
       " \"contains(don't)\": False,\n",
       " 'contains(totally)': False,\n",
       " \"contains(g'night)\": False,\n",
       " 'contains(videos)': False,\n",
       " 'contains(prostate)': False,\n",
       " 'contains(out.)': False,\n",
       " 'contains(kingston)': False,\n",
       " 'contains(hard)': False,\n",
       " 'contains(smugness)': False,\n",
       " 'contains(mcdonalds..)': False,\n",
       " 'contains(camp)': False,\n",
       " 'contains(hayfever)': False,\n",
       " 'contains(internet,)': False,\n",
       " 'contains(jonathan)': False,\n",
       " 'contains(today!)': False,\n",
       " 'contains(between)': False,\n",
       " 'contains(ink,)': False,\n",
       " 'contains(ruined)': False,\n",
       " 'contains(promotion)': False,\n",
       " 'contains(sappy)': False,\n",
       " 'contains(mood)': False,\n",
       " 'contains(whywhywhy)': False,\n",
       " 'contains(fox)': False,\n",
       " 'contains(pools!)': False,\n",
       " 'contains(dry)': False,\n",
       " 'contains(water)': False,\n",
       " 'contains(warfare)': False,\n",
       " 'contains(shes)': False,\n",
       " 'contains(t.v,david)': False,\n",
       " 'contains(today!!)': False,\n",
       " 'contains(borked)': False,\n",
       " 'contains(hollywood...)': False,\n",
       " 'contains(loool..)': False,\n",
       " 'contains(never)': False,\n",
       " 'contains(@jonasaustralia)': False,\n",
       " 'contains(*poof*)': False,\n",
       " 'contains(fearless.)': False,\n",
       " 'contains(swear)': False,\n",
       " 'contains(me!!)': False,\n",
       " 'contains(multi-celebration)': False,\n",
       " 'contains(airport)': False,\n",
       " 'contains(@lolakers7)': False,\n",
       " 'contains(log)': False,\n",
       " 'contains(adams)': False,\n",
       " 'contains(@starchile.....ahhh.....alright.)': False,\n",
       " 'contains(line)': False,\n",
       " 'contains(blanket)': False,\n",
       " 'contains(reveals)': False,\n",
       " 'contains(xdd)': False,\n",
       " 'contains(town)': False,\n",
       " 'contains(person.)': False,\n",
       " 'contains(lebron,)': False,\n",
       " 'contains(rather)': False,\n",
       " 'contains(game.)': False,\n",
       " 'contains(post,)': False,\n",
       " 'contains(english/spanish)': False,\n",
       " 'contains(sony)': False,\n",
       " 'contains(magic)': False,\n",
       " 'contains(screen)': False,\n",
       " 'contains(hype)': False,\n",
       " 'contains(tore)': False,\n",
       " 'contains(moments)': False,\n",
       " 'contains(@butterballs_mc)': False,\n",
       " 'contains(@stephnewby)': False,\n",
       " 'contains(cheeseburger)': False,\n",
       " \"contains(wife's)\": False,\n",
       " 'contains(magic?)': False,\n",
       " 'contains(apparent)': False,\n",
       " 'contains(mellow)': False,\n",
       " 'contains(true!)': False,\n",
       " 'contains(replacing)': False,\n",
       " 'contains(class.)': False,\n",
       " 'contains(free!)': False,\n",
       " 'contains(time.)': False,\n",
       " 'contains(mid)': False,\n",
       " 'contains(suckssss)': False,\n",
       " 'contains(dallas)': False,\n",
       " 'contains(xbox360)': False,\n",
       " 'contains(played)': False,\n",
       " 'contains(tonite)': False,\n",
       " 'contains(body)': False,\n",
       " 'contains(bondi)': False,\n",
       " 'contains(awwww)': False,\n",
       " 'contains(memory)': False,\n",
       " 'contains(cavs)': False,\n",
       " 'contains(http://bit.ly/hpnri)': False,\n",
       " 'contains(exterminator.)': False,\n",
       " 'contains(twice)': False,\n",
       " 'contains(editing)': False,\n",
       " 'contains(arm)': False,\n",
       " 'contains(@nasacaligeek)': False,\n",
       " 'contains(upset)': False,\n",
       " 'contains(though.)': False,\n",
       " 'contains(heckling)': False,\n",
       " 'contains(@guykawasaki)': False,\n",
       " 'contains(*-*)': False,\n",
       " 'contains(batsmen.)': False,\n",
       " 'contains(beach.)': False,\n",
       " 'contains(tanning.)': False,\n",
       " 'contains(....wow)': False,\n",
       " 'contains(will,)': False,\n",
       " \"contains(i'v)\": False,\n",
       " 'contains(mr.)': False,\n",
       " 'contains(@gabrielrossi)': False,\n",
       " 'contains(ginormica)': False,\n",
       " 'contains(i’m)': False,\n",
       " \"contains(you'll)\": False,\n",
       " 'contains(inherited)': False,\n",
       " 'contains(everyone!)': False,\n",
       " 'contains(especially)': False,\n",
       " 'contains(for!)': False,\n",
       " 'contains(rock)': False,\n",
       " 'contains(@keyannaaa)': False,\n",
       " 'contains(ill)': False,\n",
       " \"contains(aren't)\": False,\n",
       " 'contains(rockstar)': False,\n",
       " 'contains(melbz)': False,\n",
       " 'contains(@tweetramona)': False,\n",
       " 'contains(highly)': False,\n",
       " 'contains(celts)': False,\n",
       " 'contains(@dewiel)': False,\n",
       " 'contains(day!!!)': False,\n",
       " 'contains((yyy))': False,\n",
       " 'contains(not,)': False,\n",
       " 'contains(argentinians)': False,\n",
       " 'contains(how)': False,\n",
       " 'contains(warrior...)': False,\n",
       " 'contains(three)': False,\n",
       " 'contains(marley)': False,\n",
       " 'contains(invited)': False,\n",
       " 'contains(account.)': False,\n",
       " 'contains(@billyraycyrus)': False,\n",
       " 'contains(hero)': False,\n",
       " 'contains(lunch/dinner)': False,\n",
       " 'contains(laguna)': False,\n",
       " 'contains(wk:)': False,\n",
       " 'contains(against)': False,\n",
       " 'contains(club!)': False,\n",
       " 'contains(work.)': False,\n",
       " 'contains(board)': False,\n",
       " 'contains(big)': False,\n",
       " 'contains(hates)': False,\n",
       " 'contains(wwdc)': False,\n",
       " 'contains(headphones)': False,\n",
       " 'contains(wedding)': False,\n",
       " 'contains(martin.)': False,\n",
       " 'contains(freddy)': False,\n",
       " 'contains(dublin)': False,\n",
       " 'contains(rome,)': False,\n",
       " 'contains(diss)': False,\n",
       " 'contains(movie!)': False,\n",
       " 'contains(freakin)': False,\n",
       " 'contains(bold)': False,\n",
       " 'contains(eat)': False,\n",
       " 'contains(wee)': False,\n",
       " 'contains(all.)': False,\n",
       " 'contains(sydney,)': False,\n",
       " 'contains(survive.)': False,\n",
       " 'contains(in!!))': False,\n",
       " 'contains(...this)': False,\n",
       " 'contains(goinon)': False,\n",
       " 'contains(dress)': False,\n",
       " 'contains(short)': False,\n",
       " 'contains(places)': False,\n",
       " 'contains(party)': False,\n",
       " 'contains(help!!)': False,\n",
       " 'contains(mcdonalds)': False,\n",
       " 'contains(@littlefletcher)': False,\n",
       " 'contains(difference,u)': False,\n",
       " 'contains(advance)': False,\n",
       " 'contains(cod)': False,\n",
       " 'contains(howard)': False,\n",
       " 'contains(facebook?)': False,\n",
       " 'contains(san)': False,\n",
       " 'contains(money)': False,\n",
       " 'contains(grrr.)': False,\n",
       " 'contains(champion)': False,\n",
       " 'contains(pts.,)': False,\n",
       " 'contains(can!!)': False,\n",
       " 'contains(#sony)': False,\n",
       " \"contains(stinkin')\": False,\n",
       " 'contains(happen.)': False,\n",
       " 'contains(sad!!!)': False,\n",
       " 'contains(grrr)': False,\n",
       " 'contains(not)': False,\n",
       " 'contains(pretty)': False,\n",
       " 'contains(@mandyblake)': False,\n",
       " 'contains(fanfic!)': False,\n",
       " 'contains(awhh.)': False,\n",
       " 'contains(train)': False,\n",
       " 'contains(write)': False,\n",
       " 'contains(where)': False,\n",
       " 'contains(hmm)': False,\n",
       " 'contains(tournament)': False,\n",
       " 'contains(cyyyyrus&quot;)': False,\n",
       " 'contains(*hugs*,)': False,\n",
       " 'contains(threw)': False,\n",
       " 'contains(florida)': False,\n",
       " 'contains(monday.)': False,\n",
       " 'contains(vegas?)': False,\n",
       " 'contains(coach)': False,\n",
       " 'contains(ready)': False,\n",
       " 'contains(twellman)': False,\n",
       " 'contains(@stasia19)': False,\n",
       " 'contains(ana.)': False,\n",
       " \"contains(u'll)\": False,\n",
       " 'contains(cagcast,)': False,\n",
       " 'contains(excited!!!)': False,\n",
       " 'contains(people..)': False,\n",
       " 'contains(luto.)': False,\n",
       " 'contains(amazing)': False,\n",
       " 'contains(@sdoyon)': False,\n",
       " 'contains(tree)': False,\n",
       " 'contains(@d_castillo)': False,\n",
       " 'contains(@imajicart)': False,\n",
       " 'contains(hours,)': False,\n",
       " 'contains(ate)': False,\n",
       " 'contains(grateful)': False,\n",
       " 'contains(up!)': False,\n",
       " 'contains(aaaaahhhh....)': False,\n",
       " 'contains(*sad)': False,\n",
       " 'contains(youtube!)': False,\n",
       " 'contains(kevin)': False,\n",
       " 'contains(funding)': False,\n",
       " 'contains(@hollywoodhansm)': False,\n",
       " 'contains(better!)': False,\n",
       " 'contains(depressed)': False,\n",
       " 'contains(today)': False,\n",
       " 'contains(online)': False,\n",
       " 'contains(well.)': False,\n",
       " 'contains(going)': False,\n",
       " 'contains(@batistini21)': False,\n",
       " \"contains(tula's)\": False,\n",
       " 'contains(swift!!)': False,\n",
       " 'contains(be....)': False,\n",
       " 'contains(yea)': False,\n",
       " 'contains(confused.)': False,\n",
       " 'contains(stage!)': False,\n",
       " 'contains(garden)': False,\n",
       " 'contains(gona)': False,\n",
       " 'contains(do-over)': False,\n",
       " 'contains(iz!!)': False,\n",
       " 'contains(ryan)': False,\n",
       " 'contains(atthis)': False,\n",
       " 'contains(cleveland!)': False,\n",
       " 'contains(http://twitpic.com/7pf62)': False,\n",
       " 'contains(@davebos)': False,\n",
       " 'contains(battle.)': False,\n",
       " 'contains(@tweetshrink)': False,\n",
       " 'contains(@cgarcia47)': False,\n",
       " 'contains(twitters)': False,\n",
       " 'contains(enjoyed)': False,\n",
       " 'contains(http://twitpic.com/6ubr9)': False,\n",
       " 'contains(fathers)': False,\n",
       " 'contains(thing.)': False,\n",
       " 'contains(tonight,)': False,\n",
       " 'contains(place!)': False,\n",
       " 'contains(helppp!!!!)': False,\n",
       " 'contains(god,)': False,\n",
       " 'contains(rugby)': False,\n",
       " 'contains(pick)': False,\n",
       " 'contains(head!)': False,\n",
       " 'contains(images)': False,\n",
       " 'contains(hahahaaaaa!)': False,\n",
       " 'contains(sydney)': False,\n",
       " 'contains(lol.)': False,\n",
       " 'contains(28th)': False,\n",
       " 'contains(wooo!!)': False,\n",
       " 'contains(kiss)': False,\n",
       " 'contains(up.)': False,\n",
       " 'contains(nails)': False,\n",
       " 'contains(all...)': False,\n",
       " 'contains(@syamira723)': False,\n",
       " 'contains(misserble)': False,\n",
       " 'contains(dreams)': False,\n",
       " 'contains(loads)': False,\n",
       " 'contains(of!)': False,\n",
       " \"contains(eric's)\": False,\n",
       " 'contains(hols)': False,\n",
       " 'contains(left)': False,\n",
       " \"contains(grandma's)\": False,\n",
       " 'contains(above)': False,\n",
       " 'contains(@danniasheonline)': False,\n",
       " 'contains(boot)': False,\n",
       " 'contains(edge)': False,\n",
       " 'contains(suck)': False,\n",
       " 'contains(hearing)': False,\n",
       " 'contains(mall)': False,\n",
       " 'contains(nervous)': False,\n",
       " 'contains(choclate)': False,\n",
       " 'contains(@flipflopspearls)': False,\n",
       " 'contains(yuuuup!)': False,\n",
       " 'contains(posting)': False,\n",
       " 'contains(lolol)': False,\n",
       " 'contains(horrible)': False,\n",
       " 'contains(suggestions)': False,\n",
       " 'contains(force)': False,\n",
       " 'contains(@sezrules)': False,\n",
       " 'contains(break)': False,\n",
       " 'contains(@king5seattle)': False,\n",
       " 'contains(lads)': False,\n",
       " 'contains(sticky)': False,\n",
       " 'contains(harsh)': False,\n",
       " 'contains(brazilian)': False,\n",
       " 'contains(plan:pass)': False,\n",
       " 'contains(hadron)': False,\n",
       " 'contains(csi)': False,\n",
       " 'contains(@vene2ia)': False,\n",
       " 'contains(finals)': False,\n",
       " 'contains(dislikes,)': False,\n",
       " 'contains(@30comau)': False,\n",
       " 'contains(series)': False,\n",
       " 'contains(love!)': False,\n",
       " 'contains(concerts!)': False,\n",
       " 'contains(saying,)': False,\n",
       " 'contains(via)': False,\n",
       " 'contains(back)': False,\n",
       " 'contains(antihistamines)': False,\n",
       " 'contains(office,)': False,\n",
       " 'contains(versus)': False,\n",
       " 'contains(headache,)': False,\n",
       " 'contains(@ashleybella)': False,\n",
       " 'contains(england,)': False,\n",
       " 'contains(early,)': False,\n",
       " 'contains(they)': False,\n",
       " 'contains(downtime)': False,\n",
       " 'contains(gotham)': False,\n",
       " 'contains(crazyy!)': False,\n",
       " 'contains(goshh!!)': False,\n",
       " 'contains(ily)': False,\n",
       " 'contains(saturday)': False,\n",
       " 'contains(fat)': False,\n",
       " 'contains(rape?)': False,\n",
       " 'contains(know)': False,\n",
       " 'contains(grrrrr....my)': False,\n",
       " 'contains(lane)': False,\n",
       " 'contains(haha.)': False,\n",
       " 'contains(something)': False,\n",
       " 'contains(@pocketfulofme)': False,\n",
       " 'contains(internect)': False,\n",
       " 'contains(size)': False,\n",
       " 'contains(gone..)': False,\n",
       " 'contains(tho...)': False,\n",
       " 'contains(not.)': False,\n",
       " 'contains(lot.)': False,\n",
       " 'contains(@hannahpoulton)': False,\n",
       " 'contains($59)': False,\n",
       " 'contains(me...)': False,\n",
       " 'contains(boys!)': False,\n",
       " 'contains(cristyyyyy)': False,\n",
       " 'contains(revs!)': False,\n",
       " 'contains(apps)': False,\n",
       " 'contains(brilliant)': False,\n",
       " 'contains(story)': False,\n",
       " 'contains(souls)': False,\n",
       " 'contains(cool,)': False,\n",
       " 'contains(page,)': False,\n",
       " 'contains(party.)': False,\n",
       " 'contains(@amylee27)': False,\n",
       " 'contains(omg.)': False,\n",
       " 'contains(baby=no)': False,\n",
       " 'contains((esp.)': False,\n",
       " 'contains(theraflu)': False,\n",
       " \"contains(you've)\": False,\n",
       " 'contains(eventually.)': False,\n",
       " 'contains(data)': False,\n",
       " 'contains(@msdebramaye)': False,\n",
       " 'contains(do..?)': False,\n",
       " 'contains(them!!!)': False,\n",
       " 'contains(outta)': False,\n",
       " 'contains(bookin)': False,\n",
       " 'contains(stink)': False,\n",
       " 'contains(phone)': False,\n",
       " 'contains(late)': False,\n",
       " 'contains(start)': False,\n",
       " 'contains(&quot;cello)': False,\n",
       " 'contains(awful)': False,\n",
       " 'contains(haha,)': False,\n",
       " 'contains(president)': False,\n",
       " 'contains(pro-lebron)': False,\n",
       " 'contains(shuffling)': False,\n",
       " 'contains(amy.)': False,\n",
       " 'contains(dont)': False,\n",
       " 'contains(lebron!lol)': False,\n",
       " 'contains(laugh,)': False,\n",
       " 'contains(production)': False,\n",
       " 'contains(puppet!)': False,\n",
       " 'contains(google)': False,\n",
       " 'contains(...now)': False,\n",
       " 'contains(--taylor)': False,\n",
       " 'contains(chelsea)': False,\n",
       " 'contains(crakle.)': False,\n",
       " 'contains(wished)': False,\n",
       " 'contains(&lt;33)': False,\n",
       " 'contains(friday?!)': False,\n",
       " 'contains(installing)': False,\n",
       " 'contains(land)': False,\n",
       " 'contains(bubble)': False,\n",
       " 'contains(stories)': False,\n",
       " 'contains(commercials...)': False,\n",
       " 'contains(either)': False,\n",
       " 'contains(homie)': False,\n",
       " 'contains(picture)': False,\n",
       " 'contains(#herebeforeoprah)': False,\n",
       " 'contains(@johncleese)': False,\n",
       " 'contains(shipped)': False,\n",
       " 'contains(otherwise)': False,\n",
       " 'contains(ash)': False,\n",
       " 'contains(@debbiefletcher)': False,\n",
       " 'contains(nba)': False,\n",
       " 'contains(cool)': False,\n",
       " 'contains(me-taylor)': False,\n",
       " 'contains(protest)': False,\n",
       " 'contains(bedtime,)': False,\n",
       " 'contains(waste)': False,\n",
       " 'contains(carol)': False,\n",
       " 'contains(were)': False,\n",
       " 'contains(victoria)': False,\n",
       " 'contains(week.)': False,\n",
       " 'contains(few)': False,\n",
       " 'contains(mystic)': False,\n",
       " 'contains(cooool)': False,\n",
       " 'contains(cell,)': False,\n",
       " 'contains(nothing)': False,\n",
       " \"contains(listenin')\": False,\n",
       " 'contains(retribution.)': False,\n",
       " 'contains(sun)': False,\n",
       " 'contains(awake)': False,\n",
       " 'contains(low)': False,\n",
       " 'contains(@bodycoach)': False,\n",
       " 'contains(song,)': False,\n",
       " 'contains(@charlietm)': False,\n",
       " 'contains(event)': False,\n",
       " 'contains(pictures)': False,\n",
       " 'contains(vote!)': False,\n",
       " 'contains(vids)': False,\n",
       " 'contains(broken,)': False,\n",
       " 'contains(playin)': False,\n",
       " 'contains(day:)': False,\n",
       " 'contains(lakers?)': False,\n",
       " 'contains(yesterday)': False,\n",
       " 'contains(plane)': False,\n",
       " 'contains(future!)': False,\n",
       " 'contains(broken)': False,\n",
       " 'contains(hound)': False,\n",
       " 'contains(since)': False,\n",
       " 'contains(live!)': False,\n",
       " 'contains(dreams.)': False,\n",
       " 'contains(ugh,)': False,\n",
       " 'contains(feature)': False,\n",
       " 'contains(dunno)': False,\n",
       " 'contains(space)': False,\n",
       " 'contains(heat.)': False,\n",
       " 'contains(@jonathanrknight)': False,\n",
       " 'contains(australia.)': False,\n",
       " 'contains(breaking)': False,\n",
       " 'contains(hunk)': False,\n",
       " 'contains(dining)': False,\n",
       " 'contains(king)': False,\n",
       " 'contains(headache....see)': False,\n",
       " 'contains(luv)': False,\n",
       " 'contains(sights/sounds.)': False,\n",
       " 'contains(crushed.)': False,\n",
       " 'contains(becca,)': False,\n",
       " 'contains(yea,)': False,\n",
       " 'contains(sick)': False,\n",
       " 'contains(milk?)': False,\n",
       " 'contains(bah!)': False,\n",
       " 'contains(vote.)': False,\n",
       " 'contains(app)': False,\n",
       " 'contains(giant)': False,\n",
       " 'contains(rhis)': False,\n",
       " 'contains(knicks!!!)': False,\n",
       " 'contains(sherbet)': False,\n",
       " 'contains(unloved.)': False,\n",
       " 'contains(much!!)': False,\n",
       " 'contains(&quot;i)': False,\n",
       " 'contains(baby!)': False,\n",
       " 'contains(though)': False,\n",
       " 'contains(ipod,)': False,\n",
       " 'contains(....if)': False,\n",
       " 'contains(.haha)': False,\n",
       " 'contains(cover)': False,\n",
       " 'contains(ring.)': False,\n",
       " 'contains(show!)': False,\n",
       " 'contains(last)': False,\n",
       " 'contains(magnetic)': False,\n",
       " 'contains(@kuuchuu)': False,\n",
       " \"contains(who's)\": False,\n",
       " 'contains(passes)': False,\n",
       " 'contains(ever.)': False,\n",
       " 'contains(ruin)': False,\n",
       " 'contains(contacts)': False,\n",
       " 'contains(drive)': False,\n",
       " 'contains(bastard)': False,\n",
       " 'contains(lol)': False,\n",
       " 'contains(feat)': False,\n",
       " 'contains(health)': False,\n",
       " 'contains(hurts)': False,\n",
       " 'contains(day...)': False,\n",
       " 'contains(bank)': False,\n",
       " \"contains(meredith's)\": False,\n",
       " 'contains(kno)': False,\n",
       " 'contains(magazine)': False,\n",
       " 'contains(spain)': False,\n",
       " 'contains(@dsiegel99)': False,\n",
       " 'contains(etc...)': False,\n",
       " 'contains(@alirushton)': False,\n",
       " 'contains(first)': False,\n",
       " 'contains(unpleasant)': False,\n",
       " 'contains(little)': False,\n",
       " 'contains(@startonomics:)': False,\n",
       " 'contains(possible)': False,\n",
       " 'contains(net.)': False,\n",
       " 'contains(plugin)': False,\n",
       " 'contains(better)': False,\n",
       " 'contains(die)': False,\n",
       " 'contains(photographs)': False,\n",
       " 'contains(lakers...)': False,\n",
       " 'contains(wow,)': False,\n",
       " 'contains(amity)': False,\n",
       " 'contains(@supricky06)': False,\n",
       " 'contains(country.)': False,\n",
       " 'contains(5am,)': False,\n",
       " 'contains(now)': False,\n",
       " 'contains(sis)': False,\n",
       " 'contains(gr8t)': False,\n",
       " 'contains(learning)': False,\n",
       " 'contains(theres)': False,\n",
       " 'contains(call)': False,\n",
       " 'contains(us!!)': False,\n",
       " 'contains(tweeted)': False,\n",
       " 'contains(nice!!!)': False,\n",
       " 'contains(jackson)': False,\n",
       " \"contains(week...i'm)\": False,\n",
       " 'contains(dwight!)': False,\n",
       " 'contains(better,)': False,\n",
       " 'contains(waking)': False,\n",
       " 'contains(perfection...thanks.)': False,\n",
       " 'contains(@clarianne)': False,\n",
       " 'contains(tour!)': False,\n",
       " 'contains(www.ink-guard.com)': False,\n",
       " 'contains(each)': False,\n",
       " 'contains(@donnasawr)': False,\n",
       " 'contains(disease...)': False,\n",
       " 'contains(account!?)': False,\n",
       " 'contains(sucks!)': False,\n",
       " 'contains(seattle!)': False,\n",
       " 'contains(anyone...?)': False,\n",
       " 'contains(@shari58)': False,\n",
       " 'contains(@griffmiester)': False,\n",
       " 'contains(d!!!)': False,\n",
       " 'contains(@veldagraydon)': False,\n",
       " 'contains(mitchin)': False,\n",
       " 'contains(episode!)': False,\n",
       " 'contains(suspended.)': False,\n",
       " 'contains(soonish.)': False,\n",
       " 'contains(credit)': False,\n",
       " 'contains(package!)': False,\n",
       " 'contains(charging)': False,\n",
       " 'contains(@lizamtl)': False,\n",
       " 'contains(cmputr)': False,\n",
       " 'contains(viewing))': False,\n",
       " 'contains(coke)': False,\n",
       " 'contains(shauna...that)': False,\n",
       " 'contains(mind)': False,\n",
       " 'contains(tattoo....:)': False,\n",
       " 'contains(wntd)': False,\n",
       " 'contains(dunkin)': False,\n",
       " 'contains(slacking)': False,\n",
       " 'contains(@harper)': False,\n",
       " 'contains(stillllll)': False,\n",
       " 'contains(plans)': False,\n",
       " 'contains(allergic)': False,\n",
       " 'contains(530)': False,\n",
       " 'contains(#bgt)': False,\n",
       " 'contains(amazing,)': False,\n",
       " 'contains(emily.)': False,\n",
       " 'contains(been)': False,\n",
       " 'contains(boring)': False,\n",
       " 'contains(artist)': False,\n",
       " 'contains(after)': False,\n",
       " 'contains(taylor)': False,\n",
       " 'contains(yum!)': False,\n",
       " 'contains(headache...)': False,\n",
       " 'contains(rain)': False,\n",
       " 'contains(me..)': False,\n",
       " 'contains(parade&quot;)': False,\n",
       " 'contains(team!!)': False,\n",
       " 'contains(#vegas)': False,\n",
       " 'contains(jemimah.)': False,\n",
       " 'contains(record)': False,\n",
       " 'contains(200)': False,\n",
       " 'contains(french)': False,\n",
       " 'contains(choice.))': False,\n",
       " 'contains(pass)': False,\n",
       " \"contains(can't...the)\": False,\n",
       " 'contains(@lizchavez)': False,\n",
       " 'contains(boring.)': False,\n",
       " 'contains(@tiranw)': False,\n",
       " 'contains(sunderland)': False,\n",
       " 'contains(la!)': False,\n",
       " 'contains(designed)': False,\n",
       " 'contains(boarding)': False,\n",
       " 'contains(@kaeeeep)': False,\n",
       " 'contains(laughing!)': False,\n",
       " 'contains(ceiling)': False,\n",
       " 'contains(wet.)': False,\n",
       " 'contains(pic)': False,\n",
       " 'contains(@sarahcowan)': False,\n",
       " 'contains(birding)': False,\n",
       " 'contains(anymore...)': False,\n",
       " 'contains(omg)': False,\n",
       " 'contains(turn)': False,\n",
       " 'contains(breast)': False,\n",
       " 'contains(dear,)': False,\n",
       " \"contains('em)\": False,\n",
       " 'contains(shout)': False,\n",
       " 'contains(headache-ish)': False,\n",
       " 'contains(cure)': False,\n",
       " 'contains(doesnt)': False,\n",
       " 'contains(ipod!)': False,\n",
       " 'contains(perhaps)': False,\n",
       " \"contains(what's)\": False,\n",
       " \"contains(that'd)\": False,\n",
       " 'contains(@athena422)': False,\n",
       " 'contains(#facebook)': False,\n",
       " 'contains(promised)': False,\n",
       " 'contains(swanky)': False,\n",
       " 'contains(internationally!!!)': False,\n",
       " 'contains(@catharinamcfly)': False,\n",
       " 'contains(http://tinyurl.com/cspspj)': False,\n",
       " 'contains(affection)': False,\n",
       " 'contains(http://twitpic.com/5c9gs)': False,\n",
       " 'contains(ringtones!!!)': False,\n",
       " 'contains(please!)': False,\n",
       " 'contains(nose)': False,\n",
       " 'contains(suicide)': False,\n",
       " 'contains(@londonbridget13)': False,\n",
       " 'contains(leaving)': False,\n",
       " 'contains(@astewart87)': False,\n",
       " 'contains(wow!)': False,\n",
       " 'contains(deep)': False,\n",
       " 'contains(course.)': False,\n",
       " 'contains(@lee_knight)': False,\n",
       " 'contains(interview)': False,\n",
       " 'contains(funny!!)': False,\n",
       " 'contains(super)': False,\n",
       " 'contains(@elissaislegit)': False,\n",
       " 'contains(now!!!!!)': False,\n",
       " 'contains(player)': False,\n",
       " 'contains(workout)': False,\n",
       " 'contains(madly*)': False,\n",
       " 'contains(@levifig)': False,\n",
       " 'contains(dianna)': False,\n",
       " 'contains(revision)': False,\n",
       " 'contains(machine)': False,\n",
       " 'contains(days,)': False,\n",
       " 'contains(lastnites)': False,\n",
       " 'contains(close)': False,\n",
       " 'contains(excited....i)': False,\n",
       " 'contains(laker)': False,\n",
       " 'contains(yours!)': False,\n",
       " 'contains(psp,)': False,\n",
       " 'contains(b-day)': False,\n",
       " 'contains(havta)': False,\n",
       " 'contains(isnt)': False,\n",
       " 'contains(manuscript)': False,\n",
       " 'contains(vegas.)': False,\n",
       " 'contains(gazelle.com)': False,\n",
       " 'contains(versions!)': False,\n",
       " 'contains(@theellenshow)': False,\n",
       " 'contains(watchin)': False,\n",
       " 'contains(nano)': False,\n",
       " 'contains(touched)': False,\n",
       " 'contains(life!)': False,\n",
       " 'contains(longer)': False,\n",
       " 'contains(curling)': False,\n",
       " 'contains(onto)': False,\n",
       " 'contains(lebron..)': False,\n",
       " 'contains(lmao)': False,\n",
       " 'contains(cute)': False,\n",
       " 'contains(avoid)': False,\n",
       " 'contains(any)': False,\n",
       " 'contains(down)': False,\n",
       " 'contains(nooo)': False,\n",
       " 'contains(yesterday..)': False,\n",
       " 'contains(seeing)': False,\n",
       " 'contains(@taystarr)': False,\n",
       " 'contains(happened)': False,\n",
       " 'contains(robots)': False,\n",
       " 'contains(coolest)': False,\n",
       " 'contains(@m3l1nd4)': False,\n",
       " 'contains(argentina)': False,\n",
       " 'contains(carrie!)': False,\n",
       " \"contains(wouldn't)\": False,\n",
       " 'contains(@triplejhack)': False,\n",
       " 'contains(london/england)': False,\n",
       " 'contains(sweet.)': False,\n",
       " 'contains(backup)': False,\n",
       " 'contains(texas)': False,\n",
       " 'contains(wanting)': False,\n",
       " 'contains(*ahem*)': False,\n",
       " 'contains(feeling...sucky)': False,\n",
       " 'contains(girls)': False,\n",
       " 'contains(covers)': False,\n",
       " 'contains(bf.)': False,\n",
       " 'contains(out,)': False,\n",
       " 'contains(spell)': False,\n",
       " 'contains(ugh.)': False,\n",
       " 'contains(lazy)': False,\n",
       " 'contains(kurtz)': False,\n",
       " 'contains(gutted.)': False,\n",
       " 'contains(brazil,,)': False,\n",
       " 'contains(math)': False,\n",
       " 'contains(goals)': False,\n",
       " 'contains(seattle...and)': False,\n",
       " 'contains(lineup)': False,\n",
       " 'contains(look)': False,\n",
       " 'contains(white,)': False,\n",
       " 'contains(twas)': False,\n",
       " 'contains((1:58:00)': False,\n",
       " 'contains(blues)': False,\n",
       " 'contains(sale!)': False,\n",
       " \"contains(boyfriend's)\": False,\n",
       " 'contains(poor)': False,\n",
       " 'contains(brazil...)': False,\n",
       " 'contains(birthday!)': False,\n",
       " 'contains(stand)': False,\n",
       " 'contains(hours)': False,\n",
       " 'contains(remote)': False,\n",
       " 'contains(problems)': False,\n",
       " 'contains(disappointed)': False,\n",
       " 'contains(360.)': False,\n",
       " 'contains(tonight!!!)': False,\n",
       " 'contains(ever)': False,\n",
       " 'contains(climb.)': False,\n",
       " 'contains(attempts.)': False,\n",
       " 'contains(should)': False,\n",
       " 'contains(universe)': False,\n",
       " 'contains(haz)': False,\n",
       " 'contains(me.?)': False,\n",
       " \"contains((l')\": False,\n",
       " 'contains(figa)': False,\n",
       " 'contains(@rhyanath)': False,\n",
       " 'contains(fever-ish,)': False,\n",
       " 'contains(@cibaby)': False,\n",
       " 'contains(making.)': False,\n",
       " 'contains(@jenocidal)': False,\n",
       " 'contains(@angelicbiscuit)': False,\n",
       " 'contains(week,)': False,\n",
       " 'contains(charlotte)': False,\n",
       " 'contains(disco)': False,\n",
       " 'contains(bands!)': False,\n",
       " \"contains('09)\": False,\n",
       " 'contains(mee)': False,\n",
       " 'contains(oven,)': False,\n",
       " 'contains(sway)': False,\n",
       " 'contains(#followfriday)': False,\n",
       " 'contains(saw)': False,\n",
       " 'contains(soooooo)': False,\n",
       " 'contains(miracle)': False,\n",
       " 'contains(#tweetdeck?)': False,\n",
       " 'contains(gr8)': False,\n",
       " 'contains((bad)': False,\n",
       " 'contains(bone)': False,\n",
       " 'contains(#lakers)': False,\n",
       " 'contains(step)': False,\n",
       " 'contains(&quot;tweets&quot;)': False,\n",
       " 'contains(lance)': False,\n",
       " 'contains(there!!!!!)': False,\n",
       " 'contains(also)': False,\n",
       " 'contains(particularly)': False,\n",
       " 'contains(youuu!)': False,\n",
       " 'contains(barista)': False,\n",
       " 'contains(pay)': False,\n",
       " 'contains(glorious)': False,\n",
       " 'contains(@jonasbrothers)': False,\n",
       " 'contains(charger)': False,\n",
       " 'contains(new)': False,\n",
       " 'contains(@rocker182)': False,\n",
       " 'contains(bday)': False,\n",
       " 'contains(stock)': False,\n",
       " 'contains(bite..)': False,\n",
       " 'contains(dinner)': False,\n",
       " 'contains(surprised)': False,\n",
       " 'contains(w/complications.)': False,\n",
       " \"contains(obama's)\": False,\n",
       " 'contains(grandad.)': False,\n",
       " 'contains(greasy)': False,\n",
       " 'contains(job,)': False,\n",
       " 'contains(def)': False,\n",
       " 'contains(@obama_binladen)': False,\n",
       " 'contains(stats..)': False,\n",
       " 'contains(bike)': False,\n",
       " 'contains(camper?)': False,\n",
       " 'contains(http://twitpic.com/56m0y)': False,\n",
       " 'contains(margarita)': False,\n",
       " 'contains(my.)': False,\n",
       " 'contains(sucks.)': False,\n",
       " 'contains(lakers,)': False,\n",
       " 'contains(w/family)': False,\n",
       " 'contains(tub)': False,\n",
       " 'contains(won!)': False,\n",
       " 'contains(mcdonalds!!!!)': False,\n",
       " 'contains(gifts)': False,\n",
       " 'contains(afford)': False,\n",
       " 'contains(home&quot;)': False,\n",
       " 'contains(ubuntu)': False,\n",
       " 'contains(trip)': False,\n",
       " 'contains(guy)': False,\n",
       " 'contains(talkin)': False,\n",
       " 'contains(name.)': False,\n",
       " 'contains(mentioned)': False,\n",
       " 'contains(angel)': False,\n",
       " 'contains(paradise)': False,\n",
       " 'contains(#trackle)': False,\n",
       " 'contains(oh...)': False,\n",
       " 'contains(held)': False,\n",
       " 'contains(catherine)': False,\n",
       " 'contains(followers!)': False,\n",
       " 'contains(emotional)': False,\n",
       " 'contains(£209)': False,\n",
       " 'contains(car!)': False,\n",
       " 'contains(bit..)': False,\n",
       " 'contains(brick.)': False,\n",
       " 'contains(cairo;)': False,\n",
       " 'contains(hungover)': False,\n",
       " 'contains(las)': False,\n",
       " 'contains(moy)': False,\n",
       " 'contains(@nikhilnarayanan)': False,\n",
       " 'contains(limbaugh)': False,\n",
       " 'contains(dead)': False,\n",
       " 'contains(turismo)': False,\n",
       " 'contains(lmao!)': False,\n",
       " \"contains(don't.)\": False,\n",
       " 'contains(difference)': False,\n",
       " 'contains(ipod)': False,\n",
       " 'contains(tweeters)': False,\n",
       " 'contains(chris!)': False,\n",
       " 'contains(appreciated)': False,\n",
       " 'contains(man.)': False,\n",
       " 'contains(tnx!)': False,\n",
       " 'contains(win!)': False,\n",
       " 'contains(protesting)': False,\n",
       " 'contains(absolutely)': False,\n",
       " 'contains(birthay...)': False,\n",
       " 'contains(chorus)': False,\n",
       " 'contains(somewhere)': False,\n",
       " 'contains(meet)': False,\n",
       " 'contains(nick)': False,\n",
       " 'contains(it...)': False,\n",
       " 'contains(tyler)': False,\n",
       " 'contains(touring)': False,\n",
       " 'contains(pin)': False,\n",
       " 'contains(wotya)': False,\n",
       " 'contains(her,)': False,\n",
       " 'contains(yourself..)': False,\n",
       " 'contains(show)': False,\n",
       " 'contains(ticket)': False,\n",
       " 'contains(weds)': False,\n",
       " 'contains(flyer)': False,\n",
       " 'contains(fight...)': False,\n",
       " 'contains(nah...the)': False,\n",
       " 'contains(caffine.)': False,\n",
       " 'contains(dananananaykroyd)': False,\n",
       " 'contains(@nyfab)': False,\n",
       " 'contains(love...)': False,\n",
       " 'contains(here!)': False,\n",
       " 'contains(year?)': False,\n",
       " 'contains(routine!)': False,\n",
       " 'contains(wow)': False,\n",
       " 'contains(night)': False,\n",
       " 'contains(graduations!)': False,\n",
       " 'contains(tarheel)': False,\n",
       " 'contains(dad)': False,\n",
       " 'contains(want)': False,\n",
       " 'contains(dashboard)': False,\n",
       " 'contains(bypass)': False,\n",
       " 'contains(ana)': False,\n",
       " 'contains(wall.)': False,\n",
       " 'contains(@obamanews)': False,\n",
       " 'contains(all!)': False,\n",
       " 'contains(thinking)': False,\n",
       " 'contains(psprint,)': False,\n",
       " 'contains(booo)': False,\n",
       " 'contains(fire)': False,\n",
       " 'contains(bridge)': False,\n",
       " 'contains(details)': False,\n",
       " \"contains(team's)\": False,\n",
       " 'contains(military)': False,\n",
       " 'contains(gayle)': False,\n",
       " 'contains(@ahaulil)': False,\n",
       " 'contains(stern)': False,\n",
       " 'contains(desperate)': False,\n",
       " 'contains(girlfriend!)': False,\n",
       " 'contains(marisa)': False,\n",
       " 'contains(oooh,)': False,\n",
       " 'contains(priorities)': False,\n",
       " 'contains(millisecond!!)': False,\n",
       " 'contains(copy)': False,\n",
       " 'contains(apart)': False,\n",
       " 'contains(up!!!!)': False,\n",
       " 'contains(heat)': False,\n",
       " 'contains(shoe.)': False,\n",
       " 'contains(forget)': False,\n",
       " 'contains(convince)': False,\n",
       " 'contains(wade...hehe...)': False,\n",
       " \"contains(goin')\": False,\n",
       " 'contains(leak)': False,\n",
       " 'contains(king!)': False,\n",
       " 'contains(send)': False,\n",
       " 'contains(wishes)': False,\n",
       " 'contains(@special72)': False,\n",
       " 'contains(basically)': False,\n",
       " 'contains(died.)': False,\n",
       " 'contains(breakfast)': False,\n",
       " 'contains(reduced)': False,\n",
       " 'contains(option)': False,\n",
       " 'contains(apparently)': False,\n",
       " 'contains(puppets)': False,\n",
       " 'contains(control!)': False,\n",
       " 'contains(night,)': False,\n",
       " 'contains(theatre)': False,\n",
       " 'contains(s.o.s.!)': False,\n",
       " ...}"
      ]
     },
     "execution_count": 505,
     "metadata": {},
     "output_type": "execute_result"
    }
   ],
   "source": [
    "word_features = nltk.FreqDist(wordlist).keys()\n",
    "\n",
    "def extract_features(document):\n",
    "    document_words = set(document)\n",
    "    features = {}\n",
    "    for word in word_features:\n",
    "        features['contains(%s)' % word] = (word in document_words)\n",
    "    return features\n",
    "\n",
    "print(positive_testing[1])\n",
    "extract_features(positive_testing[1])"
   ]
  },
  {
   "cell_type": "code",
   "execution_count": 506,
   "metadata": {
    "collapsed": true
   },
   "outputs": [],
   "source": [
    "training_set = nltk.classify.apply_features(extract_features, tweets)"
   ]
  },
  {
   "cell_type": "markdown",
   "metadata": {
    "slideshow": {
     "slide_type": "notes"
    }
   },
   "source": [
    "We can now create our NB classifier, using the training set we built"
   ]
  },
  {
   "cell_type": "code",
   "execution_count": 507,
   "metadata": {
    "collapsed": false,
    "slideshow": {
     "slide_type": "subslide"
    }
   },
   "outputs": [],
   "source": [
    "classifier = nltk.NaiveBayesClassifier.train(training_set)"
   ]
  },
  {
   "cell_type": "code",
   "execution_count": 515,
   "metadata": {
    "collapsed": false
   },
   "outputs": [
    {
     "name": "stdout",
     "output_type": "stream",
     "text": [
      "Most Informative Features\n",
      "        contains(cancer) = True           negati : positi =     12.3 : 1.0\n",
      "          contains(love) = True           positi : negati =     10.3 : 1.0\n",
      "         contains(great) = True           positi : negati =      8.2 : 1.0\n",
      "         contains(sorry) = True           negati : positi =      7.7 : 1.0\n",
      "          contains(been) = True           negati : positi =      7.0 : 1.0\n",
      "          contains(best) = True           positi : negati =      7.0 : 1.0\n",
      "          contains(miss) = True           negati : positi =      6.6 : 1.0\n",
      "          contains(lost) = True           negati : positi =      6.6 : 1.0\n",
      "          contains(haha) = True           positi : negati =      6.3 : 1.0\n",
      "        contains(thanks) = True           positi : negati =      6.2 : 1.0\n"
     ]
    }
   ],
   "source": [
    "classifier.show_most_informative_features()"
   ]
  },
  {
   "cell_type": "markdown",
   "metadata": {
    "slideshow": {
     "slide_type": "slide"
    }
   },
   "source": [
    "Now let's classify some tweets using the testing data we put aside at the beginning"
   ]
  },
  {
   "cell_type": "code",
   "execution_count": 508,
   "metadata": {
    "collapsed": false,
    "scrolled": true,
    "slideshow": {
     "slide_type": "subslide"
    }
   },
   "outputs": [
    {
     "name": "stdout",
     "output_type": "stream",
     "text": [
      "http://twitpic.com/5oll7 - We are on board....The Mini stored with the other Minis.... England here we come! \n",
      "positive\n",
      "\n",
      "\n",
      "exhausted and I have a brutal headache \n",
      "negative\n"
     ]
    }
   ],
   "source": [
    "pos_tweet = positive_testing[0][0]\n",
    "print(pos_tweet)\n",
    "print(classifier.classify(extract_features(pos_tweet.split())))\n",
    "\n",
    "print('\\n')\n",
    "\n",
    "neg_tweet = negative_testing[0][0]\n",
    "print(neg_tweet)\n",
    "print(classifier.classify(extract_features(neg_tweet.split())))"
   ]
  },
  {
   "cell_type": "markdown",
   "metadata": {
    "slideshow": {
     "slide_type": "notes"
    }
   },
   "source": [
    "- it's fast!\n",
    "- easy to train \n",
    "- not sensitive to irrelevant features\n",
    "\n",
    "- NB is great if you have a large dataset, but struggles otherwise\n",
    "- if your data is all v different, will also struggle\n",
    "- hard to explain when it goes wrong\n",
    "- it thinks all features are independent"
   ]
  },
  {
   "cell_type": "markdown",
   "metadata": {
    "slideshow": {
     "slide_type": "subslide"
    }
   },
   "source": [
    "### A Little More"
   ]
  },
  {
   "cell_type": "markdown",
   "metadata": {},
   "source": [
    "Exploring sentiment that co-occurs with smileys using the NB classifier we've already built"
   ]
  },
  {
   "cell_type": "code",
   "execution_count": 509,
   "metadata": {
    "collapsed": false,
    "slideshow": {
     "slide_type": "subslide"
    }
   },
   "outputs": [],
   "source": [
    "tweets1 = pickle.load(open(\"tweets.p\", \"rb\"))\n",
    "tweets2 = pickle.load(open(\"tweets2.p\", \"rb\"))\n",
    "tweets3 = pickle.load(open(\"tweets3.p\", \"rb\"))\n",
    "\n",
    "tweets = tweets1 + tweets2 + tweets3\n"
   ]
  },
  {
   "cell_type": "code",
   "execution_count": 510,
   "metadata": {
    "collapsed": false,
    "slideshow": {
     "slide_type": "subslide"
    }
   },
   "outputs": [],
   "source": [
    "import re\n",
    "from collections import defaultdict\n",
    "\n",
    "negative_emoji = defaultdict(int)\n",
    "positive_emoji = defaultdict(int)\n",
    "\n",
    "for tweet in tweets:\n",
    "    try:\n",
    "        ranges = re.compile(u'([\\U00002600-\\U000027BF])|([\\U0001f300-\\U0001f64F])|([\\U0001f680-\\U0001f6FF])')\n",
    "    except re.error:\n",
    "        ranges = re.compile(u'([\\u2600-\\u27BF])|([\\uD83C][\\uDF00-\\uDFFF])|([\\uD83D][\\uDC00-\\uDE4F])|([\\uD83D][\\uDE80-\\uDEFF])')\n",
    "    \n",
    "    emoji = (ranges.findall(tweet))\n",
    "    \n",
    "    if emoji:\n",
    "        classified_tweet = classifier.classify(extract_features(tweet.split()))\n",
    "        for curr_emoji in emoji:\n",
    "            std, current, _  = curr_emoji  # update to also consider std\n",
    "            if classified_tweet == 'positive':\n",
    "                positive_emoji[current] += 1\n",
    "            elif classified_tweet == 'negative':\n",
    "                negative_emoji[current] += 1"
   ]
  },
  {
   "cell_type": "code",
   "execution_count": 511,
   "metadata": {
    "collapsed": false
   },
   "outputs": [
    {
     "name": "stdout",
     "output_type": "stream",
     "text": [
      "defaultdict(<class 'int'>, {'': 38, '💥': 1, '\\U0001f3fe': 5, '😈': 4, '🙏': 3, '🍀': 3, '💔': 3, '😠': 2, '🐭': 6, '🔥': 7, '😉': 2, '👎': 1, '🍴': 1, '🎈': 1, '😢': 2, '😅': 2, '😭': 39, '💪': 1, '😋': 1, '💆': 1, '💁': 1, '👭': 1, '😒': 4, '😊': 12, '🎶': 1, '\\U0001f3fd': 2, '😛': 1, '🙌': 2, '\\U0001f643': 1, '😏': 1, '😝': 1, '🍯': 2, '🎣': 1, '🙈': 1, '📷': 2, '👀': 3, '😂': 40, '👨': 1, '💖': 9, '😞': 3, '💋': 1, '🍷': 1, '🎥': 1, '😔': 1, '👅': 3, '🐸': 1, '😍': 20, '🎉': 2, '\\U0001f3fb': 4, '😁': 1, '😘': 5, '🍻': 1, '💃': 1, '👑': 1, '🎀': 1, '😴': 4, '🎩': 1, '💜': 2, '😄': 1, '🌞': 1, '😫': 1, '💇': 1, '🏃': 3, '👌': 4, '💦': 2, '😲': 1, '🙅': 4, '😀': 3, '🌟': 1, '🐶': 1, '\\U0001f644': 1, '😬': 1, '🐷': 1, '😎': 1, '💀': 3, '😷': 1, '💐': 2, '👍': 2, '💛': 2, '😩': 9, '💕': 2, '💗': 1, '\\U0001f3ff': 2, '💯': 2, '👮': 1, '\\U0001f3fc': 2, '🍰': 1, '😡': 1, '👿': 1, '🎵': 1, '🐰': 1, '😜': 4, '🌸': 1, '👠': 1})\n",
      "\n",
      "\n",
      "defaultdict(<class 'int'>, {'': 35, '🎉': 15, '🏈': 2, '\\U0001f3fb': 1, '😁': 1, '👏': 7, '💚': 1, '😘': 6, '🌻': 1, '😍': 12, '💙': 8, '😂': 16, '💃': 1, '📷': 1, '🔥': 2, '👑': 1, '😻': 4, '💥': 1, '💗': 1, '😉': 1, '😏': 9, '😧': 1, '🍴': 2, '💛': 5, '🍃': 4, '🍓': 1, '😭': 7, '😜': 1, '💜': 6, '🐬': 1, '🌞': 1, '😫': 4, '😑': 1, '\\U0001f595': 1, '💁': 2, '🏃': 1, '😈': 7, '😊': 10, '👌': 2, '👉': 1, '🔴': 1, '\\U0001f3fd': 1, '😱': 3, '🙌': 1, '🙅': 1, '😀': 2, '🌟': 6, '🙏': 1, '👀': 2, '🌹': 2, '😝': 2, '😎': 7, '💞': 1, '🍯': 1, '💀': 12, '📚': 1, '💐': 1, '💯': 4, '🐝': 1, '🎈': 3, '😩': 7, '💕': 2, '\\U0001f3fe': 2, '🔌': 1, '👍': 3, '😌': 5, '😐': 1, '🎤': 1, '\\U0001f3fc': 5, '🏄': 1, '🌷': 1, '💖': 9, '😅': 2, '🔹': 2, '🌸': 1, '😋': 3, '👻': 1, '😔': 2, '🔗': 1, '💪': 3, '😤': 1})\n"
     ]
    }
   ],
   "source": [
    "print(negative_emoji)\n",
    "print('\\n')\n",
    "print(positive_emoji)"
   ]
  },
  {
   "cell_type": "code",
   "execution_count": 512,
   "metadata": {
    "collapsed": false,
    "slideshow": {
     "slide_type": "skip"
    }
   },
   "outputs": [
    {
     "data": {
      "image/png": "[encoded data removed]",
      "image/svg+xml": [
       "<svg xmlns:xlink=\"http://www.w3.org/1999/xlink\" xmlns=\"http://www.w3.org/2000/svg\" id=\"chart-9bb86fd0-2af2-4d53-8c97-505f023abbb0\" class=\"pygal-chart\" viewBox=\"0 0 800 600\"><!--Generated with pygal 2.2.2 (lxml) ©Kozea 2012-2016 on 2016-05-26--><!--http://pygal.org--><!--http://github.com/Kozea/pygal--><defs><style type=\"text/css\">#chart-9bb86fd0-2af2-4d53-8c97-505f023abbb0{-webkit-user-select:none;-webkit-font-smoothing:antialiased;font-family:Consolas,\"Liberation Mono\",Menlo,Courier,monospace}#chart-9bb86fd0-2af2-4d53-8c97-505f023abbb0 .title{font-family:Consolas,\"Liberation Mono\",Menlo,Courier,monospace;font-size:16px}#chart-9bb86fd0-2af2-4d53-8c97-505f023abbb0 .legends .legend text{font-family:Consolas,\"Liberation Mono\",Menlo,Courier,monospace;font-size:14px}#chart-9bb86fd0-2af2-4d53-8c97-505f023abbb0 .axis text{font-family:Consolas,\"Liberation Mono\",Menlo,Courier,monospace;font-size:10px}#chart-9bb86fd0-2af2-4d53-8c97-505f023abbb0 .axis text.major{font-family:Consolas,\"Liberation Mono\",Menlo,Courier,monospace;font-size:10px}#chart-9bb86fd0-2af2-4d53-8c97-505f023abbb0 .text-overlay text.value{font-family:Consolas,\"Liberation Mono\",Menlo,Courier,monospace;font-size:16px}#chart-9bb86fd0-2af2-4d53-8c97-505f023abbb0 .text-overlay text.label{font-family:Consolas,\"Liberation Mono\",Menlo,Courier,monospace;font-size:10px}#chart-9bb86fd0-2af2-4d53-8c97-505f023abbb0 .tooltip{font-family:Consolas,\"Liberation Mono\",Menlo,Courier,monospace;font-size:14px}#chart-9bb86fd0-2af2-4d53-8c97-505f023abbb0 text.no_data{font-family:Consolas,\"Liberation Mono\",Menlo,Courier,monospace;font-size:64px}\n",
       "#chart-9bb86fd0-2af2-4d53-8c97-505f023abbb0{background-color:rgba(249,249,249,1)}#chart-9bb86fd0-2af2-4d53-8c97-505f023abbb0 path,#chart-9bb86fd0-2af2-4d53-8c97-505f023abbb0 line,#chart-9bb86fd0-2af2-4d53-8c97-505f023abbb0 rect,#chart-9bb86fd0-2af2-4d53-8c97-505f023abbb0 circle{-webkit-transition:150ms;-moz-transition:150ms;transition:150ms}#chart-9bb86fd0-2af2-4d53-8c97-505f023abbb0 .graph &gt; .background{fill:rgba(249,249,249,1)}#chart-9bb86fd0-2af2-4d53-8c97-505f023abbb0 .plot &gt; .background{fill:rgba(255,255,255,1)}#chart-9bb86fd0-2af2-4d53-8c97-505f023abbb0 .graph{fill:rgba(0,0,0,.87)}#chart-9bb86fd0-2af2-4d53-8c97-505f023abbb0 text.no_data{fill:rgba(0,0,0,1)}#chart-9bb86fd0-2af2-4d53-8c97-505f023abbb0 .title{fill:rgba(0,0,0,1)}#chart-9bb86fd0-2af2-4d53-8c97-505f023abbb0 .legends .legend text{fill:rgba(0,0,0,.87)}#chart-9bb86fd0-2af2-4d53-8c97-505f023abbb0 .legends .legend:hover text{fill:rgba(0,0,0,1)}#chart-9bb86fd0-2af2-4d53-8c97-505f023abbb0 .axis .line{stroke:rgba(0,0,0,1)}#chart-9bb86fd0-2af2-4d53-8c97-505f023abbb0 .axis .guide.line{stroke:rgba(0,0,0,.54)}#chart-9bb86fd0-2af2-4d53-8c97-505f023abbb0 .axis .major.line{stroke:rgba(0,0,0,.87)}#chart-9bb86fd0-2af2-4d53-8c97-505f023abbb0 .axis text.major{fill:rgba(0,0,0,1)}#chart-9bb86fd0-2af2-4d53-8c97-505f023abbb0 .axis.y .guides:hover .guide.line,#chart-9bb86fd0-2af2-4d53-8c97-505f023abbb0 .line-graph .axis.x .guides:hover .guide.line,#chart-9bb86fd0-2af2-4d53-8c97-505f023abbb0 .stackedline-graph .axis.x .guides:hover .guide.line,#chart-9bb86fd0-2af2-4d53-8c97-505f023abbb0 .xy-graph .axis.x .guides:hover .guide.line{stroke:rgba(0,0,0,1)}#chart-9bb86fd0-2af2-4d53-8c97-505f023abbb0 .axis .guides:hover text{fill:rgba(0,0,0,1)}#chart-9bb86fd0-2af2-4d53-8c97-505f023abbb0 .reactive{fill-opacity:.7}#chart-9bb86fd0-2af2-4d53-8c97-505f023abbb0 .ci{stroke:rgba(0,0,0,.87)}#chart-9bb86fd0-2af2-4d53-8c97-505f023abbb0 .reactive.active,#chart-9bb86fd0-2af2-4d53-8c97-505f023abbb0 .active .reactive{fill-opacity:.8;stroke-width:4}#chart-9bb86fd0-2af2-4d53-8c97-505f023abbb0 .ci .reactive.active{stroke-width:1.5}#chart-9bb86fd0-2af2-4d53-8c97-505f023abbb0 .series text{fill:rgba(0,0,0,1)}#chart-9bb86fd0-2af2-4d53-8c97-505f023abbb0 .tooltip rect{fill:rgba(255,255,255,1);stroke:rgba(0,0,0,1);-webkit-transition:opacity 150ms;-moz-transition:opacity 150ms;transition:opacity 150ms}#chart-9bb86fd0-2af2-4d53-8c97-505f023abbb0 .tooltip .label{fill:rgba(0,0,0,.87)}#chart-9bb86fd0-2af2-4d53-8c97-505f023abbb0 .tooltip .label{fill:rgba(0,0,0,.87)}#chart-9bb86fd0-2af2-4d53-8c97-505f023abbb0 .tooltip .legend{font-size:.8em;fill:rgba(0,0,0,.54)}#chart-9bb86fd0-2af2-4d53-8c97-505f023abbb0 .tooltip .x_label{font-size:.6em;fill:rgba(0,0,0,1)}#chart-9bb86fd0-2af2-4d53-8c97-505f023abbb0 .tooltip .xlink{font-size:.5em;text-decoration:underline}#chart-9bb86fd0-2af2-4d53-8c97-505f023abbb0 .tooltip .value{font-size:1.5em}#chart-9bb86fd0-2af2-4d53-8c97-505f023abbb0 .bound{font-size:.5em}#chart-9bb86fd0-2af2-4d53-8c97-505f023abbb0 .max-value{font-size:.75em;fill:rgba(0,0,0,.54)}#chart-9bb86fd0-2af2-4d53-8c97-505f023abbb0 .map-element{fill:rgba(255,255,255,1);stroke:rgba(0,0,0,.54) !important}#chart-9bb86fd0-2af2-4d53-8c97-505f023abbb0 .map-element .reactive{fill-opacity:inherit}#chart-9bb86fd0-2af2-4d53-8c97-505f023abbb0 .color-0,#chart-9bb86fd0-2af2-4d53-8c97-505f023abbb0 .color-0 a:visited{stroke:#F44336;fill:#F44336}#chart-9bb86fd0-2af2-4d53-8c97-505f023abbb0 .color-1,#chart-9bb86fd0-2af2-4d53-8c97-505f023abbb0 .color-1 a:visited{stroke:#3F51B5;fill:#3F51B5}#chart-9bb86fd0-2af2-4d53-8c97-505f023abbb0 .text-overlay .color-0 text{fill:black}#chart-9bb86fd0-2af2-4d53-8c97-505f023abbb0 .text-overlay .color-1 text{fill:black}\n",
       "#chart-9bb86fd0-2af2-4d53-8c97-505f023abbb0 text.no_data{text-anchor:middle}#chart-9bb86fd0-2af2-4d53-8c97-505f023abbb0 .guide.line{fill:none}#chart-9bb86fd0-2af2-4d53-8c97-505f023abbb0 .centered{text-anchor:middle}#chart-9bb86fd0-2af2-4d53-8c97-505f023abbb0 .title{text-anchor:middle}#chart-9bb86fd0-2af2-4d53-8c97-505f023abbb0 .legends .legend text{fill-opacity:1}#chart-9bb86fd0-2af2-4d53-8c97-505f023abbb0 .axis.x text{text-anchor:middle}#chart-9bb86fd0-2af2-4d53-8c97-505f023abbb0 .axis.x:not(.web) text[transform]{text-anchor:start}#chart-9bb86fd0-2af2-4d53-8c97-505f023abbb0 .axis.x:not(.web) text[transform].backwards{text-anchor:end}#chart-9bb86fd0-2af2-4d53-8c97-505f023abbb0 .axis.y text{text-anchor:end}#chart-9bb86fd0-2af2-4d53-8c97-505f023abbb0 .axis.y text[transform].backwards{text-anchor:start}#chart-9bb86fd0-2af2-4d53-8c97-505f023abbb0 .axis.y2 text{text-anchor:start}#chart-9bb86fd0-2af2-4d53-8c97-505f023abbb0 .axis.y2 text[transform].backwards{text-anchor:end}#chart-9bb86fd0-2af2-4d53-8c97-505f023abbb0 .axis .guide.line{stroke-dasharray:4,4}#chart-9bb86fd0-2af2-4d53-8c97-505f023abbb0 .axis .major.guide.line{stroke-dasharray:6,6}#chart-9bb86fd0-2af2-4d53-8c97-505f023abbb0 .horizontal .axis.y .guide.line,#chart-9bb86fd0-2af2-4d53-8c97-505f023abbb0 .horizontal .axis.y2 .guide.line,#chart-9bb86fd0-2af2-4d53-8c97-505f023abbb0 .vertical .axis.x .guide.line{opacity:0}#chart-9bb86fd0-2af2-4d53-8c97-505f023abbb0 .horizontal .axis.always_show .guide.line,#chart-9bb86fd0-2af2-4d53-8c97-505f023abbb0 .vertical .axis.always_show .guide.line{opacity:1 !important}#chart-9bb86fd0-2af2-4d53-8c97-505f023abbb0 .axis.y .guides:hover .guide.line,#chart-9bb86fd0-2af2-4d53-8c97-505f023abbb0 .axis.y2 .guides:hover .guide.line,#chart-9bb86fd0-2af2-4d53-8c97-505f023abbb0 .axis.x .guides:hover .guide.line{opacity:1}#chart-9bb86fd0-2af2-4d53-8c97-505f023abbb0 .axis .guides:hover text{opacity:1}#chart-9bb86fd0-2af2-4d53-8c97-505f023abbb0 .nofill{fill:none}#chart-9bb86fd0-2af2-4d53-8c97-505f023abbb0 .subtle-fill{fill-opacity:.2}#chart-9bb86fd0-2af2-4d53-8c97-505f023abbb0 .dot{stroke-width:1px;fill-opacity:1}#chart-9bb86fd0-2af2-4d53-8c97-505f023abbb0 .dot.active{stroke-width:5px}#chart-9bb86fd0-2af2-4d53-8c97-505f023abbb0 .dot.negative{fill:transparent}#chart-9bb86fd0-2af2-4d53-8c97-505f023abbb0 text,#chart-9bb86fd0-2af2-4d53-8c97-505f023abbb0 tspan{stroke:none !important}#chart-9bb86fd0-2af2-4d53-8c97-505f023abbb0 .series text.active{opacity:1}#chart-9bb86fd0-2af2-4d53-8c97-505f023abbb0 .tooltip rect{fill-opacity:.95;stroke-width:.5}#chart-9bb86fd0-2af2-4d53-8c97-505f023abbb0 .tooltip text{fill-opacity:1}#chart-9bb86fd0-2af2-4d53-8c97-505f023abbb0 .showable{visibility:hidden}#chart-9bb86fd0-2af2-4d53-8c97-505f023abbb0 .showable.shown{visibility:visible}#chart-9bb86fd0-2af2-4d53-8c97-505f023abbb0 .gauge-background{fill:rgba(229,229,229,1);stroke:none}#chart-9bb86fd0-2af2-4d53-8c97-505f023abbb0 .bg-lines{stroke:rgba(249,249,249,1);stroke-width:2px}</style><script type=\"text/javascript\">window.pygal = window.pygal || {};window.pygal.config = window.pygal.config || {};window.pygal.config['9bb86fd0-2af2-4d53-8c97-505f023abbb0'] = {\"classes\": [\"pygal-chart\"], \"x_labels_major_every\": null, \"print_values\": false, \"y_labels_major_count\": null, \"force_uri_protocol\": \"https\", \"logarithmic\": false, \"stack_from_top\": false, \"tooltip_border_radius\": 0, \"xrange\": null, \"box_mode\": \"extremes\", \"margin_bottom\": null, \"interpolate\": null, \"disable_xml_declaration\": true, \"legend_at_bottom\": false, \"show_y_guides\": true, \"formatter\": null, \"style\": {\"value_colors\": [], \"foreground_strong\": \"rgba(0, 0, 0, 1)\", \"ci_colors\": [], \"guide_stroke_dasharray\": \"4,4\", \"major_guide_stroke_dasharray\": \"6,6\", \"opacity_hover\": \".8\", \"value_label_font_family\": \"Consolas, \\\"Liberation Mono\\\", Menlo, Courier, monospace\", \"label_font_family\": \"Consolas, \\\"Liberation Mono\\\", Menlo, Courier, monospace\", \"value_label_font_size\": 10, \"transition\": \"150ms\", \"no_data_font_size\": 64, \"colors\": [\"#F44336\", \"#3F51B5\", \"#009688\", \"#FFC107\", \"#FF5722\", \"#9C27B0\", \"#03A9F4\", \"#8BC34A\", \"#FF9800\", \"#E91E63\", \"#2196F3\", \"#4CAF50\", \"#FFEB3B\", \"#673AB7\", \"#00BCD4\", \"#CDDC39\", \"#9E9E9E\", \"#607D8B\"], \"major_label_font_family\": \"Consolas, \\\"Liberation Mono\\\", Menlo, Courier, monospace\", \"major_label_font_size\": 10, \"foreground\": \"rgba(0, 0, 0, .87)\", \"no_data_font_family\": \"Consolas, \\\"Liberation Mono\\\", Menlo, Courier, monospace\", \"label_font_size\": 10, \"foreground_subtle\": \"rgba(0, 0, 0, .54)\", \"tooltip_font_size\": 14, \"font_family\": \"Consolas, \\\"Liberation Mono\\\", Menlo, Courier, monospace\", \"opacity\": \".7\", \"title_font_family\": \"Consolas, \\\"Liberation Mono\\\", Menlo, Courier, monospace\", \"value_background\": \"rgba(229, 229, 229, 1)\", \"value_font_size\": 16, \"value_font_family\": \"Consolas, \\\"Liberation Mono\\\", Menlo, Courier, monospace\", \"legend_font_size\": 14, \"legend_font_family\": \"Consolas, \\\"Liberation Mono\\\", Menlo, Courier, monospace\", \"plot_background\": \"rgba(255, 255, 255, 1)\", \"tooltip_font_family\": \"Consolas, \\\"Liberation Mono\\\", Menlo, Courier, monospace\", \"title_font_size\": 16, \"background\": \"rgba(249, 249, 249, 1)\"}, \"js\": [\"//kozea.github.io/pygal.js/2.0.x/pygal-tooltips.min.js\"], \"show_x_labels\": true, \"fill\": false, \"inverse_y_axis\": false, \"range\": null, \"width\": 800, \"show_y_labels\": true, \"spacing\": 10, \"dynamic_print_values\": false, \"y_labels\": null, \"secondary_range\": null, \"show_only_major_dots\": false, \"y_title\": null, \"interpolation_parameters\": {}, \"margin_left\": null, \"strict\": false, \"height\": 600, \"y_labels_major_every\": null, \"stroke_style\": null, \"x_labels_major_count\": null, \"print_values_position\": \"center\", \"css\": [\"file://style.css\", \"file://graph.css\"], \"include_x_axis\": false, \"zero\": 0, \"missing_value_fill_truncation\": \"x\", \"show_x_guides\": false, \"stroke\": true, \"no_prefix\": false, \"allow_interruptions\": false, \"order_min\": null, \"tooltip_fancy_mode\": true, \"pretty_print\": false, \"title\": null, \"x_title\": null, \"x_labels\": [\"\\ud83d\\ude08\", \"\\ud83d\\ude2d\", \"\\ud83d\\ude0a\", \"\\ud83d\\ude0f\", \"\\ud83d\\ude02\", \"\\ud83d\\udc96\", \"\\ud83d\\ude0d\", \"\\ud83c\\udf89\", \"\\ud83d\\ude18\", \"\\ud83d\\udc9c\", \"\\ud83c\\udf1f\", \"\\ud83d\\ude0e\", \"\\ud83d\\udc80\", \"\\ud83d\\ude29\"], \"x_label_rotation\": 0, \"show_minor_y_labels\": true, \"min_scale\": 4, \"show_legend\": true, \"print_labels\": false, \"margin\": 20, \"truncate_legend\": null, \"legend_at_bottom_columns\": null, \"show_dots\": true, \"truncate_label\": null, \"defs\": [], \"legend_box_size\": 12, \"margin_top\": null, \"legends\": [\"Negative\", \"Positive\"], \"half_pie\": false, \"interpolation_precision\": 250, \"margin_right\": null, \"print_zeroes\": true, \"max_scale\": 16, \"rounded_bars\": null, \"dots_size\": 2.5, \"y_labels_major\": null, \"show_minor_x_labels\": true, \"explicit_size\": false, \"x_labels_major\": null, \"no_data_text\": \"No data\", \"inner_radius\": 0, \"y_label_rotation\": 0}</script><script type=\"text/javascript\" xlink:href=\"https://kozea.github.io/pygal.js/2.0.x/pygal-tooltips.min.js\"/></defs><title>Pygal</title><g class=\"graph stackedbar-graph vertical\"><rect class=\"background\" height=\"600\" width=\"800\" x=\"0\" y=\"0\"/><g class=\"plot\" transform=\"translate(131, 20)\"><rect class=\"background\" height=\"540\" width=\"648.8\" x=\"0\" y=\"0\"/><g class=\"axis y\"><g class=\"guides\"><path class=\"axis major line\" d=\"M0.000000 529.615385 h648.800000\"/><text class=\"major\" x=\"-5\" y=\"533.1153846153846\">0</text><title>0</title></g><g class=\"guides\"><path class=\"guide line\" d=\"M0.000000 436.895604 h648.800000\"/><text class=\"\" x=\"-5\" y=\"440.3956043956044\">10</text><title>10</title></g><g class=\"guides\"><path class=\"guide line\" d=\"M0.000000 344.175824 h648.800000\"/><text class=\"\" x=\"-5\" y=\"347.6758241758241\">20</text><title>20</title></g><g class=\"guides\"><path class=\"guide line\" d=\"M0.000000 251.456044 h648.800000\"/><text class=\"\" x=\"-5\" y=\"254.95604395604397\">30</text><title>30</title></g><g class=\"guides\"><path class=\"guide line\" d=\"M0.000000 158.736264 h648.800000\"/><text class=\"\" x=\"-5\" y=\"162.2362637362637\">40</text><title>40</title></g><g class=\"guides\"><path class=\"major guide line\" d=\"M0.000000 66.016484 h648.800000\"/><text class=\"major\" x=\"-5\" y=\"69.5164835164835\">50</text><title>50</title></g></g><g class=\"axis x\"><path class=\"line\" d=\"M0.000000 0.000000 v540.000000\"/><g class=\"guides\"><path class=\"guide line\" d=\"M34.757143 0.000000 v540.000000\"/><text class=\"\" x=\"34.75714285714285\" y=\"555.0\">😈</text></g><g class=\"guides\"><path class=\"guide line\" d=\"M79.317582 0.000000 v540.000000\"/><text class=\"\" x=\"79.3175824175824\" y=\"555.0\">😭</text></g><g class=\"guides\"><path class=\"guide line\" d=\"M123.878022 0.000000 v540.000000\"/><text class=\"\" x=\"123.87802197802195\" y=\"555.0\">😊</text></g><g class=\"guides\"><path class=\"guide line\" d=\"M168.438462 0.000000 v540.000000\"/><text class=\"\" x=\"168.43846153846152\" y=\"555.0\">😏</text></g><g class=\"guides\"><path class=\"guide line\" d=\"M212.998901 0.000000 v540.000000\"/><text class=\"\" x=\"212.9989010989011\" y=\"555.0\">😂</text></g><g class=\"guides\"><path class=\"guide line\" d=\"M257.559341 0.000000 v540.000000\"/><text class=\"\" x=\"257.55934065934065\" y=\"555.0\">💖</text></g><g class=\"guides\"><path class=\"guide line\" d=\"M302.119780 0.000000 v540.000000\"/><text class=\"\" x=\"302.11978021978024\" y=\"555.0\">😍</text></g><g class=\"guides\"><path class=\"guide line\" d=\"M346.680220 0.000000 v540.000000\"/><text class=\"\" x=\"346.6802197802198\" y=\"555.0\">🎉</text></g><g class=\"guides\"><path class=\"guide line\" d=\"M391.240659 0.000000 v540.000000\"/><text class=\"\" x=\"391.24065934065925\" y=\"555.0\">😘</text></g><g class=\"guides\"><path class=\"guide line\" d=\"M435.801099 0.000000 v540.000000\"/><text class=\"\" x=\"435.8010989010989\" y=\"555.0\">💜</text></g><g class=\"guides\"><path class=\"guide line\" d=\"M480.361538 0.000000 v540.000000\"/><text class=\"\" x=\"480.36153846153843\" y=\"555.0\">🌟</text></g><g class=\"guides\"><path class=\"guide line\" d=\"M524.921978 0.000000 v540.000000\"/><text class=\"\" x=\"524.9219780219779\" y=\"555.0\">😎</text></g><g class=\"guides\"><path class=\"guide line\" d=\"M569.482418 0.000000 v540.000000\"/><text class=\"\" x=\"569.4824175824176\" y=\"555.0\">💀</text></g><g class=\"guides\"><path class=\"guide line\" d=\"M614.042857 0.000000 v540.000000\"/><text class=\"\" x=\"614.0428571428571\" y=\"555.0\">😩</text></g></g><g class=\"series serie-0 color-0\"><g class=\"bars\"><g class=\"bar\"><rect class=\"rect reactive tooltip-trigger\" height=\"37.087912087912116\" rx=\"0\" ry=\"0\" width=\"39.21318681318681\" x=\"15.150549450549448\" y=\"492.5274725274725\"/><desc class=\"value\">4</desc><desc class=\"x centered\">34.75714285714285</desc><desc class=\"y centered\">511.07142857142856</desc><desc class=\"x_label\">😈</desc></g><g class=\"bar\"><rect class=\"rect reactive tooltip-trigger\" height=\"361.6071428571429\" rx=\"0\" ry=\"0\" width=\"39.21318681318681\" x=\"59.71098901098901\" y=\"168.00824175824175\"/><desc class=\"value\">39</desc><desc class=\"x centered\">79.31758241758241</desc><desc class=\"y centered\">348.8118131868132</desc><desc class=\"x_label\">😭</desc></g><g class=\"bar\"><rect class=\"rect reactive tooltip-trigger\" height=\"111.26373626373629\" rx=\"0\" ry=\"0\" width=\"39.21318681318681\" x=\"104.27142857142856\" y=\"418.35164835164835\"/><desc class=\"value\">12</desc><desc class=\"x centered\">123.87802197802196</desc><desc class=\"y centered\">473.9835164835165</desc><desc class=\"x_label\">😊</desc></g><g class=\"bar\"><rect class=\"rect reactive tooltip-trigger\" height=\"9.271978021978043\" rx=\"0\" ry=\"0\" width=\"39.21318681318681\" x=\"148.8318681318681\" y=\"520.3434065934066\"/><desc class=\"value\">1</desc><desc class=\"x centered\">168.43846153846152</desc><desc class=\"y centered\">524.9793956043957</desc><desc class=\"x_label\">😏</desc></g><g class=\"bar\"><rect class=\"rect reactive tooltip-trigger\" height=\"370.87912087912093\" rx=\"0\" ry=\"0\" width=\"39.21318681318681\" x=\"193.3923076923077\" y=\"158.7362637362637\"/><desc class=\"value\">40</desc><desc class=\"x centered\">212.99890109890111</desc><desc class=\"y centered\">344.1758241758242</desc><desc class=\"x_label\">😂</desc></g><g class=\"bar\"><rect class=\"rect reactive tooltip-trigger\" height=\"83.44780219780222\" rx=\"0\" ry=\"0\" width=\"39.21318681318681\" x=\"237.95274725274726\" y=\"446.1675824175824\"/><desc class=\"value\">9</desc><desc class=\"x centered\">257.55934065934065</desc><desc class=\"y centered\">487.8914835164835</desc><desc class=\"x_label\">💖</desc></g><g class=\"bar\"><rect class=\"rect reactive tooltip-trigger\" height=\"185.43956043956052\" rx=\"0\" ry=\"0\" width=\"39.21318681318681\" x=\"282.51318681318673\" y=\"344.1758241758241\"/><desc class=\"value\">20</desc><desc class=\"x centered\">302.1197802197801</desc><desc class=\"y centered\">436.8956043956044</desc><desc class=\"x_label\">😍</desc></g><g class=\"bar\"><rect class=\"rect reactive tooltip-trigger\" height=\"18.543956043956086\" rx=\"0\" ry=\"0\" width=\"39.21318681318681\" x=\"327.0736263736263\" y=\"511.07142857142856\"/><desc class=\"value\">2</desc><desc class=\"x centered\">346.6802197802197</desc><desc class=\"y centered\">520.3434065934066</desc><desc class=\"x_label\">🎉</desc></g><g class=\"bar\"><rect class=\"rect reactive tooltip-trigger\" height=\"46.35989010989016\" rx=\"0\" ry=\"0\" width=\"39.21318681318681\" x=\"371.63406593406586\" y=\"483.2554945054945\"/><desc class=\"value\">5</desc><desc class=\"x centered\">391.24065934065925</desc><desc class=\"y centered\">506.4354395604396</desc><desc class=\"x_label\">😘</desc></g><g class=\"bar\"><rect class=\"rect reactive tooltip-trigger\" height=\"18.543956043956086\" rx=\"0\" ry=\"0\" width=\"39.21318681318681\" x=\"416.19450549450545\" y=\"511.07142857142856\"/><desc class=\"value\">2</desc><desc class=\"x centered\">435.80109890109884</desc><desc class=\"y centered\">520.3434065934066</desc><desc class=\"x_label\">💜</desc></g><g class=\"bar\"><rect class=\"rect reactive tooltip-trigger\" height=\"9.271978021978043\" rx=\"0\" ry=\"0\" width=\"39.21318681318681\" x=\"460.75494505494504\" y=\"520.3434065934066\"/><desc class=\"value\">1</desc><desc class=\"x centered\">480.36153846153843</desc><desc class=\"y centered\">524.9793956043957</desc><desc class=\"x_label\">🌟</desc></g><g class=\"bar\"><rect class=\"rect reactive tooltip-trigger\" height=\"9.271978021978043\" rx=\"0\" ry=\"0\" width=\"39.21318681318681\" x=\"505.3153846153845\" y=\"520.3434065934066\"/><desc class=\"value\">1</desc><desc class=\"x centered\">524.9219780219779</desc><desc class=\"y centered\">524.9793956043957</desc><desc class=\"x_label\">😎</desc></g><g class=\"bar\"><rect class=\"rect reactive tooltip-trigger\" height=\"27.81593406593413\" rx=\"0\" ry=\"0\" width=\"39.21318681318681\" x=\"549.875824175824\" y=\"501.7994505494505\"/><desc class=\"value\">3</desc><desc class=\"x centered\">569.4824175824175</desc><desc class=\"y centered\">515.7074175824175</desc><desc class=\"x_label\">💀</desc></g><g class=\"bar\"><rect class=\"rect reactive tooltip-trigger\" height=\"83.44780219780222\" rx=\"0\" ry=\"0\" width=\"39.21318681318681\" x=\"594.4362637362636\" y=\"446.1675824175824\"/><desc class=\"value\">9</desc><desc class=\"x centered\">614.0428571428571</desc><desc class=\"y centered\">487.8914835164835</desc><desc class=\"x_label\">😩</desc></g></g></g><g class=\"series serie-1 color-1\"><g class=\"bars\"><g class=\"bar\"><rect class=\"rect reactive tooltip-trigger\" height=\"64.90384615384613\" rx=\"0\" ry=\"0\" width=\"39.21318681318681\" x=\"15.150549450549448\" y=\"427.6236263736264\"/><desc class=\"value\">7</desc><desc class=\"x centered\">34.75714285714285</desc><desc class=\"y centered\">460.0755494505495</desc><desc class=\"x_label\">😈</desc></g><g class=\"bar\"><rect class=\"rect reactive tooltip-trigger\" height=\"64.90384615384619\" rx=\"0\" ry=\"0\" width=\"39.21318681318681\" x=\"59.71098901098901\" y=\"103.10439560439556\"/><desc class=\"value\">7</desc><desc class=\"x centered\">79.31758241758241</desc><desc class=\"y centered\">135.55631868131866</desc><desc class=\"x_label\">😭</desc></g><g class=\"bar\"><rect class=\"rect reactive tooltip-trigger\" height=\"92.71978021978026\" rx=\"0\" ry=\"0\" width=\"39.21318681318681\" x=\"104.27142857142856\" y=\"325.6318681318681\"/><desc class=\"value\">10</desc><desc class=\"x centered\">123.87802197802196</desc><desc class=\"y centered\">371.99175824175825</desc><desc class=\"x_label\">😊</desc></g><g class=\"bar\"><rect class=\"rect reactive tooltip-trigger\" height=\"83.44780219780222\" rx=\"0\" ry=\"0\" width=\"39.21318681318681\" x=\"148.8318681318681\" y=\"436.8956043956044\"/><desc class=\"value\">9</desc><desc class=\"x centered\">168.43846153846152</desc><desc class=\"y centered\">478.61950549450546</desc><desc class=\"x_label\">😏</desc></g><g class=\"bar\"><rect class=\"rect reactive tooltip-trigger\" height=\"148.35164835164835\" rx=\"0\" ry=\"0\" width=\"39.21318681318681\" x=\"193.3923076923077\" y=\"10.384615384615358\"/><desc class=\"value\">16</desc><desc class=\"x centered\">212.99890109890111</desc><desc class=\"y centered\">84.56043956043953</desc><desc class=\"x_label\">😂</desc></g><g class=\"bar\"><rect class=\"rect reactive tooltip-trigger\" height=\"83.44780219780222\" rx=\"0\" ry=\"0\" width=\"39.21318681318681\" x=\"237.95274725274726\" y=\"362.7197802197802\"/><desc class=\"value\">9</desc><desc class=\"x centered\">257.55934065934065</desc><desc class=\"y centered\">404.44368131868134</desc><desc class=\"x_label\">💖</desc></g><g class=\"bar\"><rect class=\"rect reactive tooltip-trigger\" height=\"111.26373626373623\" rx=\"0\" ry=\"0\" width=\"39.21318681318681\" x=\"282.51318681318673\" y=\"232.91208791208788\"/><desc class=\"value\">12</desc><desc class=\"x centered\">302.1197802197801</desc><desc class=\"y centered\">288.543956043956</desc><desc class=\"x_label\">😍</desc></g><g class=\"bar\"><rect class=\"rect reactive tooltip-trigger\" height=\"139.0796703296703\" rx=\"0\" ry=\"0\" width=\"39.21318681318681\" x=\"327.0736263736263\" y=\"371.99175824175825\"/><desc class=\"value\">15</desc><desc class=\"x centered\">346.6802197802197</desc><desc class=\"y centered\">441.5315934065934</desc><desc class=\"x_label\">🎉</desc></g><g class=\"bar\"><rect class=\"rect reactive tooltip-trigger\" height=\"55.63186813186809\" rx=\"0\" ry=\"0\" width=\"39.21318681318681\" x=\"371.63406593406586\" y=\"427.6236263736264\"/><desc class=\"value\">6</desc><desc class=\"x centered\">391.24065934065925</desc><desc class=\"y centered\">455.4395604395604</desc><desc class=\"x_label\">😘</desc></g><g class=\"bar\"><rect class=\"rect reactive tooltip-trigger\" height=\"55.631868131868146\" rx=\"0\" ry=\"0\" width=\"39.21318681318681\" x=\"416.19450549450545\" y=\"455.4395604395604\"/><desc class=\"value\">6</desc><desc class=\"x centered\">435.80109890109884</desc><desc class=\"y centered\">483.2554945054945</desc><desc class=\"x_label\">💜</desc></g><g class=\"bar\"><rect class=\"rect reactive tooltip-trigger\" height=\"55.631868131868146\" rx=\"0\" ry=\"0\" width=\"39.21318681318681\" x=\"460.75494505494504\" y=\"464.71153846153845\"/><desc class=\"value\">6</desc><desc class=\"x centered\">480.36153846153843</desc><desc class=\"y centered\">492.5274725274725</desc><desc class=\"x_label\">🌟</desc></g><g class=\"bar\"><rect class=\"rect reactive tooltip-trigger\" height=\"64.90384615384619\" rx=\"0\" ry=\"0\" width=\"39.21318681318681\" x=\"505.3153846153845\" y=\"455.4395604395604\"/><desc class=\"value\">7</desc><desc class=\"x centered\">524.9219780219779</desc><desc class=\"y centered\">487.8914835164835</desc><desc class=\"x_label\">😎</desc></g><g class=\"bar\"><rect class=\"rect reactive tooltip-trigger\" height=\"111.26373626373629\" rx=\"0\" ry=\"0\" width=\"39.21318681318681\" x=\"549.875824175824\" y=\"390.5357142857142\"/><desc class=\"value\">12</desc><desc class=\"x centered\">569.4824175824175</desc><desc class=\"y centered\">446.16758241758237</desc><desc class=\"x_label\">💀</desc></g><g class=\"bar\"><rect class=\"rect reactive tooltip-trigger\" height=\"64.90384615384619\" rx=\"0\" ry=\"0\" width=\"39.21318681318681\" x=\"594.4362637362636\" y=\"381.26373626373623\"/><desc class=\"value\">7</desc><desc class=\"x centered\">614.0428571428571</desc><desc class=\"y centered\">413.71565934065933</desc><desc class=\"x_label\">😩</desc></g></g></g></g><g class=\"titles\"/><g class=\"plot overlay\" transform=\"translate(131, 20)\"><g class=\"series serie-0 color-0\"/><g class=\"series serie-1 color-1\"/></g><g class=\"plot text-overlay\" transform=\"translate(131, 20)\"><g class=\"series serie-0 color-0\"/><g class=\"series serie-1 color-1\"/></g><g class=\"plot tooltip-overlay\" transform=\"translate(131, 20)\"><g class=\"tooltip\" style=\"opacity: 0\" transform=\"translate(0 0)\"><rect class=\"tooltip-box\" height=\"0\" rx=\"0\" ry=\"0\" width=\"0\"/><g class=\"text\"/></g></g><g class=\"legends\" transform=\"translate(10, 30)\"><g class=\"legend reactive activate-serie\" id=\"activate-serie-0\"><rect class=\"color-0 reactive\" height=\"12\" width=\"12\" x=\"0.0\" y=\"1.0\"/><text x=\"17.0\" y=\"11.2\">Negative</text></g><g class=\"legend reactive activate-serie\" id=\"activate-serie-1\"><rect class=\"color-1 reactive\" height=\"12\" width=\"12\" x=\"0.0\" y=\"22.0\"/><text x=\"17.0\" y=\"32.2\">Positive</text></g></g><g class=\"legends\" transform=\"translate(790, 30)\"/></g></svg>"
      ],
      "text/plain": [
       "<pygal.graph.stackedbar.StackedBar at 0x112bbaf60>"
      ]
     },
     "execution_count": 512,
     "metadata": {},
     "output_type": "execute_result"
    }
   ],
   "source": [
    "emoji_chart = pygal.StackedBar()\n",
    "\n",
    "x_axis = []\n",
    "neg_emoji_values = []\n",
    "pos_emoji_values = []\n",
    "for emoji, neg_count in negative_emoji.items():\n",
    "    for emoji_2, pos_count in positive_emoji.items():\n",
    "        if emoji == emoji_2:\n",
    "            if neg_count and pos_count <= 5:\n",
    "                continue\n",
    "            if emoji is '':\n",
    "                continue\n",
    "            x_axis.append(emoji)\n",
    "            neg_emoji_values.append(neg_count)\n",
    "            pos_emoji_values.append(pos_count)\n",
    "\n",
    "emoji_chart.x_labels = x_axis\n",
    "\n",
    "emoji_chart.add('Negative', neg_emoji_values)\n",
    "emoji_chart.add('Positive', pos_emoji_values)"
   ]
  },
  {
   "cell_type": "code",
   "execution_count": 513,
   "metadata": {
    "collapsed": false
   },
   "outputs": [
    {
     "data": {
      "image/png": "[encoded data removed]",
      "image/svg+xml": [
       "<svg xmlns:xlink=\"http://www.w3.org/1999/xlink\" xmlns=\"http://www.w3.org/2000/svg\" id=\"chart-9bb86fd0-2af2-4d53-8c97-505f023abbb0\" class=\"pygal-chart\" viewBox=\"0 0 800 600\"><!--Generated with pygal 2.2.2 (lxml) ©Kozea 2012-2016 on 2016-05-26--><!--http://pygal.org--><!--http://github.com/Kozea/pygal--><defs><style type=\"text/css\">#chart-9bb86fd0-2af2-4d53-8c97-505f023abbb0{-webkit-user-select:none;-webkit-font-smoothing:antialiased;font-family:Consolas,\"Liberation Mono\",Menlo,Courier,monospace}#chart-9bb86fd0-2af2-4d53-8c97-505f023abbb0 .title{font-family:Consolas,\"Liberation Mono\",Menlo,Courier,monospace;font-size:16px}#chart-9bb86fd0-2af2-4d53-8c97-505f023abbb0 .legends .legend text{font-family:Consolas,\"Liberation Mono\",Menlo,Courier,monospace;font-size:14px}#chart-9bb86fd0-2af2-4d53-8c97-505f023abbb0 .axis text{font-family:Consolas,\"Liberation Mono\",Menlo,Courier,monospace;font-size:10px}#chart-9bb86fd0-2af2-4d53-8c97-505f023abbb0 .axis text.major{font-family:Consolas,\"Liberation Mono\",Menlo,Courier,monospace;font-size:10px}#chart-9bb86fd0-2af2-4d53-8c97-505f023abbb0 .text-overlay text.value{font-family:Consolas,\"Liberation Mono\",Menlo,Courier,monospace;font-size:16px}#chart-9bb86fd0-2af2-4d53-8c97-505f023abbb0 .text-overlay text.label{font-family:Consolas,\"Liberation Mono\",Menlo,Courier,monospace;font-size:10px}#chart-9bb86fd0-2af2-4d53-8c97-505f023abbb0 .tooltip{font-family:Consolas,\"Liberation Mono\",Menlo,Courier,monospace;font-size:14px}#chart-9bb86fd0-2af2-4d53-8c97-505f023abbb0 text.no_data{font-family:Consolas,\"Liberation Mono\",Menlo,Courier,monospace;font-size:64px}\n",
       "#chart-9bb86fd0-2af2-4d53-8c97-505f023abbb0{background-color:rgba(249,249,249,1)}#chart-9bb86fd0-2af2-4d53-8c97-505f023abbb0 path,#chart-9bb86fd0-2af2-4d53-8c97-505f023abbb0 line,#chart-9bb86fd0-2af2-4d53-8c97-505f023abbb0 rect,#chart-9bb86fd0-2af2-4d53-8c97-505f023abbb0 circle{-webkit-transition:150ms;-moz-transition:150ms;transition:150ms}#chart-9bb86fd0-2af2-4d53-8c97-505f023abbb0 .graph &gt; .background{fill:rgba(249,249,249,1)}#chart-9bb86fd0-2af2-4d53-8c97-505f023abbb0 .plot &gt; .background{fill:rgba(255,255,255,1)}#chart-9bb86fd0-2af2-4d53-8c97-505f023abbb0 .graph{fill:rgba(0,0,0,.87)}#chart-9bb86fd0-2af2-4d53-8c97-505f023abbb0 text.no_data{fill:rgba(0,0,0,1)}#chart-9bb86fd0-2af2-4d53-8c97-505f023abbb0 .title{fill:rgba(0,0,0,1)}#chart-9bb86fd0-2af2-4d53-8c97-505f023abbb0 .legends .legend text{fill:rgba(0,0,0,.87)}#chart-9bb86fd0-2af2-4d53-8c97-505f023abbb0 .legends .legend:hover text{fill:rgba(0,0,0,1)}#chart-9bb86fd0-2af2-4d53-8c97-505f023abbb0 .axis .line{stroke:rgba(0,0,0,1)}#chart-9bb86fd0-2af2-4d53-8c97-505f023abbb0 .axis .guide.line{stroke:rgba(0,0,0,.54)}#chart-9bb86fd0-2af2-4d53-8c97-505f023abbb0 .axis .major.line{stroke:rgba(0,0,0,.87)}#chart-9bb86fd0-2af2-4d53-8c97-505f023abbb0 .axis text.major{fill:rgba(0,0,0,1)}#chart-9bb86fd0-2af2-4d53-8c97-505f023abbb0 .axis.y .guides:hover .guide.line,#chart-9bb86fd0-2af2-4d53-8c97-505f023abbb0 .line-graph .axis.x .guides:hover .guide.line,#chart-9bb86fd0-2af2-4d53-8c97-505f023abbb0 .stackedline-graph .axis.x .guides:hover .guide.line,#chart-9bb86fd0-2af2-4d53-8c97-505f023abbb0 .xy-graph .axis.x .guides:hover .guide.line{stroke:rgba(0,0,0,1)}#chart-9bb86fd0-2af2-4d53-8c97-505f023abbb0 .axis .guides:hover text{fill:rgba(0,0,0,1)}#chart-9bb86fd0-2af2-4d53-8c97-505f023abbb0 .reactive{fill-opacity:.7}#chart-9bb86fd0-2af2-4d53-8c97-505f023abbb0 .ci{stroke:rgba(0,0,0,.87)}#chart-9bb86fd0-2af2-4d53-8c97-505f023abbb0 .reactive.active,#chart-9bb86fd0-2af2-4d53-8c97-505f023abbb0 .active .reactive{fill-opacity:.8;stroke-width:4}#chart-9bb86fd0-2af2-4d53-8c97-505f023abbb0 .ci .reactive.active{stroke-width:1.5}#chart-9bb86fd0-2af2-4d53-8c97-505f023abbb0 .series text{fill:rgba(0,0,0,1)}#chart-9bb86fd0-2af2-4d53-8c97-505f023abbb0 .tooltip rect{fill:rgba(255,255,255,1);stroke:rgba(0,0,0,1);-webkit-transition:opacity 150ms;-moz-transition:opacity 150ms;transition:opacity 150ms}#chart-9bb86fd0-2af2-4d53-8c97-505f023abbb0 .tooltip .label{fill:rgba(0,0,0,.87)}#chart-9bb86fd0-2af2-4d53-8c97-505f023abbb0 .tooltip .label{fill:rgba(0,0,0,.87)}#chart-9bb86fd0-2af2-4d53-8c97-505f023abbb0 .tooltip .legend{font-size:.8em;fill:rgba(0,0,0,.54)}#chart-9bb86fd0-2af2-4d53-8c97-505f023abbb0 .tooltip .x_label{font-size:.6em;fill:rgba(0,0,0,1)}#chart-9bb86fd0-2af2-4d53-8c97-505f023abbb0 .tooltip .xlink{font-size:.5em;text-decoration:underline}#chart-9bb86fd0-2af2-4d53-8c97-505f023abbb0 .tooltip .value{font-size:1.5em}#chart-9bb86fd0-2af2-4d53-8c97-505f023abbb0 .bound{font-size:.5em}#chart-9bb86fd0-2af2-4d53-8c97-505f023abbb0 .max-value{font-size:.75em;fill:rgba(0,0,0,.54)}#chart-9bb86fd0-2af2-4d53-8c97-505f023abbb0 .map-element{fill:rgba(255,255,255,1);stroke:rgba(0,0,0,.54) !important}#chart-9bb86fd0-2af2-4d53-8c97-505f023abbb0 .map-element .reactive{fill-opacity:inherit}#chart-9bb86fd0-2af2-4d53-8c97-505f023abbb0 .color-0,#chart-9bb86fd0-2af2-4d53-8c97-505f023abbb0 .color-0 a:visited{stroke:#F44336;fill:#F44336}#chart-9bb86fd0-2af2-4d53-8c97-505f023abbb0 .color-1,#chart-9bb86fd0-2af2-4d53-8c97-505f023abbb0 .color-1 a:visited{stroke:#3F51B5;fill:#3F51B5}#chart-9bb86fd0-2af2-4d53-8c97-505f023abbb0 .text-overlay .color-0 text{fill:black}#chart-9bb86fd0-2af2-4d53-8c97-505f023abbb0 .text-overlay .color-1 text{fill:black}\n",
       "#chart-9bb86fd0-2af2-4d53-8c97-505f023abbb0 text.no_data{text-anchor:middle}#chart-9bb86fd0-2af2-4d53-8c97-505f023abbb0 .guide.line{fill:none}#chart-9bb86fd0-2af2-4d53-8c97-505f023abbb0 .centered{text-anchor:middle}#chart-9bb86fd0-2af2-4d53-8c97-505f023abbb0 .title{text-anchor:middle}#chart-9bb86fd0-2af2-4d53-8c97-505f023abbb0 .legends .legend text{fill-opacity:1}#chart-9bb86fd0-2af2-4d53-8c97-505f023abbb0 .axis.x text{text-anchor:middle}#chart-9bb86fd0-2af2-4d53-8c97-505f023abbb0 .axis.x:not(.web) text[transform]{text-anchor:start}#chart-9bb86fd0-2af2-4d53-8c97-505f023abbb0 .axis.x:not(.web) text[transform].backwards{text-anchor:end}#chart-9bb86fd0-2af2-4d53-8c97-505f023abbb0 .axis.y text{text-anchor:end}#chart-9bb86fd0-2af2-4d53-8c97-505f023abbb0 .axis.y text[transform].backwards{text-anchor:start}#chart-9bb86fd0-2af2-4d53-8c97-505f023abbb0 .axis.y2 text{text-anchor:start}#chart-9bb86fd0-2af2-4d53-8c97-505f023abbb0 .axis.y2 text[transform].backwards{text-anchor:end}#chart-9bb86fd0-2af2-4d53-8c97-505f023abbb0 .axis .guide.line{stroke-dasharray:4,4}#chart-9bb86fd0-2af2-4d53-8c97-505f023abbb0 .axis .major.guide.line{stroke-dasharray:6,6}#chart-9bb86fd0-2af2-4d53-8c97-505f023abbb0 .horizontal .axis.y .guide.line,#chart-9bb86fd0-2af2-4d53-8c97-505f023abbb0 .horizontal .axis.y2 .guide.line,#chart-9bb86fd0-2af2-4d53-8c97-505f023abbb0 .vertical .axis.x .guide.line{opacity:0}#chart-9bb86fd0-2af2-4d53-8c97-505f023abbb0 .horizontal .axis.always_show .guide.line,#chart-9bb86fd0-2af2-4d53-8c97-505f023abbb0 .vertical .axis.always_show .guide.line{opacity:1 !important}#chart-9bb86fd0-2af2-4d53-8c97-505f023abbb0 .axis.y .guides:hover .guide.line,#chart-9bb86fd0-2af2-4d53-8c97-505f023abbb0 .axis.y2 .guides:hover .guide.line,#chart-9bb86fd0-2af2-4d53-8c97-505f023abbb0 .axis.x .guides:hover .guide.line{opacity:1}#chart-9bb86fd0-2af2-4d53-8c97-505f023abbb0 .axis .guides:hover text{opacity:1}#chart-9bb86fd0-2af2-4d53-8c97-505f023abbb0 .nofill{fill:none}#chart-9bb86fd0-2af2-4d53-8c97-505f023abbb0 .subtle-fill{fill-opacity:.2}#chart-9bb86fd0-2af2-4d53-8c97-505f023abbb0 .dot{stroke-width:1px;fill-opacity:1}#chart-9bb86fd0-2af2-4d53-8c97-505f023abbb0 .dot.active{stroke-width:5px}#chart-9bb86fd0-2af2-4d53-8c97-505f023abbb0 .dot.negative{fill:transparent}#chart-9bb86fd0-2af2-4d53-8c97-505f023abbb0 text,#chart-9bb86fd0-2af2-4d53-8c97-505f023abbb0 tspan{stroke:none !important}#chart-9bb86fd0-2af2-4d53-8c97-505f023abbb0 .series text.active{opacity:1}#chart-9bb86fd0-2af2-4d53-8c97-505f023abbb0 .tooltip rect{fill-opacity:.95;stroke-width:.5}#chart-9bb86fd0-2af2-4d53-8c97-505f023abbb0 .tooltip text{fill-opacity:1}#chart-9bb86fd0-2af2-4d53-8c97-505f023abbb0 .showable{visibility:hidden}#chart-9bb86fd0-2af2-4d53-8c97-505f023abbb0 .showable.shown{visibility:visible}#chart-9bb86fd0-2af2-4d53-8c97-505f023abbb0 .gauge-background{fill:rgba(229,229,229,1);stroke:none}#chart-9bb86fd0-2af2-4d53-8c97-505f023abbb0 .bg-lines{stroke:rgba(249,249,249,1);stroke-width:2px}</style><script type=\"text/javascript\">window.pygal = window.pygal || {};window.pygal.config = window.pygal.config || {};window.pygal.config['9bb86fd0-2af2-4d53-8c97-505f023abbb0'] = {\"classes\": [\"pygal-chart\"], \"x_labels_major_every\": null, \"print_values\": false, \"y_labels_major_count\": null, \"force_uri_protocol\": \"https\", \"logarithmic\": false, \"stack_from_top\": false, \"tooltip_border_radius\": 0, \"xrange\": null, \"box_mode\": \"extremes\", \"margin_bottom\": null, \"interpolate\": null, \"disable_xml_declaration\": true, \"legend_at_bottom\": false, \"show_y_guides\": true, \"formatter\": null, \"style\": {\"value_colors\": [], \"foreground_strong\": \"rgba(0, 0, 0, 1)\", \"ci_colors\": [], \"guide_stroke_dasharray\": \"4,4\", \"major_guide_stroke_dasharray\": \"6,6\", \"opacity_hover\": \".8\", \"value_label_font_family\": \"Consolas, \\\"Liberation Mono\\\", Menlo, Courier, monospace\", \"label_font_family\": \"Consolas, \\\"Liberation Mono\\\", Menlo, Courier, monospace\", \"value_label_font_size\": 10, \"transition\": \"150ms\", \"no_data_font_size\": 64, \"colors\": [\"#F44336\", \"#3F51B5\", \"#009688\", \"#FFC107\", \"#FF5722\", \"#9C27B0\", \"#03A9F4\", \"#8BC34A\", \"#FF9800\", \"#E91E63\", \"#2196F3\", \"#4CAF50\", \"#FFEB3B\", \"#673AB7\", \"#00BCD4\", \"#CDDC39\", \"#9E9E9E\", \"#607D8B\"], \"major_label_font_family\": \"Consolas, \\\"Liberation Mono\\\", Menlo, Courier, monospace\", \"major_label_font_size\": 10, \"foreground\": \"rgba(0, 0, 0, .87)\", \"no_data_font_family\": \"Consolas, \\\"Liberation Mono\\\", Menlo, Courier, monospace\", \"label_font_size\": 10, \"foreground_subtle\": \"rgba(0, 0, 0, .54)\", \"tooltip_font_size\": 14, \"font_family\": \"Consolas, \\\"Liberation Mono\\\", Menlo, Courier, monospace\", \"opacity\": \".7\", \"title_font_family\": \"Consolas, \\\"Liberation Mono\\\", Menlo, Courier, monospace\", \"value_background\": \"rgba(229, 229, 229, 1)\", \"value_font_size\": 16, \"value_font_family\": \"Consolas, \\\"Liberation Mono\\\", Menlo, Courier, monospace\", \"legend_font_size\": 14, \"legend_font_family\": \"Consolas, \\\"Liberation Mono\\\", Menlo, Courier, monospace\", \"plot_background\": \"rgba(255, 255, 255, 1)\", \"tooltip_font_family\": \"Consolas, \\\"Liberation Mono\\\", Menlo, Courier, monospace\", \"title_font_size\": 16, \"background\": \"rgba(249, 249, 249, 1)\"}, \"js\": [\"//kozea.github.io/pygal.js/2.0.x/pygal-tooltips.min.js\"], \"show_x_labels\": true, \"fill\": false, \"inverse_y_axis\": false, \"range\": null, \"width\": 800, \"show_y_labels\": true, \"spacing\": 10, \"dynamic_print_values\": false, \"y_labels\": null, \"secondary_range\": null, \"show_only_major_dots\": false, \"y_title\": null, \"interpolation_parameters\": {}, \"margin_left\": null, \"strict\": false, \"height\": 600, \"y_labels_major_every\": null, \"stroke_style\": null, \"x_labels_major_count\": null, \"print_values_position\": \"center\", \"css\": [\"file://style.css\", \"file://graph.css\"], \"include_x_axis\": false, \"zero\": 0, \"missing_value_fill_truncation\": \"x\", \"show_x_guides\": false, \"stroke\": true, \"no_prefix\": false, \"allow_interruptions\": false, \"order_min\": null, \"tooltip_fancy_mode\": true, \"pretty_print\": false, \"title\": null, \"x_title\": null, \"x_labels\": [\"\\ud83d\\ude08\", \"\\ud83d\\ude2d\", \"\\ud83d\\ude0a\", \"\\ud83d\\ude0f\", \"\\ud83d\\ude02\", \"\\ud83d\\udc96\", \"\\ud83d\\ude0d\", \"\\ud83c\\udf89\", \"\\ud83d\\ude18\", \"\\ud83d\\udc9c\", \"\\ud83c\\udf1f\", \"\\ud83d\\ude0e\", \"\\ud83d\\udc80\", \"\\ud83d\\ude29\"], \"x_label_rotation\": 0, \"show_minor_y_labels\": true, \"min_scale\": 4, \"show_legend\": true, \"print_labels\": false, \"margin\": 20, \"truncate_legend\": null, \"legend_at_bottom_columns\": null, \"show_dots\": true, \"truncate_label\": null, \"defs\": [], \"legend_box_size\": 12, \"margin_top\": null, \"legends\": [\"Negative\", \"Positive\"], \"half_pie\": false, \"interpolation_precision\": 250, \"margin_right\": null, \"print_zeroes\": true, \"max_scale\": 16, \"rounded_bars\": null, \"dots_size\": 2.5, \"y_labels_major\": null, \"show_minor_x_labels\": true, \"explicit_size\": false, \"x_labels_major\": null, \"no_data_text\": \"No data\", \"inner_radius\": 0, \"y_label_rotation\": 0}</script><script type=\"text/javascript\" xlink:href=\"https://kozea.github.io/pygal.js/2.0.x/pygal-tooltips.min.js\"/></defs><title>Pygal</title><g class=\"graph stackedbar-graph vertical\"><rect class=\"background\" height=\"600\" width=\"800\" x=\"0\" y=\"0\"/><g class=\"plot\" transform=\"translate(131, 20)\"><rect class=\"background\" height=\"540\" width=\"648.8\" x=\"0\" y=\"0\"/><g class=\"axis y\"><g class=\"guides\"><path class=\"axis major line\" d=\"M0.000000 529.615385 h648.800000\"/><text class=\"major\" x=\"-5\" y=\"533.1153846153846\">0</text><title>0</title></g><g class=\"guides\"><path class=\"guide line\" d=\"M0.000000 436.895604 h648.800000\"/><text class=\"\" x=\"-5\" y=\"440.3956043956044\">10</text><title>10</title></g><g class=\"guides\"><path class=\"guide line\" d=\"M0.000000 344.175824 h648.800000\"/><text class=\"\" x=\"-5\" y=\"347.6758241758241\">20</text><title>20</title></g><g class=\"guides\"><path class=\"guide line\" d=\"M0.000000 251.456044 h648.800000\"/><text class=\"\" x=\"-5\" y=\"254.95604395604397\">30</text><title>30</title></g><g class=\"guides\"><path class=\"guide line\" d=\"M0.000000 158.736264 h648.800000\"/><text class=\"\" x=\"-5\" y=\"162.2362637362637\">40</text><title>40</title></g><g class=\"guides\"><path class=\"major guide line\" d=\"M0.000000 66.016484 h648.800000\"/><text class=\"major\" x=\"-5\" y=\"69.5164835164835\">50</text><title>50</title></g></g><g class=\"axis x\"><path class=\"line\" d=\"M0.000000 0.000000 v540.000000\"/><g class=\"guides\"><path class=\"guide line\" d=\"M34.757143 0.000000 v540.000000\"/><text class=\"\" x=\"34.75714285714285\" y=\"555.0\">😈</text></g><g class=\"guides\"><path class=\"guide line\" d=\"M79.317582 0.000000 v540.000000\"/><text class=\"\" x=\"79.3175824175824\" y=\"555.0\">😭</text></g><g class=\"guides\"><path class=\"guide line\" d=\"M123.878022 0.000000 v540.000000\"/><text class=\"\" x=\"123.87802197802195\" y=\"555.0\">😊</text></g><g class=\"guides\"><path class=\"guide line\" d=\"M168.438462 0.000000 v540.000000\"/><text class=\"\" x=\"168.43846153846152\" y=\"555.0\">😏</text></g><g class=\"guides\"><path class=\"guide line\" d=\"M212.998901 0.000000 v540.000000\"/><text class=\"\" x=\"212.9989010989011\" y=\"555.0\">😂</text></g><g class=\"guides\"><path class=\"guide line\" d=\"M257.559341 0.000000 v540.000000\"/><text class=\"\" x=\"257.55934065934065\" y=\"555.0\">💖</text></g><g class=\"guides\"><path class=\"guide line\" d=\"M302.119780 0.000000 v540.000000\"/><text class=\"\" x=\"302.11978021978024\" y=\"555.0\">😍</text></g><g class=\"guides\"><path class=\"guide line\" d=\"M346.680220 0.000000 v540.000000\"/><text class=\"\" x=\"346.6802197802198\" y=\"555.0\">🎉</text></g><g class=\"guides\"><path class=\"guide line\" d=\"M391.240659 0.000000 v540.000000\"/><text class=\"\" x=\"391.24065934065925\" y=\"555.0\">😘</text></g><g class=\"guides\"><path class=\"guide line\" d=\"M435.801099 0.000000 v540.000000\"/><text class=\"\" x=\"435.8010989010989\" y=\"555.0\">💜</text></g><g class=\"guides\"><path class=\"guide line\" d=\"M480.361538 0.000000 v540.000000\"/><text class=\"\" x=\"480.36153846153843\" y=\"555.0\">🌟</text></g><g class=\"guides\"><path class=\"guide line\" d=\"M524.921978 0.000000 v540.000000\"/><text class=\"\" x=\"524.9219780219779\" y=\"555.0\">😎</text></g><g class=\"guides\"><path class=\"guide line\" d=\"M569.482418 0.000000 v540.000000\"/><text class=\"\" x=\"569.4824175824176\" y=\"555.0\">💀</text></g><g class=\"guides\"><path class=\"guide line\" d=\"M614.042857 0.000000 v540.000000\"/><text class=\"\" x=\"614.0428571428571\" y=\"555.0\">😩</text></g></g><g class=\"series serie-0 color-0\"><g class=\"bars\"><g class=\"bar\"><rect class=\"rect reactive tooltip-trigger\" height=\"37.087912087912116\" rx=\"0\" ry=\"0\" width=\"39.21318681318681\" x=\"15.150549450549448\" y=\"492.5274725274725\"/><desc class=\"value\">4</desc><desc class=\"x centered\">34.75714285714285</desc><desc class=\"y centered\">511.07142857142856</desc><desc class=\"x_label\">😈</desc></g><g class=\"bar\"><rect class=\"rect reactive tooltip-trigger\" height=\"361.6071428571429\" rx=\"0\" ry=\"0\" width=\"39.21318681318681\" x=\"59.71098901098901\" y=\"168.00824175824175\"/><desc class=\"value\">39</desc><desc class=\"x centered\">79.31758241758241</desc><desc class=\"y centered\">348.8118131868132</desc><desc class=\"x_label\">😭</desc></g><g class=\"bar\"><rect class=\"rect reactive tooltip-trigger\" height=\"111.26373626373629\" rx=\"0\" ry=\"0\" width=\"39.21318681318681\" x=\"104.27142857142856\" y=\"418.35164835164835\"/><desc class=\"value\">12</desc><desc class=\"x centered\">123.87802197802196</desc><desc class=\"y centered\">473.9835164835165</desc><desc class=\"x_label\">😊</desc></g><g class=\"bar\"><rect class=\"rect reactive tooltip-trigger\" height=\"9.271978021978043\" rx=\"0\" ry=\"0\" width=\"39.21318681318681\" x=\"148.8318681318681\" y=\"520.3434065934066\"/><desc class=\"value\">1</desc><desc class=\"x centered\">168.43846153846152</desc><desc class=\"y centered\">524.9793956043957</desc><desc class=\"x_label\">😏</desc></g><g class=\"bar\"><rect class=\"rect reactive tooltip-trigger\" height=\"370.87912087912093\" rx=\"0\" ry=\"0\" width=\"39.21318681318681\" x=\"193.3923076923077\" y=\"158.7362637362637\"/><desc class=\"value\">40</desc><desc class=\"x centered\">212.99890109890111</desc><desc class=\"y centered\">344.1758241758242</desc><desc class=\"x_label\">😂</desc></g><g class=\"bar\"><rect class=\"rect reactive tooltip-trigger\" height=\"83.44780219780222\" rx=\"0\" ry=\"0\" width=\"39.21318681318681\" x=\"237.95274725274726\" y=\"446.1675824175824\"/><desc class=\"value\">9</desc><desc class=\"x centered\">257.55934065934065</desc><desc class=\"y centered\">487.8914835164835</desc><desc class=\"x_label\">💖</desc></g><g class=\"bar\"><rect class=\"rect reactive tooltip-trigger\" height=\"185.43956043956052\" rx=\"0\" ry=\"0\" width=\"39.21318681318681\" x=\"282.51318681318673\" y=\"344.1758241758241\"/><desc class=\"value\">20</desc><desc class=\"x centered\">302.1197802197801</desc><desc class=\"y centered\">436.8956043956044</desc><desc class=\"x_label\">😍</desc></g><g class=\"bar\"><rect class=\"rect reactive tooltip-trigger\" height=\"18.543956043956086\" rx=\"0\" ry=\"0\" width=\"39.21318681318681\" x=\"327.0736263736263\" y=\"511.07142857142856\"/><desc class=\"value\">2</desc><desc class=\"x centered\">346.6802197802197</desc><desc class=\"y centered\">520.3434065934066</desc><desc class=\"x_label\">🎉</desc></g><g class=\"bar\"><rect class=\"rect reactive tooltip-trigger\" height=\"46.35989010989016\" rx=\"0\" ry=\"0\" width=\"39.21318681318681\" x=\"371.63406593406586\" y=\"483.2554945054945\"/><desc class=\"value\">5</desc><desc class=\"x centered\">391.24065934065925</desc><desc class=\"y centered\">506.4354395604396</desc><desc class=\"x_label\">😘</desc></g><g class=\"bar\"><rect class=\"rect reactive tooltip-trigger\" height=\"18.543956043956086\" rx=\"0\" ry=\"0\" width=\"39.21318681318681\" x=\"416.19450549450545\" y=\"511.07142857142856\"/><desc class=\"value\">2</desc><desc class=\"x centered\">435.80109890109884</desc><desc class=\"y centered\">520.3434065934066</desc><desc class=\"x_label\">💜</desc></g><g class=\"bar\"><rect class=\"rect reactive tooltip-trigger\" height=\"9.271978021978043\" rx=\"0\" ry=\"0\" width=\"39.21318681318681\" x=\"460.75494505494504\" y=\"520.3434065934066\"/><desc class=\"value\">1</desc><desc class=\"x centered\">480.36153846153843</desc><desc class=\"y centered\">524.9793956043957</desc><desc class=\"x_label\">🌟</desc></g><g class=\"bar\"><rect class=\"rect reactive tooltip-trigger\" height=\"9.271978021978043\" rx=\"0\" ry=\"0\" width=\"39.21318681318681\" x=\"505.3153846153845\" y=\"520.3434065934066\"/><desc class=\"value\">1</desc><desc class=\"x centered\">524.9219780219779</desc><desc class=\"y centered\">524.9793956043957</desc><desc class=\"x_label\">😎</desc></g><g class=\"bar\"><rect class=\"rect reactive tooltip-trigger\" height=\"27.81593406593413\" rx=\"0\" ry=\"0\" width=\"39.21318681318681\" x=\"549.875824175824\" y=\"501.7994505494505\"/><desc class=\"value\">3</desc><desc class=\"x centered\">569.4824175824175</desc><desc class=\"y centered\">515.7074175824175</desc><desc class=\"x_label\">💀</desc></g><g class=\"bar\"><rect class=\"rect reactive tooltip-trigger\" height=\"83.44780219780222\" rx=\"0\" ry=\"0\" width=\"39.21318681318681\" x=\"594.4362637362636\" y=\"446.1675824175824\"/><desc class=\"value\">9</desc><desc class=\"x centered\">614.0428571428571</desc><desc class=\"y centered\">487.8914835164835</desc><desc class=\"x_label\">😩</desc></g></g></g><g class=\"series serie-1 color-1\"><g class=\"bars\"><g class=\"bar\"><rect class=\"rect reactive tooltip-trigger\" height=\"64.90384615384613\" rx=\"0\" ry=\"0\" width=\"39.21318681318681\" x=\"15.150549450549448\" y=\"427.6236263736264\"/><desc class=\"value\">7</desc><desc class=\"x centered\">34.75714285714285</desc><desc class=\"y centered\">460.0755494505495</desc><desc class=\"x_label\">😈</desc></g><g class=\"bar\"><rect class=\"rect reactive tooltip-trigger\" height=\"64.90384615384619\" rx=\"0\" ry=\"0\" width=\"39.21318681318681\" x=\"59.71098901098901\" y=\"103.10439560439556\"/><desc class=\"value\">7</desc><desc class=\"x centered\">79.31758241758241</desc><desc class=\"y centered\">135.55631868131866</desc><desc class=\"x_label\">😭</desc></g><g class=\"bar\"><rect class=\"rect reactive tooltip-trigger\" height=\"92.71978021978026\" rx=\"0\" ry=\"0\" width=\"39.21318681318681\" x=\"104.27142857142856\" y=\"325.6318681318681\"/><desc class=\"value\">10</desc><desc class=\"x centered\">123.87802197802196</desc><desc class=\"y centered\">371.99175824175825</desc><desc class=\"x_label\">😊</desc></g><g class=\"bar\"><rect class=\"rect reactive tooltip-trigger\" height=\"83.44780219780222\" rx=\"0\" ry=\"0\" width=\"39.21318681318681\" x=\"148.8318681318681\" y=\"436.8956043956044\"/><desc class=\"value\">9</desc><desc class=\"x centered\">168.43846153846152</desc><desc class=\"y centered\">478.61950549450546</desc><desc class=\"x_label\">😏</desc></g><g class=\"bar\"><rect class=\"rect reactive tooltip-trigger\" height=\"148.35164835164835\" rx=\"0\" ry=\"0\" width=\"39.21318681318681\" x=\"193.3923076923077\" y=\"10.384615384615358\"/><desc class=\"value\">16</desc><desc class=\"x centered\">212.99890109890111</desc><desc class=\"y centered\">84.56043956043953</desc><desc class=\"x_label\">😂</desc></g><g class=\"bar\"><rect class=\"rect reactive tooltip-trigger\" height=\"83.44780219780222\" rx=\"0\" ry=\"0\" width=\"39.21318681318681\" x=\"237.95274725274726\" y=\"362.7197802197802\"/><desc class=\"value\">9</desc><desc class=\"x centered\">257.55934065934065</desc><desc class=\"y centered\">404.44368131868134</desc><desc class=\"x_label\">💖</desc></g><g class=\"bar\"><rect class=\"rect reactive tooltip-trigger\" height=\"111.26373626373623\" rx=\"0\" ry=\"0\" width=\"39.21318681318681\" x=\"282.51318681318673\" y=\"232.91208791208788\"/><desc class=\"value\">12</desc><desc class=\"x centered\">302.1197802197801</desc><desc class=\"y centered\">288.543956043956</desc><desc class=\"x_label\">😍</desc></g><g class=\"bar\"><rect class=\"rect reactive tooltip-trigger\" height=\"139.0796703296703\" rx=\"0\" ry=\"0\" width=\"39.21318681318681\" x=\"327.0736263736263\" y=\"371.99175824175825\"/><desc class=\"value\">15</desc><desc class=\"x centered\">346.6802197802197</desc><desc class=\"y centered\">441.5315934065934</desc><desc class=\"x_label\">🎉</desc></g><g class=\"bar\"><rect class=\"rect reactive tooltip-trigger\" height=\"55.63186813186809\" rx=\"0\" ry=\"0\" width=\"39.21318681318681\" x=\"371.63406593406586\" y=\"427.6236263736264\"/><desc class=\"value\">6</desc><desc class=\"x centered\">391.24065934065925</desc><desc class=\"y centered\">455.4395604395604</desc><desc class=\"x_label\">😘</desc></g><g class=\"bar\"><rect class=\"rect reactive tooltip-trigger\" height=\"55.631868131868146\" rx=\"0\" ry=\"0\" width=\"39.21318681318681\" x=\"416.19450549450545\" y=\"455.4395604395604\"/><desc class=\"value\">6</desc><desc class=\"x centered\">435.80109890109884</desc><desc class=\"y centered\">483.2554945054945</desc><desc class=\"x_label\">💜</desc></g><g class=\"bar\"><rect class=\"rect reactive tooltip-trigger\" height=\"55.631868131868146\" rx=\"0\" ry=\"0\" width=\"39.21318681318681\" x=\"460.75494505494504\" y=\"464.71153846153845\"/><desc class=\"value\">6</desc><desc class=\"x centered\">480.36153846153843</desc><desc class=\"y centered\">492.5274725274725</desc><desc class=\"x_label\">🌟</desc></g><g class=\"bar\"><rect class=\"rect reactive tooltip-trigger\" height=\"64.90384615384619\" rx=\"0\" ry=\"0\" width=\"39.21318681318681\" x=\"505.3153846153845\" y=\"455.4395604395604\"/><desc class=\"value\">7</desc><desc class=\"x centered\">524.9219780219779</desc><desc class=\"y centered\">487.8914835164835</desc><desc class=\"x_label\">😎</desc></g><g class=\"bar\"><rect class=\"rect reactive tooltip-trigger\" height=\"111.26373626373629\" rx=\"0\" ry=\"0\" width=\"39.21318681318681\" x=\"549.875824175824\" y=\"390.5357142857142\"/><desc class=\"value\">12</desc><desc class=\"x centered\">569.4824175824175</desc><desc class=\"y centered\">446.16758241758237</desc><desc class=\"x_label\">💀</desc></g><g class=\"bar\"><rect class=\"rect reactive tooltip-trigger\" height=\"64.90384615384619\" rx=\"0\" ry=\"0\" width=\"39.21318681318681\" x=\"594.4362637362636\" y=\"381.26373626373623\"/><desc class=\"value\">7</desc><desc class=\"x centered\">614.0428571428571</desc><desc class=\"y centered\">413.71565934065933</desc><desc class=\"x_label\">😩</desc></g></g></g></g><g class=\"titles\"/><g class=\"plot overlay\" transform=\"translate(131, 20)\"><g class=\"series serie-0 color-0\"/><g class=\"series serie-1 color-1\"/></g><g class=\"plot text-overlay\" transform=\"translate(131, 20)\"><g class=\"series serie-0 color-0\"/><g class=\"series serie-1 color-1\"/></g><g class=\"plot tooltip-overlay\" transform=\"translate(131, 20)\"><g class=\"tooltip\" style=\"opacity: 0\" transform=\"translate(0 0)\"><rect class=\"tooltip-box\" height=\"0\" rx=\"0\" ry=\"0\" width=\"0\"/><g class=\"text\"/></g></g><g class=\"legends\" transform=\"translate(10, 30)\"><g class=\"legend reactive activate-serie\" id=\"activate-serie-0\"><rect class=\"color-0 reactive\" height=\"12\" width=\"12\" x=\"0.0\" y=\"1.0\"/><text x=\"17.0\" y=\"11.2\">Negative</text></g><g class=\"legend reactive activate-serie\" id=\"activate-serie-1\"><rect class=\"color-1 reactive\" height=\"12\" width=\"12\" x=\"0.0\" y=\"22.0\"/><text x=\"17.0\" y=\"32.2\">Positive</text></g></g><g class=\"legends\" transform=\"translate(790, 30)\"/></g></svg>"
      ],
      "text/plain": [
       "<pygal.graph.stackedbar.StackedBar at 0x112bbaf60>"
      ]
     },
     "execution_count": 513,
     "metadata": {},
     "output_type": "execute_result"
    }
   ],
   "source": [
    "emoji_chart"
   ]
  },
  {
   "cell_type": "markdown",
   "metadata": {
    "slideshow": {
     "slide_type": "slide"
    }
   },
   "source": [
    "# Beyond NLTK & Tying Things Up"
   ]
  },
  {
   "cell_type": "markdown",
   "metadata": {
    "collapsed": false,
    "slideshow": {
     "slide_type": "notes"
    }
   },
   "source": [
    "That was an introduction to NLP, whilst it's a very broad topic, I hope that this has shown that it can be a fun \n",
    "topic, which isn't too intimidating or hard to pick up. You can easily do a small little project, and work\n",
    "with building blocks.\n",
    "\n",
    "But there's also so much more! There's lots going on at the moment.\n",
    "\n",
    "My favourite recent NLP library in Python is spaCy. It's open source, and in active development. It features a tokenizer, POS tagger and a Named Entity Recogniser.\n",
    "\n",
    "You also probably heard of \"Parsey McParseface\" in the news lately; Google's recent dependency parsing library.\n",
    "\n",
    "Also other big libraries such as scikit learn, which implement various NLP algorithms and are often faster than NLTK."
   ]
  },
  {
   "cell_type": "markdown",
   "metadata": {
    "slideshow": {
     "slide_type": "slide"
    }
   },
   "source": [
    "# Links to Slides & Code"
   ]
  },
  {
   "cell_type": "markdown",
   "metadata": {
    "collapsed": true
   },
   "source": [
    "https://github.com/jessbrandwatch/intro-to-nlp/blob/master/notes.ipynb"
   ]
  },
  {
   "cell_type": "code",
   "execution_count": null,
   "metadata": {
    "collapsed": true
   },
   "outputs": [],
   "source": []
  }
 ],
 "metadata": {
  "celltoolbar": "Slideshow",
  "kernelspec": {
   "display_name": "Python 3",
   "language": "python",
   "name": "python3"
  },
  "language_info": {
   "codemirror_mode": {
    "name": "ipython",
    "version": 3
   },
   "file_extension": ".py",
   "mimetype": "text/x-python",
   "name": "python",
   "nbconvert_exporter": "python",
   "pygments_lexer": "ipython3",
   "version": "3.4.3"
  }
 },
 "nbformat": 4,
 "nbformat_minor": 0
}
